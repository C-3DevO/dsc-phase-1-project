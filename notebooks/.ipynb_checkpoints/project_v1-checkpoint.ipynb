{
 "cells": [
  {
   "cell_type": "code",
   "execution_count": 1,
   "metadata": {
    "id": "eyHZBSY4wl0n"
   },
   "outputs": [],
   "source": [
    "#Importing the required libraries\n",
    "import pandas as pd\n",
    "import numpy as np\n",
    "import matplotlib.pyplot as plt\n",
    "import seaborn as sns\n",
    "%matplotlib inline"
   ]
  },
  {
   "cell_type": "code",
   "execution_count": 2,
   "metadata": {},
   "outputs": [
    {
     "name": "stdout",
     "output_type": "stream",
     "text": [
      "C:\\Users\\ADMIN\\Documents\\MORINGA\\PROJECT\\dsc-phase-1-project\\notebooks\n"
     ]
    }
   ],
   "source": [
    "import os\n",
    "print(os.getcwd())"
   ]
  },
  {
   "cell_type": "code",
   "execution_count": 3,
   "metadata": {
    "colab": {
     "base_uri": "https://localhost:8080/",
     "height": 377
    },
    "id": "-A1_WFUvw63O",
    "outputId": "bba3a588-e692-4241-b286-dba0972e45c8"
   },
   "outputs": [
    {
     "data": {
      "text/html": [
       "<div>\n",
       "<style scoped>\n",
       "    .dataframe tbody tr th:only-of-type {\n",
       "        vertical-align: middle;\n",
       "    }\n",
       "\n",
       "    .dataframe tbody tr th {\n",
       "        vertical-align: top;\n",
       "    }\n",
       "\n",
       "    .dataframe thead th {\n",
       "        text-align: right;\n",
       "    }\n",
       "</style>\n",
       "<table border=\"1\" class=\"dataframe\">\n",
       "  <thead>\n",
       "    <tr style=\"text-align: right;\">\n",
       "      <th></th>\n",
       "      <th>Event.Id</th>\n",
       "      <th>Investigation.Type</th>\n",
       "      <th>Accident.Number</th>\n",
       "      <th>Event.Date</th>\n",
       "      <th>Location</th>\n",
       "      <th>Country</th>\n",
       "      <th>Latitude</th>\n",
       "      <th>Longitude</th>\n",
       "      <th>Airport.Code</th>\n",
       "      <th>Airport.Name</th>\n",
       "      <th>...</th>\n",
       "      <th>Purpose.of.flight</th>\n",
       "      <th>Air.carrier</th>\n",
       "      <th>Total.Fatal.Injuries</th>\n",
       "      <th>Total.Serious.Injuries</th>\n",
       "      <th>Total.Minor.Injuries</th>\n",
       "      <th>Total.Uninjured</th>\n",
       "      <th>Weather.Condition</th>\n",
       "      <th>Broad.phase.of.flight</th>\n",
       "      <th>Report.Status</th>\n",
       "      <th>Publication.Date</th>\n",
       "    </tr>\n",
       "  </thead>\n",
       "  <tbody>\n",
       "    <tr>\n",
       "      <th>0</th>\n",
       "      <td>20001218X45444</td>\n",
       "      <td>Accident</td>\n",
       "      <td>SEA87LA080</td>\n",
       "      <td>1948-10-24</td>\n",
       "      <td>MOOSE CREEK, ID</td>\n",
       "      <td>United States</td>\n",
       "      <td>NaN</td>\n",
       "      <td>NaN</td>\n",
       "      <td>NaN</td>\n",
       "      <td>NaN</td>\n",
       "      <td>...</td>\n",
       "      <td>Personal</td>\n",
       "      <td>NaN</td>\n",
       "      <td>2.0</td>\n",
       "      <td>0.0</td>\n",
       "      <td>0.0</td>\n",
       "      <td>0.0</td>\n",
       "      <td>UNK</td>\n",
       "      <td>Cruise</td>\n",
       "      <td>Probable Cause</td>\n",
       "      <td>NaN</td>\n",
       "    </tr>\n",
       "    <tr>\n",
       "      <th>1</th>\n",
       "      <td>20001218X45447</td>\n",
       "      <td>Accident</td>\n",
       "      <td>LAX94LA336</td>\n",
       "      <td>1962-07-19</td>\n",
       "      <td>BRIDGEPORT, CA</td>\n",
       "      <td>United States</td>\n",
       "      <td>NaN</td>\n",
       "      <td>NaN</td>\n",
       "      <td>NaN</td>\n",
       "      <td>NaN</td>\n",
       "      <td>...</td>\n",
       "      <td>Personal</td>\n",
       "      <td>NaN</td>\n",
       "      <td>4.0</td>\n",
       "      <td>0.0</td>\n",
       "      <td>0.0</td>\n",
       "      <td>0.0</td>\n",
       "      <td>UNK</td>\n",
       "      <td>Unknown</td>\n",
       "      <td>Probable Cause</td>\n",
       "      <td>19-09-1996</td>\n",
       "    </tr>\n",
       "    <tr>\n",
       "      <th>2</th>\n",
       "      <td>20061025X01555</td>\n",
       "      <td>Accident</td>\n",
       "      <td>NYC07LA005</td>\n",
       "      <td>1974-08-30</td>\n",
       "      <td>Saltville, VA</td>\n",
       "      <td>United States</td>\n",
       "      <td>36.922223</td>\n",
       "      <td>-81.878056</td>\n",
       "      <td>NaN</td>\n",
       "      <td>NaN</td>\n",
       "      <td>...</td>\n",
       "      <td>Personal</td>\n",
       "      <td>NaN</td>\n",
       "      <td>3.0</td>\n",
       "      <td>NaN</td>\n",
       "      <td>NaN</td>\n",
       "      <td>NaN</td>\n",
       "      <td>IMC</td>\n",
       "      <td>Cruise</td>\n",
       "      <td>Probable Cause</td>\n",
       "      <td>26-02-2007</td>\n",
       "    </tr>\n",
       "    <tr>\n",
       "      <th>3</th>\n",
       "      <td>20001218X45448</td>\n",
       "      <td>Accident</td>\n",
       "      <td>LAX96LA321</td>\n",
       "      <td>1977-06-19</td>\n",
       "      <td>EUREKA, CA</td>\n",
       "      <td>United States</td>\n",
       "      <td>NaN</td>\n",
       "      <td>NaN</td>\n",
       "      <td>NaN</td>\n",
       "      <td>NaN</td>\n",
       "      <td>...</td>\n",
       "      <td>Personal</td>\n",
       "      <td>NaN</td>\n",
       "      <td>2.0</td>\n",
       "      <td>0.0</td>\n",
       "      <td>0.0</td>\n",
       "      <td>0.0</td>\n",
       "      <td>IMC</td>\n",
       "      <td>Cruise</td>\n",
       "      <td>Probable Cause</td>\n",
       "      <td>12-09-2000</td>\n",
       "    </tr>\n",
       "    <tr>\n",
       "      <th>4</th>\n",
       "      <td>20041105X01764</td>\n",
       "      <td>Accident</td>\n",
       "      <td>CHI79FA064</td>\n",
       "      <td>1979-08-02</td>\n",
       "      <td>Canton, OH</td>\n",
       "      <td>United States</td>\n",
       "      <td>NaN</td>\n",
       "      <td>NaN</td>\n",
       "      <td>NaN</td>\n",
       "      <td>NaN</td>\n",
       "      <td>...</td>\n",
       "      <td>Personal</td>\n",
       "      <td>NaN</td>\n",
       "      <td>1.0</td>\n",
       "      <td>2.0</td>\n",
       "      <td>NaN</td>\n",
       "      <td>0.0</td>\n",
       "      <td>VMC</td>\n",
       "      <td>Approach</td>\n",
       "      <td>Probable Cause</td>\n",
       "      <td>16-04-1980</td>\n",
       "    </tr>\n",
       "  </tbody>\n",
       "</table>\n",
       "<p>5 rows × 31 columns</p>\n",
       "</div>"
      ],
      "text/plain": [
       "         Event.Id Investigation.Type Accident.Number  Event.Date  \\\n",
       "0  20001218X45444           Accident      SEA87LA080  1948-10-24   \n",
       "1  20001218X45447           Accident      LAX94LA336  1962-07-19   \n",
       "2  20061025X01555           Accident      NYC07LA005  1974-08-30   \n",
       "3  20001218X45448           Accident      LAX96LA321  1977-06-19   \n",
       "4  20041105X01764           Accident      CHI79FA064  1979-08-02   \n",
       "\n",
       "          Location        Country   Latitude   Longitude Airport.Code  \\\n",
       "0  MOOSE CREEK, ID  United States        NaN         NaN          NaN   \n",
       "1   BRIDGEPORT, CA  United States        NaN         NaN          NaN   \n",
       "2    Saltville, VA  United States  36.922223  -81.878056          NaN   \n",
       "3       EUREKA, CA  United States        NaN         NaN          NaN   \n",
       "4       Canton, OH  United States        NaN         NaN          NaN   \n",
       "\n",
       "  Airport.Name  ... Purpose.of.flight Air.carrier Total.Fatal.Injuries  \\\n",
       "0          NaN  ...          Personal         NaN                  2.0   \n",
       "1          NaN  ...          Personal         NaN                  4.0   \n",
       "2          NaN  ...          Personal         NaN                  3.0   \n",
       "3          NaN  ...          Personal         NaN                  2.0   \n",
       "4          NaN  ...          Personal         NaN                  1.0   \n",
       "\n",
       "  Total.Serious.Injuries Total.Minor.Injuries Total.Uninjured  \\\n",
       "0                    0.0                  0.0             0.0   \n",
       "1                    0.0                  0.0             0.0   \n",
       "2                    NaN                  NaN             NaN   \n",
       "3                    0.0                  0.0             0.0   \n",
       "4                    2.0                  NaN             0.0   \n",
       "\n",
       "  Weather.Condition  Broad.phase.of.flight   Report.Status Publication.Date  \n",
       "0               UNK                 Cruise  Probable Cause              NaN  \n",
       "1               UNK                Unknown  Probable Cause       19-09-1996  \n",
       "2               IMC                 Cruise  Probable Cause       26-02-2007  \n",
       "3               IMC                 Cruise  Probable Cause       12-09-2000  \n",
       "4               VMC               Approach  Probable Cause       16-04-1980  \n",
       "\n",
       "[5 rows x 31 columns]"
      ]
     },
     "execution_count": 3,
     "metadata": {},
     "output_type": "execute_result"
    }
   ],
   "source": [
    "df = pd.read_csv('../data/AviationData.csv', encoding='latin1', low_memory=False)\n",
    "df.head()"
   ]
  },
  {
   "cell_type": "code",
   "execution_count": 4,
   "metadata": {
    "colab": {
     "base_uri": "https://localhost:8080/"
    },
    "id": "rAEGtU9o0NMJ",
    "outputId": "b4e75041-57e3-412d-ab2d-0345c5aa3136"
   },
   "outputs": [
    {
     "data": {
      "text/plain": [
       "Index(['Event.Id', 'Investigation.Type', 'Accident.Number', 'Event.Date',\n",
       "       'Location', 'Country', 'Latitude', 'Longitude', 'Airport.Code',\n",
       "       'Airport.Name', 'Injury.Severity', 'Aircraft.damage',\n",
       "       'Aircraft.Category', 'Registration.Number', 'Make', 'Model',\n",
       "       'Amateur.Built', 'Number.of.Engines', 'Engine.Type', 'FAR.Description',\n",
       "       'Schedule', 'Purpose.of.flight', 'Air.carrier', 'Total.Fatal.Injuries',\n",
       "       'Total.Serious.Injuries', 'Total.Minor.Injuries', 'Total.Uninjured',\n",
       "       'Weather.Condition', 'Broad.phase.of.flight', 'Report.Status',\n",
       "       'Publication.Date'],\n",
       "      dtype='object')"
      ]
     },
     "execution_count": 4,
     "metadata": {},
     "output_type": "execute_result"
    }
   ],
   "source": [
    "df.columns"
   ]
  },
  {
   "cell_type": "code",
   "execution_count": 5,
   "metadata": {
    "colab": {
     "base_uri": "https://localhost:8080/"
    },
    "id": "3nGWslNCxfo4",
    "outputId": "7e5634c8-cd44-43a7-8b33-918083f0a1be"
   },
   "outputs": [
    {
     "name": "stdout",
     "output_type": "stream",
     "text": [
      "<class 'pandas.core.frame.DataFrame'>\n",
      "RangeIndex: 88889 entries, 0 to 88888\n",
      "Data columns (total 31 columns):\n",
      " #   Column                  Non-Null Count  Dtype  \n",
      "---  ------                  --------------  -----  \n",
      " 0   Event.Id                88889 non-null  object \n",
      " 1   Investigation.Type      88889 non-null  object \n",
      " 2   Accident.Number         88889 non-null  object \n",
      " 3   Event.Date              88889 non-null  object \n",
      " 4   Location                88837 non-null  object \n",
      " 5   Country                 88663 non-null  object \n",
      " 6   Latitude                34382 non-null  object \n",
      " 7   Longitude               34373 non-null  object \n",
      " 8   Airport.Code            50249 non-null  object \n",
      " 9   Airport.Name            52790 non-null  object \n",
      " 10  Injury.Severity         87889 non-null  object \n",
      " 11  Aircraft.damage         85695 non-null  object \n",
      " 12  Aircraft.Category       32287 non-null  object \n",
      " 13  Registration.Number     87572 non-null  object \n",
      " 14  Make                    88826 non-null  object \n",
      " 15  Model                   88797 non-null  object \n",
      " 16  Amateur.Built           88787 non-null  object \n",
      " 17  Number.of.Engines       82805 non-null  float64\n",
      " 18  Engine.Type             81812 non-null  object \n",
      " 19  FAR.Description         32023 non-null  object \n",
      " 20  Schedule                12582 non-null  object \n",
      " 21  Purpose.of.flight       82697 non-null  object \n",
      " 22  Air.carrier             16648 non-null  object \n",
      " 23  Total.Fatal.Injuries    77488 non-null  float64\n",
      " 24  Total.Serious.Injuries  76379 non-null  float64\n",
      " 25  Total.Minor.Injuries    76956 non-null  float64\n",
      " 26  Total.Uninjured         82977 non-null  float64\n",
      " 27  Weather.Condition       84397 non-null  object \n",
      " 28  Broad.phase.of.flight   61724 non-null  object \n",
      " 29  Report.Status           82508 non-null  object \n",
      " 30  Publication.Date        75118 non-null  object \n",
      "dtypes: float64(5), object(26)\n",
      "memory usage: 21.0+ MB\n"
     ]
    }
   ],
   "source": [
    "df.info()"
   ]
  },
  {
   "cell_type": "code",
   "execution_count": 6,
   "metadata": {},
   "outputs": [
    {
     "data": {
      "text/plain": [
       "Event.Id                   0.000000\n",
       "Investigation.Type         0.000000\n",
       "Accident.Number            0.000000\n",
       "Event.Date                 0.000000\n",
       "Location                   0.058500\n",
       "Country                    0.254250\n",
       "Latitude                  61.320298\n",
       "Longitude                 61.330423\n",
       "Airport.Code              43.469946\n",
       "Airport.Name              40.611324\n",
       "Injury.Severity            1.124999\n",
       "Aircraft.damage            3.593246\n",
       "Aircraft.Category         63.677170\n",
       "Registration.Number        1.481623\n",
       "Make                       0.070875\n",
       "Model                      0.103500\n",
       "Amateur.Built              0.114750\n",
       "Number.of.Engines          6.844491\n",
       "Engine.Type                7.961615\n",
       "FAR.Description           63.974170\n",
       "Schedule                  85.845268\n",
       "Purpose.of.flight          6.965991\n",
       "Air.carrier               81.271023\n",
       "Total.Fatal.Injuries      12.826109\n",
       "Total.Serious.Injuries    14.073732\n",
       "Total.Minor.Injuries      13.424608\n",
       "Total.Uninjured            6.650992\n",
       "Weather.Condition          5.053494\n",
       "Broad.phase.of.flight     30.560587\n",
       "Report.Status              7.178616\n",
       "Publication.Date          15.492356\n",
       "dtype: float64"
      ]
     },
     "execution_count": 6,
     "metadata": {},
     "output_type": "execute_result"
    }
   ],
   "source": [
    "df.isna().mean()*100"
   ]
  },
  {
   "cell_type": "markdown",
   "metadata": {},
   "source": [
    "**The columns Air.carrier and Schedule contain more than 80% null values. Need to drop them since any analysis on them will not be a representation of the dataset**"
   ]
  },
  {
   "cell_type": "code",
   "execution_count": 7,
   "metadata": {},
   "outputs": [
    {
     "data": {
      "text/plain": [
       "Event.Id                   0.000000\n",
       "Investigation.Type         0.000000\n",
       "Accident.Number            0.000000\n",
       "Event.Date                 0.000000\n",
       "Location                   0.058500\n",
       "Country                    0.254250\n",
       "Latitude                  61.320298\n",
       "Longitude                 61.330423\n",
       "Airport.Code              43.469946\n",
       "Airport.Name              40.611324\n",
       "Injury.Severity            1.124999\n",
       "Aircraft.damage            3.593246\n",
       "Aircraft.Category         63.677170\n",
       "Registration.Number        1.481623\n",
       "Make                       0.070875\n",
       "Model                      0.103500\n",
       "Amateur.Built              0.114750\n",
       "Number.of.Engines          6.844491\n",
       "Engine.Type                7.961615\n",
       "FAR.Description           63.974170\n",
       "Purpose.of.flight          6.965991\n",
       "Total.Fatal.Injuries      12.826109\n",
       "Total.Serious.Injuries    14.073732\n",
       "Total.Minor.Injuries      13.424608\n",
       "Total.Uninjured            6.650992\n",
       "Weather.Condition          5.053494\n",
       "Broad.phase.of.flight     30.560587\n",
       "Report.Status              7.178616\n",
       "Publication.Date          15.492356\n",
       "dtype: float64"
      ]
     },
     "execution_count": 7,
     "metadata": {},
     "output_type": "execute_result"
    }
   ],
   "source": [
    "df.drop(columns=['Schedule','Air.carrier'], inplace=True)\n",
    "df.isna().mean()*100"
   ]
  },
  {
   "cell_type": "code",
   "execution_count": 8,
   "metadata": {},
   "outputs": [
    {
     "data": {
      "text/plain": [
       "array([nan, 'Part 129: Foreign', 'Part 91: General Aviation',\n",
       "       'Part 135: Air Taxi & Commuter', 'Part 125: 20+ Pax,6000+ lbs',\n",
       "       'Part 121: Air Carrier', 'Part 137: Agricultural',\n",
       "       'Part 133: Rotorcraft Ext. Load', 'Unknown',\n",
       "       'Part 91F: Special Flt Ops.', 'Non-U.S., Non-Commercial',\n",
       "       'Public Aircraft', 'Non-U.S., Commercial', 'Public Use',\n",
       "       'Armed Forces', 'Part 91 Subpart K: Fractional', '091', 'NUSC',\n",
       "       '135', 'NUSN', '121', '137', '129', '133', '091K', 'UNK', 'PUBU',\n",
       "       'ARMF', '103', '125', '437', '107'], dtype=object)"
      ]
     },
     "execution_count": 8,
     "metadata": {},
     "output_type": "execute_result"
    }
   ],
   "source": [
    "df['FAR.Description'].unique()"
   ]
  },
  {
   "cell_type": "code",
   "execution_count": 9,
   "metadata": {},
   "outputs": [
    {
     "data": {
      "text/plain": [
       "array(['Personal', nan, 'Business', 'Instructional', 'Unknown', 'Ferry',\n",
       "       'Executive/corporate', 'Aerial Observation', 'Aerial Application',\n",
       "       'Public Aircraft', 'Skydiving', 'Other Work Use', 'Positioning',\n",
       "       'Flight Test', 'Air Race/show', 'Air Drop',\n",
       "       'Public Aircraft - Federal', 'Glider Tow',\n",
       "       'Public Aircraft - Local', 'External Load',\n",
       "       'Public Aircraft - State', 'Banner Tow', 'Firefighting',\n",
       "       'Air Race show', 'PUBS', 'ASHO', 'PUBL'], dtype=object)"
      ]
     },
     "execution_count": 9,
     "metadata": {},
     "output_type": "execute_result"
    }
   ],
   "source": [
    "df['Purpose.of.flight'].unique()"
   ]
  },
  {
   "cell_type": "markdown",
   "metadata": {},
   "source": [
    "**FAR.Description column contains 63% null values. \n",
    "Even though it provides the type of flight operation based on Federal Aviation Regulations (FARs)\n",
    "which are applied in classifying how aircrafts are used be it commercial, military, agricultural.\n",
    "This information is can be obtained from the purpose of flight. Furthermore, working with the column FAR.Description will need\n",
    "use to do mapping of the codes i.e. 137 represents agricultural**"
   ]
  },
  {
   "cell_type": "code",
   "execution_count": 10,
   "metadata": {},
   "outputs": [
    {
     "data": {
      "text/plain": [
       "Event.Id                   0.000000\n",
       "Investigation.Type         0.000000\n",
       "Accident.Number            0.000000\n",
       "Event.Date                 0.000000\n",
       "Location                   0.058500\n",
       "Country                    0.254250\n",
       "Latitude                  61.320298\n",
       "Longitude                 61.330423\n",
       "Airport.Code              43.469946\n",
       "Airport.Name              40.611324\n",
       "Injury.Severity            1.124999\n",
       "Aircraft.damage            3.593246\n",
       "Aircraft.Category         63.677170\n",
       "Registration.Number        1.481623\n",
       "Make                       0.070875\n",
       "Model                      0.103500\n",
       "Amateur.Built              0.114750\n",
       "Number.of.Engines          6.844491\n",
       "Engine.Type                7.961615\n",
       "Purpose.of.flight          6.965991\n",
       "Total.Fatal.Injuries      12.826109\n",
       "Total.Serious.Injuries    14.073732\n",
       "Total.Minor.Injuries      13.424608\n",
       "Total.Uninjured            6.650992\n",
       "Weather.Condition          5.053494\n",
       "Broad.phase.of.flight     30.560587\n",
       "Report.Status              7.178616\n",
       "Publication.Date          15.492356\n",
       "dtype: float64"
      ]
     },
     "execution_count": 10,
     "metadata": {},
     "output_type": "execute_result"
    }
   ],
   "source": [
    "#dropping the column 'FAR.Description'\n",
    "df.drop(columns = ['FAR.Description'], inplace = True)\n",
    "df.isna().mean()*100"
   ]
  },
  {
   "cell_type": "code",
   "execution_count": 11,
   "metadata": {},
   "outputs": [
    {
     "data": {
      "text/plain": [
       "array([nan, 'Airplane', 'Helicopter', 'Glider', 'Balloon', 'Gyrocraft',\n",
       "       'Ultralight', 'Unknown', 'Blimp', 'Powered-Lift', 'Weight-Shift',\n",
       "       'Powered Parachute', 'Rocket', 'WSFT', 'UNK', 'ULTR'], dtype=object)"
      ]
     },
     "execution_count": 11,
     "metadata": {},
     "output_type": "execute_result"
    }
   ],
   "source": [
    "df['Aircraft.Category'].unique()"
   ]
  },
  {
   "cell_type": "code",
   "execution_count": 12,
   "metadata": {},
   "outputs": [
    {
     "data": {
      "text/plain": [
       "Airplane             27617\n",
       "Helicopter            3440\n",
       "Glider                 508\n",
       "Balloon                231\n",
       "Gyrocraft              173\n",
       "Weight-Shift           161\n",
       "Powered Parachute       91\n",
       "Ultralight              30\n",
       "Unknown                 14\n",
       "WSFT                     9\n",
       "Powered-Lift             5\n",
       "Blimp                    4\n",
       "UNK                      2\n",
       "ULTR                     1\n",
       "Rocket                   1\n",
       "Name: Aircraft.Category, dtype: int64"
      ]
     },
     "execution_count": 12,
     "metadata": {},
     "output_type": "execute_result"
    }
   ],
   "source": [
    "df['Aircraft.Category'].value_counts()"
   ]
  },
  {
   "cell_type": "code",
   "execution_count": 13,
   "metadata": {},
   "outputs": [
    {
     "name": "stdout",
     "output_type": "stream",
     "text": [
      "Unique values in column 'Event.Id':\n",
      "['20001218X45444' '20001218X45447' '20061025X01555' ... '20221227106497'\n",
      " '20221227106498' '20221230106513']\n",
      "\n",
      "********\n",
      "Unique values in column 'Investigation.Type':\n",
      "['Accident' 'Incident']\n",
      "\n",
      "********\n",
      "Unique values in column 'Accident.Number':\n",
      "['SEA87LA080' 'LAX94LA336' 'NYC07LA005' ... 'WPR23LA075' 'WPR23LA076'\n",
      " 'ERA23LA097']\n",
      "\n",
      "********\n",
      "Unique values in column 'Event.Date':\n",
      "['1948-10-24' '1962-07-19' '1974-08-30' ... '2022-12-22' '2022-12-26'\n",
      " '2022-12-29']\n",
      "\n",
      "********\n",
      "Unique values in column 'Location':\n",
      "['MOOSE CREEK, ID' 'BRIDGEPORT, CA' 'Saltville, VA' ... 'San Manual, AZ'\n",
      " 'Auburn Hills, MI' 'Brasnorte, ']\n",
      "\n",
      "********\n",
      "Unique values in column 'Country':\n",
      "['United States' nan 'GULF OF MEXICO' 'Puerto Rico' 'ATLANTIC OCEAN'\n",
      " 'HIGH ISLAND' 'Bahamas' 'MISSING' 'Pakistan' 'Angola' 'Germany'\n",
      " 'Korea, Republic Of' 'Martinique' 'American Samoa' 'PACIFIC OCEAN'\n",
      " 'Canada' 'Bolivia' 'Mexico' 'Dominica' 'Netherlands Antilles' 'Iceland'\n",
      " 'Greece' 'Guam' 'Australia' 'CARIBBEAN SEA' 'West Indies' 'Japan'\n",
      " 'Philippines' 'Venezuela' 'Bermuda' 'San Juan Islands' 'Colombia'\n",
      " 'El Salvador' 'United Kingdom' 'British Virgin Islands' 'Netherlands'\n",
      " 'Costa Rica' 'Mozambique' 'Jamaica' 'Panama' 'Guyana' 'Norway'\n",
      " 'Hong Kong' 'Portugal' 'Malaysia' 'Turks And Caicos Islands'\n",
      " 'Northern Mariana Islands' 'Dominican Republic' 'Suriname' 'Honduras'\n",
      " 'Congo' 'Belize' 'Guatemala' 'Anguilla' 'France'\n",
      " 'St Vincent And The Grenadines' 'Haiti' 'Montserrat' 'Papua New Guinea'\n",
      " 'Cayman Islands' 'Sweden' 'Taiwan' 'Senegal' 'Barbados' 'BLOCK 651A'\n",
      " 'Brazil' 'Mauritius' 'Argentina' 'Kenya' 'Ecuador' 'Aruba' 'Saudi Arabia'\n",
      " 'Cuba' 'Italy' 'French Guiana' 'Denmark' 'Sudan' 'Spain'\n",
      " 'Federated States Of Micronesia' 'St Lucia' 'Switzerland'\n",
      " 'Central African Republic' 'Algeria' 'Turkey' 'Nicaragua'\n",
      " 'Marshall Islands' 'Trinidad And Tobago' 'Poland' 'Belarus' 'Austria'\n",
      " 'Malta' 'Cameroon' 'Solomon Islands' 'Zambia' 'Peru' 'Croatia' 'Fiji'\n",
      " 'South Africa' 'India' 'Ethiopia' 'Ireland' 'Chile' 'Antigua And Barbuda'\n",
      " 'Uganda' 'China' 'Cambodia' 'Paraguay' 'Thailand' 'Belgium' 'Gambia'\n",
      " 'Uruguay' 'Tanzania' 'Mali' 'Indonesia' 'Bahrain' 'Kazakhstan' 'Egypt'\n",
      " 'Russia' 'Cyprus' \"Cote D'ivoire\" 'Nigeria' 'Greenland' 'Vietnam'\n",
      " 'New Zealand' 'Singapore' 'Ghana' 'Gabon' 'Nepal' 'Slovakia' 'Finland'\n",
      " 'Liberia' 'Romania' 'Maldives' 'Antarctica' 'Zimbabwe' 'Botswana'\n",
      " 'Isle of Man' 'Latvia' 'Niger' 'French Polynesia' 'Guadeloupe'\n",
      " 'Ivory Coast' 'Tunisia' 'Eritrea' 'Gibraltar' 'Namibia' 'Czech Republic'\n",
      " 'Benin' 'Bosnia And Herzegovina' 'Israel' 'Estonia' 'St Kitts And Nevis'\n",
      " 'Sierra Leone' 'Corsica' 'Scotland' 'Reunion' 'United Arab Emirates'\n",
      " 'Afghanistan' 'Ukraine' 'Hungary' 'Bangladesh' 'Morocco' 'Iraq' 'Jordan'\n",
      " 'Qatar' 'Madagascar' 'Malawi' 'Unknown' 'Central Africa' 'South Sudan'\n",
      " 'Saint Barthelemy' 'Micronesia' 'South Korea' 'Kyrgyzstan'\n",
      " 'Turks And Caicos' 'Eswatini' 'Tokelau' 'Sint Maarten' 'Macao'\n",
      " 'Seychelles' 'Rwanda' 'Palau' 'Luxembourg' 'Lebanon'\n",
      " 'Bosnia and Herzegovina' 'Libya' 'Guinea'\n",
      " 'Saint Vincent and the Grenadines' 'UN' 'Iran' 'Lithuania' 'Malampa'\n",
      " 'Antigua and Barbuda' 'AY' 'Chad' 'Cayenne' 'New Caledonia' 'Yemen'\n",
      " 'Slovenia' 'Nauru' 'Niue' 'Bulgaria' 'Republic of North Macedonia'\n",
      " 'Virgin Islands' 'Somalia' 'Pacific Ocean' 'Obyan' 'Mauritania' 'Albania'\n",
      " 'Wolseley' 'Wallis and Futuna' 'Saint Pierre and Miquelon' 'Georgia'\n",
      " \"Côte d'Ivoire\" 'South Korean' 'Serbia' 'MU' 'Guernsey' 'Great Britain'\n",
      " 'Turks and Caicos Islands']\n",
      "\n",
      "********\n",
      "Unique values in column 'Latitude':\n",
      "[nan '36.922223' '42.445277' ... '321814N' '039101N' '373829N']\n",
      "\n",
      "********\n",
      "Unique values in column 'Longitude':\n",
      "[nan '-81.878056' '-70.758333' ... '1114536W' '0835218W' '0121410W']\n",
      "\n",
      "********\n",
      "Unique values in column 'Airport.Code':\n",
      "[nan 'N58' 'JAX' ... 'SKMD' 'OMAA' 'EIKH']\n",
      "\n",
      "********\n",
      "Unique values in column 'Airport.Name':\n",
      "[nan 'BLACKBURN AG STRIP' 'HANOVER' ... 'HAWKINSVILLE-PULASKI COUNTY'\n",
      " 'Lewiston Municipal Airport' 'WICHITA DWIGHT D EISENHOWER NT']\n",
      "\n",
      "********\n",
      "Unique values in column 'Injury.Severity':\n",
      "['Fatal(2)' 'Fatal(4)' 'Fatal(3)' 'Fatal(1)' 'Non-Fatal' 'Incident'\n",
      " 'Fatal(8)' 'Fatal(78)' 'Fatal(7)' 'Fatal(6)' 'Fatal(5)' 'Fatal(153)'\n",
      " 'Fatal(12)' 'Fatal(14)' 'Fatal(23)' 'Fatal(10)' 'Fatal(11)' 'Fatal(9)'\n",
      " 'Fatal(17)' 'Fatal(13)' 'Fatal(29)' 'Fatal(70)' 'Unavailable'\n",
      " 'Fatal(135)' 'Fatal(31)' 'Fatal(256)' 'Fatal(25)' 'Fatal(82)'\n",
      " 'Fatal(156)' 'Fatal(28)' 'Fatal(18)' 'Fatal(43)' 'Fatal(15)' 'Fatal(270)'\n",
      " 'Fatal(144)' 'Fatal(174)' 'Fatal(111)' 'Fatal(131)' 'Fatal(20)'\n",
      " 'Fatal(73)' 'Fatal(27)' 'Fatal(34)' 'Fatal(87)' 'Fatal(30)' 'Fatal(16)'\n",
      " 'Fatal(47)' 'Fatal(56)' 'Fatal(37)' 'Fatal(132)' 'Fatal(68)' 'Fatal(54)'\n",
      " 'Fatal(52)' 'Fatal(65)' 'Fatal(72)' 'Fatal(160)' 'Fatal(189)'\n",
      " 'Fatal(123)' 'Fatal(33)' 'Fatal(110)' 'Fatal(230)' 'Fatal(97)'\n",
      " 'Fatal(349)' 'Fatal(125)' 'Fatal(35)' 'Fatal(228)' 'Fatal(75)'\n",
      " 'Fatal(104)' 'Fatal(229)' 'Fatal(80)' 'Fatal(217)' 'Fatal(169)'\n",
      " 'Fatal(88)' 'Fatal(19)' 'Fatal(60)' 'Fatal(113)' 'Fatal(143)' 'Fatal(83)'\n",
      " 'Fatal(24)' 'Fatal(44)' 'Fatal(64)' 'Fatal(92)' 'Fatal(118)' 'Fatal(265)'\n",
      " 'Fatal(26)' 'Fatal(138)' 'Fatal(206)' 'Fatal(71)' 'Fatal(21)' 'Fatal(46)'\n",
      " 'Fatal(102)' 'Fatal(115)' 'Fatal(141)' 'Fatal(55)' 'Fatal(121)'\n",
      " 'Fatal(45)' 'Fatal(145)' 'Fatal(117)' 'Fatal(107)' 'Fatal(124)'\n",
      " 'Fatal(49)' 'Fatal(154)' 'Fatal(96)' 'Fatal(114)' 'Fatal(199)'\n",
      " 'Fatal(89)' 'Fatal(57)' 'Fatal' nan 'Minor' 'Serious']\n",
      "\n",
      "********\n",
      "Unique values in column 'Aircraft.damage':\n",
      "['Destroyed' 'Substantial' 'Minor' nan 'Unknown']\n",
      "\n",
      "********\n",
      "Unique values in column 'Aircraft.Category':\n",
      "[nan 'Airplane' 'Helicopter' 'Glider' 'Balloon' 'Gyrocraft' 'Ultralight'\n",
      " 'Unknown' 'Blimp' 'Powered-Lift' 'Weight-Shift' 'Powered Parachute'\n",
      " 'Rocket' 'WSFT' 'UNK' 'ULTR']\n",
      "\n",
      "********\n",
      "Unique values in column 'Registration.Number':\n",
      "['NC6404' 'N5069P' 'N5142R' ... 'N749PJ' 'N210CU' 'N9026P']\n",
      "\n",
      "********\n",
      "Unique values in column 'Make':\n",
      "['Stinson' 'Piper' 'Cessna' ... 'JAMES R DERNOVSEK' 'ORLICAN S R O'\n",
      " 'ROYSE RALPH L']\n",
      "\n",
      "********\n",
      "Unique values in column 'Model':\n",
      "['108-3' 'PA24-180' '172M' ... 'ROTORWAY EXEC 162-F' 'KITFOX S5'\n",
      " 'M-8 EAGLE']\n",
      "\n",
      "********\n",
      "Unique values in column 'Amateur.Built':\n",
      "['No' 'Yes' nan]\n",
      "\n",
      "********\n",
      "Unique values in column 'Number.of.Engines':\n",
      "[ 1. nan  2.  0.  3.  4.  8.  6.]\n",
      "\n",
      "********\n",
      "Unique values in column 'Engine.Type':\n",
      "['Reciprocating' nan 'Turbo Fan' 'Turbo Shaft' 'Unknown' 'Turbo Prop'\n",
      " 'Turbo Jet' 'None' 'Electric' 'Hybrid Rocket' 'Geared Turbofan' 'LR'\n",
      " 'NONE' 'UNK']\n",
      "\n",
      "********\n",
      "Unique values in column 'Purpose.of.flight':\n",
      "['Personal' nan 'Business' 'Instructional' 'Unknown' 'Ferry'\n",
      " 'Executive/corporate' 'Aerial Observation' 'Aerial Application'\n",
      " 'Public Aircraft' 'Skydiving' 'Other Work Use' 'Positioning'\n",
      " 'Flight Test' 'Air Race/show' 'Air Drop' 'Public Aircraft - Federal'\n",
      " 'Glider Tow' 'Public Aircraft - Local' 'External Load'\n",
      " 'Public Aircraft - State' 'Banner Tow' 'Firefighting' 'Air Race show'\n",
      " 'PUBS' 'ASHO' 'PUBL']\n",
      "\n",
      "********\n",
      "Unique values in column 'Total.Fatal.Injuries':\n",
      "[  2.   4.   3.   1.  nan   0.   8.  78.   7.   6.   5. 153.  12.  14.\n",
      "  23.  10.  11.   9.  17.  13.  29.  70. 135.  31. 256.  25.  82. 156.\n",
      "  28.  18.  43.  15. 270. 144. 174. 111. 131.  20.  73.  27.  34.  87.\n",
      "  30.  16.  47.  56.  37. 132.  68.  54.  52.  65.  72. 160. 189. 123.\n",
      "  33. 110. 230.  97. 349. 125.  35. 228.  75. 104. 229.  80. 217. 169.\n",
      "  88.  19.  60. 113. 143.  83.  24.  44.  64.  92. 118. 265.  26. 138.\n",
      " 206.  71.  21.  46. 102. 115. 141.  55. 121.  45. 145. 117. 107. 124.\n",
      "  49. 154.  96. 114. 199.  89.  57. 152.  90. 103. 158. 157.  42.  77.\n",
      " 127.  50. 239. 295.  58. 162. 150. 224.  62.  66. 112. 188.  41. 176.]\n",
      "\n",
      "********\n",
      "Unique values in column 'Total.Serious.Injuries':\n",
      "[  0.  nan   2.   1.   6.   4.   5.  10.   3.   8.   9.   7.  15.  17.\n",
      "  28.  26.  47.  14.  81.  13. 106.  60.  16.  21.  50.  44.  18.  12.\n",
      "  45.  39.  43.  11.  25.  59.  23.  55.  63.  88.  41.  34.  53.  33.\n",
      "  67.  35.  20. 137.  19.  27. 125. 161.  22.]\n",
      "\n",
      "********\n",
      "Unique values in column 'Total.Minor.Injuries':\n",
      "[  0.  nan   1.   3.   2.   4.  24.   6.   5.  25.  17.  19.  33.  14.\n",
      "   8.  13.  15.   7.   9.  16.  20.  11.  12.  10.  38.  42.  29.  62.\n",
      "  28.  31.  39.  32.  18.  27.  57.  50.  23. 125.  45.  26.  36.  69.\n",
      "  21.  96.  30.  22.  58. 171.  65.  71. 200.  68.  47. 380.  35.  43.\n",
      "  84.  40.]\n",
      "\n",
      "********\n",
      "Unique values in column 'Total.Uninjured':\n",
      "[  0.  nan  44.   2.   1.   3.   6.   4. 149.  12. 182. 154.   5.  10.\n",
      "   7. 119.  36.  51.  16.  83.   9.  68.  30.  20.  18.   8. 108.  11.\n",
      " 152.  21.  48.  56. 113. 129. 109.  29.  13.  84.  74. 142. 102. 393.\n",
      " 128. 112.  17.  65.  67. 136.  23. 116.  22.  57.  58.  73. 203.  31.\n",
      " 201. 412. 159.  39. 186. 588.  82.  95. 146. 190. 245. 172.  52.  25.\n",
      "  59. 131. 151. 180. 150.  86.  19. 133. 240.  15. 145. 125. 440.  77.\n",
      " 122. 205. 289. 110.  79.  66.  87.  78.  49. 104. 250.  33. 138. 100.\n",
      "  53. 158. 127. 160. 260.  47.  38. 165. 495.  81.  41.  14.  72.  98.\n",
      " 263. 188. 239.  27. 105. 111. 212. 157.  46. 121.  75.  71.  45.  91.\n",
      "  99.  85.  96.  50.  93. 276. 365. 371. 200. 103. 189.  37. 107.  61.\n",
      "  26. 271. 130.  89. 439. 132. 219.  43. 238. 195. 118. 175.  32. 507.\n",
      " 421.  90. 225. 269. 169. 236. 224. 134. 106. 331. 140.  94. 192. 161.\n",
      " 270.  69. 436. 213. 233. 115.  42. 167. 137. 114. 148. 222.  92. 375.\n",
      "  76. 171. 173. 246. 234. 123. 220. 202. 408. 279. 363. 135. 528. 334.\n",
      " 178. 147. 126.  62.  70.  97. 228. 226.  64. 290. 206. 297. 349. 208.\n",
      " 144.  54.  24. 258. 304. 274. 286.  55. 199. 221.  80. 272. 211. 262.\n",
      " 441. 194. 309. 185. 261. 241. 383. 177. 259. 244. 254. 156.  40.  34.\n",
      " 247. 176.  63.  28. 218. 282. 320. 204. 124. 215. 298. 120. 280. 179.\n",
      " 315. 461. 153.  60. 308.  88. 361. 277. 191. 235. 187. 101. 162.  35.\n",
      " 197. 193. 164. 370. 387. 163. 139. 267. 357. 339. 288. 231. 300. 255.\n",
      " 306. 443. 385. 248. 459. 141. 414. 229. 166. 209. 184. 168. 170. 198.\n",
      " 299. 573. 223. 265. 322. 196. 117. 253. 399. 360. 252. 217. 155. 183.\n",
      " 227. 249. 329. 340. 699. 325. 287. 143. 243. 230. 386. 181. 257. 283.\n",
      " 404. 319. 450. 356. 216. 174. 558. 214. 448. 324. 338. 273. 232. 401.\n",
      " 312. 368. 501. 237. 307. 296. 291. 403. 314. 285. 311. 293. 352. 332.\n",
      " 384. 275. 210. 268. 326. 454. 278. 576. 380. 394. 362. 397. 359. 264.\n",
      " 333. 367. 302. 348. 351. 358. 295. 321. 521. 301. 294. 378. 207. 406.\n",
      " 251. 455.]\n",
      "\n",
      "********\n",
      "Unique values in column 'Weather.Condition':\n",
      "['UNK' 'IMC' 'VMC' nan 'Unk']\n",
      "\n",
      "********\n",
      "Unique values in column 'Broad.phase.of.flight':\n",
      "['Cruise' 'Unknown' 'Approach' 'Climb' 'Takeoff' 'Landing' 'Taxi'\n",
      " 'Descent' 'Maneuvering' 'Standing' 'Go-around' 'Other' nan]\n",
      "\n",
      "********\n",
      "Unique values in column 'Report.Status':\n",
      "['Probable Cause' 'Factual' 'Foreign' ...\n",
      " 'The pilot did not ensure adequate clearance from construction vehicles during taxi.'\n",
      " 'The pilot\\x92s failure to secure the magneto switch before attempting to hand rotate the engine which resulted in an inadvertent engine start, a runaway airplane, and subsequent impact with parked airplanes. Contributing to the accident was the failure to properly secure the airplane with chocks.'\n",
      " 'The pilot\\x92s loss of control due to a wind gust during landing.']\n",
      "\n",
      "********\n",
      "Unique values in column 'Publication.Date':\n",
      "[nan '19-09-1996' '26-02-2007' ... '22-12-2022' '23-12-2022' '29-12-2022']\n",
      "\n",
      "********\n"
     ]
    }
   ],
   "source": [
    "for col in df.columns:\n",
    "  print(f\"Unique values in column '{col}':\")\n",
    "  print(df[col].unique())\n",
    "  print('\\n********')"
   ]
  },
  {
   "cell_type": "code",
   "execution_count": 14,
   "metadata": {},
   "outputs": [
    {
     "data": {
      "text/plain": [
       "1984-06-30    25\n",
       "1982-05-16    25\n",
       "2000-07-08    25\n",
       "1983-08-05    24\n",
       "1984-08-25    24\n",
       "              ..\n",
       "1990-02-05     1\n",
       "2006-12-05     1\n",
       "2005-11-17     1\n",
       "2021-06-01     1\n",
       "2004-11-23     1\n",
       "Name: Event.Date, Length: 14782, dtype: int64"
      ]
     },
     "execution_count": 14,
     "metadata": {},
     "output_type": "execute_result"
    }
   ],
   "source": [
    "df['Event.Date'].value_counts()"
   ]
  },
  {
   "cell_type": "code",
   "execution_count": 15,
   "metadata": {},
   "outputs": [
    {
     "data": {
      "text/plain": [
       "Index(['Event.Id', 'Investigation.Type', 'Accident.Number', 'Event.Date',\n",
       "       'Location', 'Country', 'Latitude', 'Longitude', 'Airport.Code',\n",
       "       'Airport.Name', 'Injury.Severity', 'Aircraft.damage',\n",
       "       'Aircraft.Category', 'Registration.Number', 'Make', 'Model',\n",
       "       'Amateur.Built', 'Number.of.Engines', 'Engine.Type',\n",
       "       'Purpose.of.flight', 'Total.Fatal.Injuries', 'Total.Serious.Injuries',\n",
       "       'Total.Minor.Injuries', 'Total.Uninjured', 'Weather.Condition',\n",
       "       'Broad.phase.of.flight', 'Report.Status', 'Publication.Date'],\n",
       "      dtype='object')"
      ]
     },
     "execution_count": 15,
     "metadata": {},
     "output_type": "execute_result"
    }
   ],
   "source": [
    "df.columns"
   ]
  },
  {
   "cell_type": "code",
   "execution_count": 16,
   "metadata": {},
   "outputs": [
    {
     "data": {
      "text/plain": [
       "dtype('O')"
      ]
     },
     "execution_count": 16,
     "metadata": {},
     "output_type": "execute_result"
    }
   ],
   "source": [
    "df['Event.Date'].dtype"
   ]
  },
  {
   "cell_type": "code",
   "execution_count": 17,
   "metadata": {},
   "outputs": [],
   "source": [
    "#Coverting the event.date into a datetime type\n",
    "df['Event.Date'] = pd.to_datetime(df['Event.Date'], errors='coerce')"
   ]
  },
  {
   "cell_type": "code",
   "execution_count": 18,
   "metadata": {},
   "outputs": [
    {
     "data": {
      "text/plain": [
       "array([nan, '19-09-1996', '26-02-2007', ..., '22-12-2022', '23-12-2022',\n",
       "       '29-12-2022'], dtype=object)"
      ]
     },
     "execution_count": 18,
     "metadata": {},
     "output_type": "execute_result"
    }
   ],
   "source": [
    "df['Publication.Date'].unique()"
   ]
  },
  {
   "cell_type": "code",
   "execution_count": 19,
   "metadata": {},
   "outputs": [],
   "source": [
    "#The column Publication.Date contains null values, we can inpute using a date like 01-01-1901 and then we convert to datetime\n",
    "df['Publication.Date'].fillna('01-01-1901', inplace=True)"
   ]
  },
  {
   "cell_type": "code",
   "execution_count": 20,
   "metadata": {},
   "outputs": [
    {
     "data": {
      "text/plain": [
       "array(['01-01-1901', '19-09-1996', '26-02-2007', ..., '22-12-2022',\n",
       "       '23-12-2022', '29-12-2022'], dtype=object)"
      ]
     },
     "execution_count": 20,
     "metadata": {},
     "output_type": "execute_result"
    }
   ],
   "source": [
    "df['Publication.Date'].unique()"
   ]
  },
  {
   "cell_type": "code",
   "execution_count": 21,
   "metadata": {},
   "outputs": [
    {
     "data": {
      "text/plain": [
       "dtype('O')"
      ]
     },
     "execution_count": 21,
     "metadata": {},
     "output_type": "execute_result"
    }
   ],
   "source": [
    "df['Publication.Date'].dtype"
   ]
  },
  {
   "cell_type": "code",
   "execution_count": 22,
   "metadata": {},
   "outputs": [
    {
     "data": {
      "text/plain": [
       "dtype('<M8[ns]')"
      ]
     },
     "execution_count": 22,
     "metadata": {},
     "output_type": "execute_result"
    }
   ],
   "source": [
    "df['Publication.Date'] = pd.to_datetime(df['Publication.Date'], errors='coerce')\n",
    "df['Publication.Date'].dtype"
   ]
  },
  {
   "cell_type": "code",
   "execution_count": 23,
   "metadata": {},
   "outputs": [
    {
     "data": {
      "text/plain": [
       "52"
      ]
     },
     "execution_count": 23,
     "metadata": {},
     "output_type": "execute_result"
    }
   ],
   "source": [
    "df['Location'].isna().sum()"
   ]
  },
  {
   "cell_type": "code",
   "execution_count": 24,
   "metadata": {},
   "outputs": [
    {
     "data": {
      "text/plain": [
       "array(['United States', nan, 'GULF OF MEXICO', 'Puerto Rico',\n",
       "       'ATLANTIC OCEAN', 'HIGH ISLAND', 'Bahamas', 'MISSING', 'Pakistan',\n",
       "       'Angola', 'Germany', 'Korea, Republic Of', 'Martinique',\n",
       "       'American Samoa', 'PACIFIC OCEAN', 'Canada', 'Bolivia', 'Mexico',\n",
       "       'Dominica', 'Netherlands Antilles', 'Iceland', 'Greece', 'Guam',\n",
       "       'Australia', 'CARIBBEAN SEA', 'West Indies', 'Japan',\n",
       "       'Philippines', 'Venezuela', 'Bermuda', 'San Juan Islands',\n",
       "       'Colombia', 'El Salvador', 'United Kingdom',\n",
       "       'British Virgin Islands', 'Netherlands', 'Costa Rica',\n",
       "       'Mozambique', 'Jamaica', 'Panama', 'Guyana', 'Norway', 'Hong Kong',\n",
       "       'Portugal', 'Malaysia', 'Turks And Caicos Islands',\n",
       "       'Northern Mariana Islands', 'Dominican Republic', 'Suriname',\n",
       "       'Honduras', 'Congo', 'Belize', 'Guatemala', 'Anguilla', 'France',\n",
       "       'St Vincent And The Grenadines', 'Haiti', 'Montserrat',\n",
       "       'Papua New Guinea', 'Cayman Islands', 'Sweden', 'Taiwan',\n",
       "       'Senegal', 'Barbados', 'BLOCK 651A', 'Brazil', 'Mauritius',\n",
       "       'Argentina', 'Kenya', 'Ecuador', 'Aruba', 'Saudi Arabia', 'Cuba',\n",
       "       'Italy', 'French Guiana', 'Denmark', 'Sudan', 'Spain',\n",
       "       'Federated States Of Micronesia', 'St Lucia', 'Switzerland',\n",
       "       'Central African Republic', 'Algeria', 'Turkey', 'Nicaragua',\n",
       "       'Marshall Islands', 'Trinidad And Tobago', 'Poland', 'Belarus',\n",
       "       'Austria', 'Malta', 'Cameroon', 'Solomon Islands', 'Zambia',\n",
       "       'Peru', 'Croatia', 'Fiji', 'South Africa', 'India', 'Ethiopia',\n",
       "       'Ireland', 'Chile', 'Antigua And Barbuda', 'Uganda', 'China',\n",
       "       'Cambodia', 'Paraguay', 'Thailand', 'Belgium', 'Gambia', 'Uruguay',\n",
       "       'Tanzania', 'Mali', 'Indonesia', 'Bahrain', 'Kazakhstan', 'Egypt',\n",
       "       'Russia', 'Cyprus', \"Cote D'ivoire\", 'Nigeria', 'Greenland',\n",
       "       'Vietnam', 'New Zealand', 'Singapore', 'Ghana', 'Gabon', 'Nepal',\n",
       "       'Slovakia', 'Finland', 'Liberia', 'Romania', 'Maldives',\n",
       "       'Antarctica', 'Zimbabwe', 'Botswana', 'Isle of Man', 'Latvia',\n",
       "       'Niger', 'French Polynesia', 'Guadeloupe', 'Ivory Coast',\n",
       "       'Tunisia', 'Eritrea', 'Gibraltar', 'Namibia', 'Czech Republic',\n",
       "       'Benin', 'Bosnia And Herzegovina', 'Israel', 'Estonia',\n",
       "       'St Kitts And Nevis', 'Sierra Leone', 'Corsica', 'Scotland',\n",
       "       'Reunion', 'United Arab Emirates', 'Afghanistan', 'Ukraine',\n",
       "       'Hungary', 'Bangladesh', 'Morocco', 'Iraq', 'Jordan', 'Qatar',\n",
       "       'Madagascar', 'Malawi', 'Unknown', 'Central Africa', 'South Sudan',\n",
       "       'Saint Barthelemy', 'Micronesia', 'South Korea', 'Kyrgyzstan',\n",
       "       'Turks And Caicos', 'Eswatini', 'Tokelau', 'Sint Maarten', 'Macao',\n",
       "       'Seychelles', 'Rwanda', 'Palau', 'Luxembourg', 'Lebanon',\n",
       "       'Bosnia and Herzegovina', 'Libya', 'Guinea',\n",
       "       'Saint Vincent and the Grenadines', 'UN', 'Iran', 'Lithuania',\n",
       "       'Malampa', 'Antigua and Barbuda', 'AY', 'Chad', 'Cayenne',\n",
       "       'New Caledonia', 'Yemen', 'Slovenia', 'Nauru', 'Niue', 'Bulgaria',\n",
       "       'Republic of North Macedonia', 'Virgin Islands', 'Somalia',\n",
       "       'Pacific Ocean', 'Obyan', 'Mauritania', 'Albania', 'Wolseley',\n",
       "       'Wallis and Futuna', 'Saint Pierre and Miquelon', 'Georgia',\n",
       "       \"Côte d'Ivoire\", 'South Korean', 'Serbia', 'MU', 'Guernsey',\n",
       "       'Great Britain', 'Turks and Caicos Islands'], dtype=object)"
      ]
     },
     "execution_count": 24,
     "metadata": {},
     "output_type": "execute_result"
    }
   ],
   "source": [
    "df['Country'].unique()"
   ]
  },
  {
   "cell_type": "code",
   "execution_count": 25,
   "metadata": {},
   "outputs": [],
   "source": [
    "#going through the list above, the names below are not indicative of any country in particular\n",
    "invalid_names = [ 'GULF OF MEXICO', 'ATLANTIC OCEAN', 'HIGH ISLAND', 'PACIFIC OCEAN',\n",
    "    'CARIBBEAN SEA', 'San Juan Islands', 'BLOCK 651A', 'Central Africa',\n",
    "    'Wolseley', 'Obyan', 'AY', 'Cayenne', 'UN']\n",
    "\n",
    "df['Country'] = df['Country'].replace(invalid_names, 'Unknown')\n",
    "\n",
    "country_name_var = {\n",
    "    'Ivory Coast': \"Côte d'Ivoire\",\n",
    "    \"Cote D'ivoire\": \"Côte d'Ivoire\",\n",
    "    'South Korean': 'South Korea',\n",
    "    'Korea, Republic Of': 'South Korea',\n",
    "    'Bosnia And Herzegovina': 'Bosnia and Herzegovina',\n",
    "    'St Vincent And The Grenadines': 'Saint Vincent and the Grenadines',\n",
    "    'Antigua And Barbuda': 'Antigua and Barbuda',\n",
    "    'Turks And Caicos': 'Turks and Caicos Islands',\n",
    "    'Turks And Caicos Islands': 'Turks and Caicos Islands',\n",
    "    'Great Britain': 'United Kingdom',\n",
    "    'Scotland': 'United Kingdom',\n",
    "}\n",
    "\n",
    "df['Country'] = df['Country'].replace(country_name_var)\n",
    "df['Country'] = df['Country'].fillna('Unknown')\n"
   ]
  },
  {
   "cell_type": "code",
   "execution_count": 26,
   "metadata": {},
   "outputs": [
    {
     "data": {
      "text/plain": [
       "0"
      ]
     },
     "execution_count": 26,
     "metadata": {},
     "output_type": "execute_result"
    }
   ],
   "source": [
    "df['Country'].isna().sum()"
   ]
  },
  {
   "cell_type": "code",
   "execution_count": 27,
   "metadata": {},
   "outputs": [
    {
     "data": {
      "text/plain": [
       "43.46994566256792"
      ]
     },
     "execution_count": 27,
     "metadata": {},
     "output_type": "execute_result"
    }
   ],
   "source": [
    "df['Airport.Code'].isna().mean()*100"
   ]
  },
  {
   "cell_type": "code",
   "execution_count": 28,
   "metadata": {},
   "outputs": [],
   "source": [
    "df['Airport.Code'].fillna('UNK', inplace=True)"
   ]
  },
  {
   "cell_type": "code",
   "execution_count": 29,
   "metadata": {},
   "outputs": [
    {
     "data": {
      "text/plain": [
       "0.0"
      ]
     },
     "execution_count": 29,
     "metadata": {},
     "output_type": "execute_result"
    }
   ],
   "source": [
    "df['Airport.Code'].isna().mean()*100"
   ]
  },
  {
   "cell_type": "code",
   "execution_count": 30,
   "metadata": {},
   "outputs": [
    {
     "data": {
      "text/plain": [
       "40.611324235844705"
      ]
     },
     "execution_count": 30,
     "metadata": {},
     "output_type": "execute_result"
    }
   ],
   "source": [
    "df['Airport.Name'].isna().mean()*100"
   ]
  },
  {
   "cell_type": "code",
   "execution_count": 31,
   "metadata": {},
   "outputs": [
    {
     "data": {
      "text/plain": [
       "array([nan, 'BLACKBURN AG STRIP', 'HANOVER', ...,\n",
       "       'HAWKINSVILLE-PULASKI COUNTY', 'Lewiston Municipal Airport',\n",
       "       'WICHITA DWIGHT D EISENHOWER NT'], dtype=object)"
      ]
     },
     "execution_count": 31,
     "metadata": {},
     "output_type": "execute_result"
    }
   ],
   "source": [
    "df['Airport.Name'].unique()"
   ]
  },
  {
   "cell_type": "code",
   "execution_count": 32,
   "metadata": {},
   "outputs": [
    {
     "data": {
      "text/plain": [
       "0.0"
      ]
     },
     "execution_count": 32,
     "metadata": {},
     "output_type": "execute_result"
    }
   ],
   "source": [
    "df['Airport.Name'].fillna('UNKNOWN', inplace=True)\n",
    "df['Airport.Name'].isna().mean()*100"
   ]
  },
  {
   "cell_type": "code",
   "execution_count": 33,
   "metadata": {},
   "outputs": [
    {
     "data": {
      "text/plain": [
       "array(['UNK', 'IMC', 'VMC', nan, 'Unk'], dtype=object)"
      ]
     },
     "execution_count": 33,
     "metadata": {},
     "output_type": "execute_result"
    }
   ],
   "source": [
    "df['Weather.Condition'].unique()"
   ]
  },
  {
   "cell_type": "markdown",
   "metadata": {},
   "source": [
    "**Need to format the UNK and Unk into one and replace the missing values with UNK string since the column is using abbreviation**"
   ]
  },
  {
   "cell_type": "code",
   "execution_count": 34,
   "metadata": {},
   "outputs": [
    {
     "data": {
      "text/plain": [
       "VMC    77303\n",
       "IMC     5976\n",
       "UNK     5610\n",
       "Name: Weather.Condition, dtype: int64"
      ]
     },
     "execution_count": 34,
     "metadata": {},
     "output_type": "execute_result"
    }
   ],
   "source": [
    "df['Weather.Condition'] = df['Weather.Condition'].replace({'Unk': 'UNK'})\n",
    "df['Weather.Condition'].fillna('UNK', inplace=True)\n",
    "df['Weather.Condition'].value_counts()"
   ]
  },
  {
   "cell_type": "code",
   "execution_count": 35,
   "metadata": {},
   "outputs": [
    {
     "data": {
      "text/plain": [
       "7.1786160267299675"
      ]
     },
     "execution_count": 35,
     "metadata": {},
     "output_type": "execute_result"
    }
   ],
   "source": [
    "df['Report.Status'].isna().mean()*100"
   ]
  },
  {
   "cell_type": "markdown",
   "metadata": {},
   "source": [
    "**The report status only contains 7% null values, We can drop this null rows***"
   ]
  },
  {
   "cell_type": "code",
   "execution_count": 36,
   "metadata": {},
   "outputs": [
    {
     "data": {
      "text/plain": [
       "0.0"
      ]
     },
     "execution_count": 36,
     "metadata": {},
     "output_type": "execute_result"
    }
   ],
   "source": [
    "df = df.dropna(subset=['Report.Status'])\n",
    "df['Report.Status'].isna().mean()*100"
   ]
  },
  {
   "cell_type": "code",
   "execution_count": 37,
   "metadata": {},
   "outputs": [],
   "source": [
    "## Current status of the dataframe info"
   ]
  },
  {
   "cell_type": "code",
   "execution_count": 38,
   "metadata": {},
   "outputs": [
    {
     "name": "stdout",
     "output_type": "stream",
     "text": [
      "<class 'pandas.core.frame.DataFrame'>\n",
      "Int64Index: 82508 entries, 0 to 88767\n",
      "Data columns (total 28 columns):\n",
      " #   Column                  Non-Null Count  Dtype         \n",
      "---  ------                  --------------  -----         \n",
      " 0   Event.Id                82508 non-null  object        \n",
      " 1   Investigation.Type      82508 non-null  object        \n",
      " 2   Accident.Number         82508 non-null  object        \n",
      " 3   Event.Date              82508 non-null  datetime64[ns]\n",
      " 4   Location                82456 non-null  object        \n",
      " 5   Country                 82508 non-null  object        \n",
      " 6   Latitude                30388 non-null  object        \n",
      " 7   Longitude               30378 non-null  object        \n",
      " 8   Airport.Code            82508 non-null  object        \n",
      " 9   Airport.Name            82508 non-null  object        \n",
      " 10  Injury.Severity         82417 non-null  object        \n",
      " 11  Aircraft.damage         80359 non-null  object        \n",
      " 12  Aircraft.Category       26328 non-null  object        \n",
      " 13  Registration.Number     81223 non-null  object        \n",
      " 14  Make                    82477 non-null  object        \n",
      " 15  Model                   82459 non-null  object        \n",
      " 16  Amateur.Built           82406 non-null  object        \n",
      " 17  Number.of.Engines       79228 non-null  float64       \n",
      " 18  Engine.Type             80278 non-null  object        \n",
      " 19  Purpose.of.flight       79483 non-null  object        \n",
      " 20  Total.Fatal.Injuries    71107 non-null  float64       \n",
      " 21  Total.Serious.Injuries  69998 non-null  float64       \n",
      " 22  Total.Minor.Injuries    70575 non-null  float64       \n",
      " 23  Total.Uninjured         76596 non-null  float64       \n",
      " 24  Weather.Condition       82508 non-null  object        \n",
      " 25  Broad.phase.of.flight   61724 non-null  object        \n",
      " 26  Report.Status           82508 non-null  object        \n",
      " 27  Publication.Date        82508 non-null  datetime64[ns]\n",
      "dtypes: datetime64[ns](2), float64(5), object(21)\n",
      "memory usage: 18.3+ MB\n"
     ]
    }
   ],
   "source": [
    "df.info()"
   ]
  },
  {
   "cell_type": "code",
   "execution_count": 39,
   "metadata": {},
   "outputs": [
    {
     "data": {
      "text/plain": [
       "array(['Fatal(2)', 'Fatal(4)', 'Fatal(3)', 'Fatal(1)', 'Non-Fatal',\n",
       "       'Incident', 'Fatal(8)', 'Fatal(78)', 'Fatal(7)', 'Fatal(6)',\n",
       "       'Fatal(5)', 'Fatal(153)', 'Fatal(12)', 'Fatal(14)', 'Fatal(23)',\n",
       "       'Fatal(10)', 'Fatal(11)', 'Fatal(9)', 'Fatal(17)', 'Fatal(13)',\n",
       "       'Fatal(29)', 'Fatal(70)', 'Unavailable', 'Fatal(135)', 'Fatal(31)',\n",
       "       'Fatal(256)', 'Fatal(25)', 'Fatal(82)', 'Fatal(156)', 'Fatal(28)',\n",
       "       'Fatal(18)', 'Fatal(43)', 'Fatal(15)', 'Fatal(270)', 'Fatal(144)',\n",
       "       'Fatal(174)', 'Fatal(111)', 'Fatal(131)', 'Fatal(20)', 'Fatal(73)',\n",
       "       'Fatal(27)', 'Fatal(34)', 'Fatal(87)', 'Fatal(30)', 'Fatal(16)',\n",
       "       'Fatal(47)', 'Fatal(56)', 'Fatal(37)', 'Fatal(132)', 'Fatal(68)',\n",
       "       'Fatal(54)', 'Fatal(52)', 'Fatal(65)', 'Fatal(72)', 'Fatal(160)',\n",
       "       'Fatal(189)', 'Fatal(123)', 'Fatal(33)', 'Fatal(110)',\n",
       "       'Fatal(230)', 'Fatal(97)', 'Fatal(349)', 'Fatal(125)', 'Fatal(35)',\n",
       "       'Fatal(228)', 'Fatal(75)', 'Fatal(104)', 'Fatal(229)', 'Fatal(80)',\n",
       "       'Fatal(217)', 'Fatal(169)', 'Fatal(88)', 'Fatal(19)', 'Fatal(60)',\n",
       "       'Fatal(113)', 'Fatal(143)', 'Fatal(83)', 'Fatal(24)', 'Fatal(44)',\n",
       "       'Fatal(64)', 'Fatal(92)', 'Fatal(118)', 'Fatal(265)', 'Fatal(26)',\n",
       "       'Fatal(138)', 'Fatal(206)', 'Fatal(71)', 'Fatal(21)', 'Fatal(46)',\n",
       "       'Fatal(102)', 'Fatal(115)', 'Fatal(141)', 'Fatal(55)',\n",
       "       'Fatal(121)', 'Fatal(45)', 'Fatal(145)', 'Fatal(117)',\n",
       "       'Fatal(107)', 'Fatal(124)', 'Fatal(49)', 'Fatal(154)', 'Fatal(96)',\n",
       "       'Fatal(114)', 'Fatal(199)', 'Fatal(89)', 'Fatal(57)', 'Fatal', nan,\n",
       "       'Minor', 'Serious'], dtype=object)"
      ]
     },
     "execution_count": 39,
     "metadata": {},
     "output_type": "execute_result"
    }
   ],
   "source": [
    "df['Injury.Severity'].unique()"
   ]
  },
  {
   "cell_type": "code",
   "execution_count": 40,
   "metadata": {},
   "outputs": [
    {
     "data": {
      "text/plain": [
       "0.11029233528869929"
      ]
     },
     "execution_count": 40,
     "metadata": {},
     "output_type": "execute_result"
    }
   ],
   "source": [
    "df['Injury.Severity'].isna().mean()*100"
   ]
  },
  {
   "cell_type": "markdown",
   "metadata": {},
   "source": [
    "**The Injury.Severity column only contains 0.11% null values, We can drop these null rows**"
   ]
  },
  {
   "cell_type": "code",
   "execution_count": 41,
   "metadata": {},
   "outputs": [
    {
     "data": {
      "text/plain": [
       "0.0"
      ]
     },
     "execution_count": 41,
     "metadata": {},
     "output_type": "execute_result"
    }
   ],
   "source": [
    "df = df.dropna(subset=['Injury.Severity'])\n",
    "df['Injury.Severity'].isna().mean()*100"
   ]
  },
  {
   "cell_type": "code",
   "execution_count": 42,
   "metadata": {},
   "outputs": [
    {
     "name": "stdout",
     "output_type": "stream",
     "text": [
      "['Fatal(2)' 'Fatal(4)' 'Fatal(3)' 'Fatal(1)' 'Non-Fatal' 'Incident'\n",
      " 'Fatal(8)' 'Fatal(78)' 'Fatal(7)' 'Fatal(6)' 'Fatal(5)' 'Fatal(153)'\n",
      " 'Fatal(12)' 'Fatal(14)' 'Fatal(23)' 'Fatal(10)' 'Fatal(11)' 'Fatal(9)'\n",
      " 'Fatal(17)' 'Fatal(13)' 'Fatal(29)' 'Fatal(70)' 'Unavailable'\n",
      " 'Fatal(135)' 'Fatal(31)' 'Fatal(256)' 'Fatal(25)' 'Fatal(82)'\n",
      " 'Fatal(156)' 'Fatal(28)' 'Fatal(18)' 'Fatal(43)' 'Fatal(15)' 'Fatal(270)'\n",
      " 'Fatal(144)' 'Fatal(174)' 'Fatal(111)' 'Fatal(131)' 'Fatal(20)'\n",
      " 'Fatal(73)' 'Fatal(27)' 'Fatal(34)' 'Fatal(87)' 'Fatal(30)' 'Fatal(16)'\n",
      " 'Fatal(47)' 'Fatal(56)' 'Fatal(37)' 'Fatal(132)' 'Fatal(68)' 'Fatal(54)'\n",
      " 'Fatal(52)' 'Fatal(65)' 'Fatal(72)' 'Fatal(160)' 'Fatal(189)'\n",
      " 'Fatal(123)' 'Fatal(33)' 'Fatal(110)' 'Fatal(230)' 'Fatal(97)'\n",
      " 'Fatal(349)' 'Fatal(125)' 'Fatal(35)' 'Fatal(228)' 'Fatal(75)'\n",
      " 'Fatal(104)' 'Fatal(229)' 'Fatal(80)' 'Fatal(217)' 'Fatal(169)'\n",
      " 'Fatal(88)' 'Fatal(19)' 'Fatal(60)' 'Fatal(113)' 'Fatal(143)' 'Fatal(83)'\n",
      " 'Fatal(24)' 'Fatal(44)' 'Fatal(64)' 'Fatal(92)' 'Fatal(118)' 'Fatal(265)'\n",
      " 'Fatal(26)' 'Fatal(138)' 'Fatal(206)' 'Fatal(71)' 'Fatal(21)' 'Fatal(46)'\n",
      " 'Fatal(102)' 'Fatal(115)' 'Fatal(141)' 'Fatal(55)' 'Fatal(121)'\n",
      " 'Fatal(45)' 'Fatal(145)' 'Fatal(117)' 'Fatal(107)' 'Fatal(124)'\n",
      " 'Fatal(49)' 'Fatal(154)' 'Fatal(96)' 'Fatal(114)' 'Fatal(199)'\n",
      " 'Fatal(89)' 'Fatal(57)' 'Fatal' 'Minor' 'Serious']\n"
     ]
    }
   ],
   "source": [
    "print(df['Injury.Severity'].unique())"
   ]
  },
  {
   "cell_type": "code",
   "execution_count": 43,
   "metadata": {},
   "outputs": [],
   "source": [
    "#let us create another column with the severity class\n",
    "def Severity_class(injury_severity):\n",
    "    if 'Fatal' in injury_severity:\n",
    "        return 'Fatal'\n",
    "    elif injury_severity in ['Non-Fatal', 'Minor']:\n",
    "        return 'Non-Fatal'\n",
    "    elif injury_severity in ['Serious']:\n",
    "        return 'Serious'\n",
    "    elif injury_severity == 'Incident':\n",
    "        return 'Incident'\n",
    "    else:\n",
    "        return 'Unknown'\n",
    "df['Severity_class'] = df['Injury.Severity'].apply(Severity_class)"
   ]
  },
  {
   "cell_type": "code",
   "execution_count": 44,
   "metadata": {},
   "outputs": [
    {
     "data": {
      "text/plain": [
       "(82417, 29)"
      ]
     },
     "execution_count": 44,
     "metadata": {},
     "output_type": "execute_result"
    }
   ],
   "source": [
    "df.shape"
   ]
  },
  {
   "cell_type": "code",
   "execution_count": 45,
   "metadata": {},
   "outputs": [
    {
     "data": {
      "text/plain": [
       "array(['Destroyed', 'Substantial', 'Minor', nan, 'Unknown'], dtype=object)"
      ]
     },
     "execution_count": 45,
     "metadata": {},
     "output_type": "execute_result"
    }
   ],
   "source": [
    "df['Aircraft.damage'].unique()"
   ]
  },
  {
   "cell_type": "code",
   "execution_count": 46,
   "metadata": {},
   "outputs": [
    {
     "data": {
      "text/plain": [
       "2.5504446898091415"
      ]
     },
     "execution_count": 46,
     "metadata": {},
     "output_type": "execute_result"
    }
   ],
   "source": [
    "df['Aircraft.damage'].isna().mean()*100"
   ]
  },
  {
   "cell_type": "markdown",
   "metadata": {},
   "source": [
    "**The Aircraft.damage column only contains 2.55% null values, We can impute with Unknown string**"
   ]
  },
  {
   "cell_type": "code",
   "execution_count": 47,
   "metadata": {},
   "outputs": [
    {
     "data": {
      "text/plain": [
       "Substantial    60708\n",
       "Destroyed      17287\n",
       "Minor           2313\n",
       "Unknown         2109\n",
       "Name: Aircraft.damage, dtype: int64"
      ]
     },
     "execution_count": 47,
     "metadata": {},
     "output_type": "execute_result"
    }
   ],
   "source": [
    "df['Aircraft.damage'].fillna('Unknown', inplace=True)\n",
    "df['Aircraft.damage'].value_counts()"
   ]
  },
  {
   "cell_type": "code",
   "execution_count": 48,
   "metadata": {},
   "outputs": [
    {
     "data": {
      "text/plain": [
       "array([nan, 'Airplane', 'Helicopter', 'Glider', 'Balloon', 'Gyrocraft',\n",
       "       'Ultralight', 'Unknown', 'Blimp', 'Powered-Lift', 'Weight-Shift',\n",
       "       'Powered Parachute', 'Rocket', 'WSFT'], dtype=object)"
      ]
     },
     "execution_count": 48,
     "metadata": {},
     "output_type": "execute_result"
    }
   ],
   "source": [
    "df['Aircraft.Category'].unique()"
   ]
  },
  {
   "cell_type": "code",
   "execution_count": 49,
   "metadata": {},
   "outputs": [
    {
     "data": {
      "text/plain": [
       "Airplane             22563\n",
       "Helicopter            2577\n",
       "Glider                 459\n",
       "Balloon                216\n",
       "Weight-Shift           151\n",
       "Gyrocraft              150\n",
       "Powered Parachute       87\n",
       "Ultralight              25\n",
       "Unknown                  5\n",
       "Powered-Lift             4\n",
       "Blimp                    4\n",
       "WSFT                     1\n",
       "Rocket                   1\n",
       "Name: Aircraft.Category, dtype: int64"
      ]
     },
     "execution_count": 49,
     "metadata": {},
     "output_type": "execute_result"
    }
   ],
   "source": [
    "df['Aircraft.Category'].value_counts()"
   ]
  },
  {
   "cell_type": "markdown",
   "metadata": {},
   "source": [
    "**The 'Aircraft.Category' column contains nan values and a preexisting Unknown String, we can impute using the preexisting string**"
   ]
  },
  {
   "cell_type": "code",
   "execution_count": 50,
   "metadata": {},
   "outputs": [
    {
     "data": {
      "text/plain": [
       "Unknown              56179\n",
       "Airplane             22563\n",
       "Helicopter            2577\n",
       "Glider                 459\n",
       "Balloon                216\n",
       "Weight-Shift           151\n",
       "Gyrocraft              150\n",
       "Powered Parachute       87\n",
       "Ultralight              25\n",
       "Powered-Lift             4\n",
       "Blimp                    4\n",
       "WSFT                     1\n",
       "Rocket                   1\n",
       "Name: Aircraft.Category, dtype: int64"
      ]
     },
     "execution_count": 50,
     "metadata": {},
     "output_type": "execute_result"
    }
   ],
   "source": [
    "df['Aircraft.Category'].fillna('Unknown', inplace=True)\n",
    "df['Aircraft.Category'].value_counts()"
   ]
  },
  {
   "cell_type": "code",
   "execution_count": 51,
   "metadata": {},
   "outputs": [
    {
     "data": {
      "text/plain": [
       "1.5518642998410521"
      ]
     },
     "execution_count": 51,
     "metadata": {},
     "output_type": "execute_result"
    }
   ],
   "source": [
    "df['Registration.Number'].isna().mean()*100"
   ]
  },
  {
   "cell_type": "markdown",
   "metadata": {},
   "source": [
    "**The 'Registration.Number' column only contains 1.55% null values, We can drop these null rows**"
   ]
  },
  {
   "cell_type": "code",
   "execution_count": 52,
   "metadata": {},
   "outputs": [],
   "source": [
    "df = df.dropna(subset=['Registration.Number'])"
   ]
  },
  {
   "cell_type": "code",
   "execution_count": 53,
   "metadata": {},
   "outputs": [
    {
     "name": "stdout",
     "output_type": "stream",
     "text": [
      "<class 'pandas.core.frame.DataFrame'>\n",
      "Int64Index: 81138 entries, 0 to 88767\n",
      "Data columns (total 29 columns):\n",
      " #   Column                  Non-Null Count  Dtype         \n",
      "---  ------                  --------------  -----         \n",
      " 0   Event.Id                81138 non-null  object        \n",
      " 1   Investigation.Type      81138 non-null  object        \n",
      " 2   Accident.Number         81138 non-null  object        \n",
      " 3   Event.Date              81138 non-null  datetime64[ns]\n",
      " 4   Location                81108 non-null  object        \n",
      " 5   Country                 81138 non-null  object        \n",
      " 6   Latitude                29958 non-null  object        \n",
      " 7   Longitude               29948 non-null  object        \n",
      " 8   Airport.Code            81138 non-null  object        \n",
      " 9   Airport.Name            81138 non-null  object        \n",
      " 10  Injury.Severity         81138 non-null  object        \n",
      " 11  Aircraft.damage         81138 non-null  object        \n",
      " 12  Aircraft.Category       81138 non-null  object        \n",
      " 13  Registration.Number     81138 non-null  object        \n",
      " 14  Make                    81124 non-null  object        \n",
      " 15  Model                   81105 non-null  object        \n",
      " 16  Amateur.Built           81105 non-null  object        \n",
      " 17  Number.of.Engines       79079 non-null  float64       \n",
      " 18  Engine.Type             79820 non-null  object        \n",
      " 19  Purpose.of.flight       78719 non-null  object        \n",
      " 20  Total.Fatal.Injuries    70271 non-null  float64       \n",
      " 21  Total.Serious.Injuries  69490 non-null  float64       \n",
      " 22  Total.Minor.Injuries    70134 non-null  float64       \n",
      " 23  Total.Uninjured         75971 non-null  float64       \n",
      " 24  Weather.Condition       81138 non-null  object        \n",
      " 25  Broad.phase.of.flight   61691 non-null  object        \n",
      " 26  Report.Status           81138 non-null  object        \n",
      " 27  Publication.Date        81138 non-null  datetime64[ns]\n",
      " 28  Severity_class          81138 non-null  object        \n",
      "dtypes: datetime64[ns](2), float64(5), object(22)\n",
      "memory usage: 18.6+ MB\n"
     ]
    }
   ],
   "source": [
    "df.info()"
   ]
  },
  {
   "cell_type": "markdown",
   "metadata": {},
   "source": [
    "**The columns ['Make','Model','Amateur.Built'] contain few null rows: Decision: Drop the null rows**"
   ]
  },
  {
   "cell_type": "code",
   "execution_count": 54,
   "metadata": {},
   "outputs": [],
   "source": [
    "df = df.dropna(subset=['Make','Model','Amateur.Built' ])"
   ]
  },
  {
   "cell_type": "code",
   "execution_count": 55,
   "metadata": {},
   "outputs": [
    {
     "name": "stdout",
     "output_type": "stream",
     "text": [
      "<class 'pandas.core.frame.DataFrame'>\n",
      "Int64Index: 81060 entries, 0 to 88767\n",
      "Data columns (total 29 columns):\n",
      " #   Column                  Non-Null Count  Dtype         \n",
      "---  ------                  --------------  -----         \n",
      " 0   Event.Id                81060 non-null  object        \n",
      " 1   Investigation.Type      81060 non-null  object        \n",
      " 2   Accident.Number         81060 non-null  object        \n",
      " 3   Event.Date              81060 non-null  datetime64[ns]\n",
      " 4   Location                81031 non-null  object        \n",
      " 5   Country                 81060 non-null  object        \n",
      " 6   Latitude                29929 non-null  object        \n",
      " 7   Longitude               29919 non-null  object        \n",
      " 8   Airport.Code            81060 non-null  object        \n",
      " 9   Airport.Name            81060 non-null  object        \n",
      " 10  Injury.Severity         81060 non-null  object        \n",
      " 11  Aircraft.damage         81060 non-null  object        \n",
      " 12  Aircraft.Category       81060 non-null  object        \n",
      " 13  Registration.Number     81060 non-null  object        \n",
      " 14  Make                    81060 non-null  object        \n",
      " 15  Model                   81060 non-null  object        \n",
      " 16  Amateur.Built           81060 non-null  object        \n",
      " 17  Number.of.Engines       79018 non-null  float64       \n",
      " 18  Engine.Type             79765 non-null  object        \n",
      " 19  Purpose.of.flight       78658 non-null  object        \n",
      " 20  Total.Fatal.Injuries    70224 non-null  float64       \n",
      " 21  Total.Serious.Injuries  69453 non-null  float64       \n",
      " 22  Total.Minor.Injuries    70096 non-null  float64       \n",
      " 23  Total.Uninjured         75915 non-null  float64       \n",
      " 24  Weather.Condition       81060 non-null  object        \n",
      " 25  Broad.phase.of.flight   61633 non-null  object        \n",
      " 26  Report.Status           81060 non-null  object        \n",
      " 27  Publication.Date        81060 non-null  datetime64[ns]\n",
      " 28  Severity_class          81060 non-null  object        \n",
      "dtypes: datetime64[ns](2), float64(5), object(22)\n",
      "memory usage: 18.6+ MB\n"
     ]
    }
   ],
   "source": [
    "df.info()"
   ]
  },
  {
   "cell_type": "code",
   "execution_count": 56,
   "metadata": {},
   "outputs": [
    {
     "data": {
      "text/plain": [
       "array(['Reciprocating', nan, 'Turbo Fan', 'Turbo Shaft', 'Unknown',\n",
       "       'Turbo Prop', 'Turbo Jet', 'None', 'Electric', 'Hybrid Rocket',\n",
       "       'Geared Turbofan', 'LR', 'NONE', 'UNK'], dtype=object)"
      ]
     },
     "execution_count": 56,
     "metadata": {},
     "output_type": "execute_result"
    }
   ],
   "source": [
    "df['Engine.Type'].unique()"
   ]
  },
  {
   "cell_type": "markdown",
   "metadata": {},
   "source": [
    "**There are various representations of missing or unknown engine type i.e. 'nan', 'Unknown' and UNK.\n",
    "Additionally, where there is no engine NONE has two representations 'NONE' and 'None'\n",
    "Below we standardize the similar values and replace 'nan' with 'UNK'**"
   ]
  },
  {
   "cell_type": "code",
   "execution_count": 57,
   "metadata": {},
   "outputs": [],
   "source": [
    "df['Engine.Type'].fillna('UNK', inplace=True)"
   ]
  },
  {
   "cell_type": "code",
   "execution_count": 58,
   "metadata": {},
   "outputs": [],
   "source": [
    "df['Engine.Type'] = df['Engine.Type'].replace({'Unknown': 'UNK', 'None': 'NONE'})"
   ]
  },
  {
   "cell_type": "code",
   "execution_count": 59,
   "metadata": {},
   "outputs": [
    {
     "data": {
      "text/plain": [
       "array(['Reciprocating', 'UNK', 'Turbo Fan', 'Turbo Shaft', 'Turbo Prop',\n",
       "       'Turbo Jet', 'NONE', 'Electric', 'Hybrid Rocket',\n",
       "       'Geared Turbofan', 'LR'], dtype=object)"
      ]
     },
     "execution_count": 59,
     "metadata": {},
     "output_type": "execute_result"
    }
   ],
   "source": [
    "df['Engine.Type'].unique()"
   ]
  },
  {
   "cell_type": "code",
   "execution_count": 60,
   "metadata": {},
   "outputs": [
    {
     "data": {
      "text/plain": [
       "Reciprocating      68484\n",
       "Turbo Shaft         3444\n",
       "Turbo Prop          3231\n",
       "UNK                 3006\n",
       "Turbo Fan           2184\n",
       "Turbo Jet            681\n",
       "NONE                  20\n",
       "Electric               6\n",
       "LR                     2\n",
       "Hybrid Rocket          1\n",
       "Geared Turbofan        1\n",
       "Name: Engine.Type, dtype: int64"
      ]
     },
     "execution_count": 60,
     "metadata": {},
     "output_type": "execute_result"
    }
   ],
   "source": [
    "df['Engine.Type'].value_counts()"
   ]
  },
  {
   "cell_type": "code",
   "execution_count": 61,
   "metadata": {},
   "outputs": [
    {
     "data": {
      "text/plain": [
       "array(['Personal', nan, 'Business', 'Instructional', 'Unknown', 'Ferry',\n",
       "       'Executive/corporate', 'Aerial Observation', 'Aerial Application',\n",
       "       'Public Aircraft', 'Skydiving', 'Other Work Use', 'Positioning',\n",
       "       'Flight Test', 'Air Race/show', 'Air Drop',\n",
       "       'Public Aircraft - Federal', 'Glider Tow',\n",
       "       'Public Aircraft - Local', 'External Load',\n",
       "       'Public Aircraft - State', 'Banner Tow', 'Firefighting',\n",
       "       'Air Race show', 'PUBS', 'ASHO', 'PUBL'], dtype=object)"
      ]
     },
     "execution_count": 61,
     "metadata": {},
     "output_type": "execute_result"
    }
   ],
   "source": [
    "df['Purpose.of.flight'].unique()"
   ]
  },
  {
   "cell_type": "code",
   "execution_count": 62,
   "metadata": {},
   "outputs": [
    {
     "data": {
      "text/plain": [
       "2.9632371083148286"
      ]
     },
     "execution_count": 62,
     "metadata": {},
     "output_type": "execute_result"
    }
   ],
   "source": [
    "#checking if need to drop null values\n",
    "df['Purpose.of.flight'].isna().mean()*100"
   ]
  },
  {
   "cell_type": "code",
   "execution_count": 63,
   "metadata": {},
   "outputs": [
    {
     "data": {
      "text/plain": [
       "Personal                     47304\n",
       "Instructional                10174\n",
       "Unknown                       6206\n",
       "Aerial Application            4527\n",
       "Business                      3843\n",
       "Positioning                   1566\n",
       "Other Work Use                1178\n",
       "Ferry                          786\n",
       "Aerial Observation             705\n",
       "Public Aircraft                698\n",
       "Executive/corporate            509\n",
       "Flight Test                    355\n",
       "Skydiving                      167\n",
       "External Load                   98\n",
       "Public Aircraft - Federal       97\n",
       "Banner Tow                      95\n",
       "Air Race show                   81\n",
       "Public Aircraft - Local         66\n",
       "Public Aircraft - State         61\n",
       "Air Race/show                   59\n",
       "Glider Tow                      48\n",
       "Firefighting                    21\n",
       "Air Drop                         9\n",
       "ASHO                             2\n",
       "PUBS                             2\n",
       "PUBL                             1\n",
       "Name: Purpose.of.flight, dtype: int64"
      ]
     },
     "execution_count": 63,
     "metadata": {},
     "output_type": "execute_result"
    }
   ],
   "source": [
    "df['Purpose.of.flight'].value_counts()"
   ]
  },
  {
   "cell_type": "code",
   "execution_count": 64,
   "metadata": {},
   "outputs": [
    {
     "data": {
      "text/plain": [
       "array(['Personal', 'Unknown', 'Business', 'Instructional', 'Ferry',\n",
       "       'Executive/corporate', 'Aerial Observation', 'Aerial Application',\n",
       "       'Public Aircraft', 'Skydiving', 'Other Work Use', 'Positioning',\n",
       "       'Flight Test', 'ASHO', 'Air Drop', 'Glider Tow', 'External Load',\n",
       "       'Banner Tow', 'Firefighting'], dtype=object)"
      ]
     },
     "execution_count": 64,
     "metadata": {},
     "output_type": "execute_result"
    }
   ],
   "source": [
    "#The null values are not many, can proceed to impute the string Unknown since it already exists\n",
    "df['Purpose.of.flight'].fillna('Unknown', inplace=True)\n",
    "df['Purpose.of.flight'] = df['Purpose.of.flight'].replace({\n",
    "    'Air Race show': 'ASHO',\n",
    "    'Air Race/show': 'ASHO',\n",
    "    'Public Aircraft - Federal': 'Public Aircraft',\n",
    "    'Public Aircraft - Local': 'Public Aircraft',\n",
    "    'Public Aircraft - State': 'Public Aircraft',\n",
    "    'PUBS': 'Public Aircraft',\n",
    "    'PUBL': 'Public Aircraft'\n",
    "})\n",
    "df['Purpose.of.flight'].unique()"
   ]
  },
  {
   "cell_type": "code",
   "execution_count": 65,
   "metadata": {},
   "outputs": [
    {
     "data": {
      "text/plain": [
       "array(['Cruise', 'Unknown', 'Approach', 'Climb', 'Takeoff', 'Landing',\n",
       "       'Taxi', 'Descent', 'Maneuvering', 'Standing', 'Go-around', 'Other',\n",
       "       nan], dtype=object)"
      ]
     },
     "execution_count": 65,
     "metadata": {},
     "output_type": "execute_result"
    }
   ],
   "source": [
    "df['Broad.phase.of.flight'].unique()"
   ]
  },
  {
   "cell_type": "code",
   "execution_count": 66,
   "metadata": {},
   "outputs": [
    {
     "data": {
      "text/plain": [
       "23.966197878114976"
      ]
     },
     "execution_count": 66,
     "metadata": {},
     "output_type": "execute_result"
    }
   ],
   "source": [
    "df['Broad.phase.of.flight'].isna().mean()*100"
   ]
  },
  {
   "cell_type": "markdown",
   "metadata": {},
   "source": [
    "**Since 23.97% of the 'Broad.phase.of.flight' is null and Unknown is pre-existing, we can impute the null using the string 'Unkown'**"
   ]
  },
  {
   "cell_type": "code",
   "execution_count": 67,
   "metadata": {},
   "outputs": [],
   "source": [
    "df['Broad.phase.of.flight'].fillna('Unknown', inplace=True)"
   ]
  },
  {
   "cell_type": "code",
   "execution_count": 68,
   "metadata": {},
   "outputs": [
    {
     "name": "stdout",
     "output_type": "stream",
     "text": [
      "<class 'pandas.core.frame.DataFrame'>\n",
      "Int64Index: 81060 entries, 0 to 88767\n",
      "Data columns (total 29 columns):\n",
      " #   Column                  Non-Null Count  Dtype         \n",
      "---  ------                  --------------  -----         \n",
      " 0   Event.Id                81060 non-null  object        \n",
      " 1   Investigation.Type      81060 non-null  object        \n",
      " 2   Accident.Number         81060 non-null  object        \n",
      " 3   Event.Date              81060 non-null  datetime64[ns]\n",
      " 4   Location                81031 non-null  object        \n",
      " 5   Country                 81060 non-null  object        \n",
      " 6   Latitude                29929 non-null  object        \n",
      " 7   Longitude               29919 non-null  object        \n",
      " 8   Airport.Code            81060 non-null  object        \n",
      " 9   Airport.Name            81060 non-null  object        \n",
      " 10  Injury.Severity         81060 non-null  object        \n",
      " 11  Aircraft.damage         81060 non-null  object        \n",
      " 12  Aircraft.Category       81060 non-null  object        \n",
      " 13  Registration.Number     81060 non-null  object        \n",
      " 14  Make                    81060 non-null  object        \n",
      " 15  Model                   81060 non-null  object        \n",
      " 16  Amateur.Built           81060 non-null  object        \n",
      " 17  Number.of.Engines       79018 non-null  float64       \n",
      " 18  Engine.Type             81060 non-null  object        \n",
      " 19  Purpose.of.flight       81060 non-null  object        \n",
      " 20  Total.Fatal.Injuries    70224 non-null  float64       \n",
      " 21  Total.Serious.Injuries  69453 non-null  float64       \n",
      " 22  Total.Minor.Injuries    70096 non-null  float64       \n",
      " 23  Total.Uninjured         75915 non-null  float64       \n",
      " 24  Weather.Condition       81060 non-null  object        \n",
      " 25  Broad.phase.of.flight   81060 non-null  object        \n",
      " 26  Report.Status           81060 non-null  object        \n",
      " 27  Publication.Date        81060 non-null  datetime64[ns]\n",
      " 28  Severity_class          81060 non-null  object        \n",
      "dtypes: datetime64[ns](2), float64(5), object(22)\n",
      "memory usage: 18.6+ MB\n"
     ]
    }
   ],
   "source": [
    "df.info()"
   ]
  },
  {
   "cell_type": "code",
   "execution_count": 69,
   "metadata": {},
   "outputs": [
    {
     "data": {
      "text/plain": [
       "29"
      ]
     },
     "execution_count": 69,
     "metadata": {},
     "output_type": "execute_result"
    }
   ],
   "source": [
    "df['Location'].isna().sum()"
   ]
  },
  {
   "cell_type": "markdown",
   "metadata": {},
   "source": [
    "**Handling Missing Location Values**\n",
    "\n",
    "Only 29 rows has missing values in the `Location` field, which represents less than 0.04% of the dataset. These rows can be dropped to maintain data quality without affecting the overall analysis.\n"
   ]
  },
  {
   "cell_type": "code",
   "execution_count": 70,
   "metadata": {},
   "outputs": [],
   "source": [
    "df = df.dropna(subset=['Location'])"
   ]
  },
  {
   "cell_type": "markdown",
   "metadata": {},
   "source": [
    "### Cleaning numerical columns"
   ]
  },
  {
   "cell_type": "code",
   "execution_count": 71,
   "metadata": {},
   "outputs": [
    {
     "data": {
      "text/html": [
       "<div>\n",
       "<style scoped>\n",
       "    .dataframe tbody tr th:only-of-type {\n",
       "        vertical-align: middle;\n",
       "    }\n",
       "\n",
       "    .dataframe tbody tr th {\n",
       "        vertical-align: top;\n",
       "    }\n",
       "\n",
       "    .dataframe thead th {\n",
       "        text-align: right;\n",
       "    }\n",
       "</style>\n",
       "<table border=\"1\" class=\"dataframe\">\n",
       "  <thead>\n",
       "    <tr style=\"text-align: right;\">\n",
       "      <th></th>\n",
       "      <th>count</th>\n",
       "      <th>mean</th>\n",
       "      <th>std</th>\n",
       "      <th>min</th>\n",
       "      <th>25%</th>\n",
       "      <th>50%</th>\n",
       "      <th>75%</th>\n",
       "      <th>max</th>\n",
       "    </tr>\n",
       "  </thead>\n",
       "  <tbody>\n",
       "    <tr>\n",
       "      <th>Number.of.Engines</th>\n",
       "      <td>78995.0</td>\n",
       "      <td>1.139465</td>\n",
       "      <td>0.437711</td>\n",
       "      <td>0.0</td>\n",
       "      <td>1.0</td>\n",
       "      <td>1.0</td>\n",
       "      <td>1.0</td>\n",
       "      <td>8.0</td>\n",
       "    </tr>\n",
       "    <tr>\n",
       "      <th>Total.Fatal.Injuries</th>\n",
       "      <td>70199.0</td>\n",
       "      <td>0.463938</td>\n",
       "      <td>3.378213</td>\n",
       "      <td>0.0</td>\n",
       "      <td>0.0</td>\n",
       "      <td>0.0</td>\n",
       "      <td>0.0</td>\n",
       "      <td>270.0</td>\n",
       "    </tr>\n",
       "    <tr>\n",
       "      <th>Total.Serious.Injuries</th>\n",
       "      <td>69431.0</td>\n",
       "      <td>0.262044</td>\n",
       "      <td>1.191406</td>\n",
       "      <td>0.0</td>\n",
       "      <td>0.0</td>\n",
       "      <td>0.0</td>\n",
       "      <td>0.0</td>\n",
       "      <td>137.0</td>\n",
       "    </tr>\n",
       "    <tr>\n",
       "      <th>Total.Minor.Injuries</th>\n",
       "      <td>70075.0</td>\n",
       "      <td>0.348056</td>\n",
       "      <td>1.543043</td>\n",
       "      <td>0.0</td>\n",
       "      <td>0.0</td>\n",
       "      <td>0.0</td>\n",
       "      <td>0.0</td>\n",
       "      <td>171.0</td>\n",
       "    </tr>\n",
       "    <tr>\n",
       "      <th>Total.Uninjured</th>\n",
       "      <td>75890.0</td>\n",
       "      <td>4.638002</td>\n",
       "      <td>25.357128</td>\n",
       "      <td>0.0</td>\n",
       "      <td>0.0</td>\n",
       "      <td>1.0</td>\n",
       "      <td>2.0</td>\n",
       "      <td>699.0</td>\n",
       "    </tr>\n",
       "  </tbody>\n",
       "</table>\n",
       "</div>"
      ],
      "text/plain": [
       "                          count      mean        std  min  25%  50%  75%  \\\n",
       "Number.of.Engines       78995.0  1.139465   0.437711  0.0  1.0  1.0  1.0   \n",
       "Total.Fatal.Injuries    70199.0  0.463938   3.378213  0.0  0.0  0.0  0.0   \n",
       "Total.Serious.Injuries  69431.0  0.262044   1.191406  0.0  0.0  0.0  0.0   \n",
       "Total.Minor.Injuries    70075.0  0.348056   1.543043  0.0  0.0  0.0  0.0   \n",
       "Total.Uninjured         75890.0  4.638002  25.357128  0.0  0.0  1.0  2.0   \n",
       "\n",
       "                          max  \n",
       "Number.of.Engines         8.0  \n",
       "Total.Fatal.Injuries    270.0  \n",
       "Total.Serious.Injuries  137.0  \n",
       "Total.Minor.Injuries    171.0  \n",
       "Total.Uninjured         699.0  "
      ]
     },
     "execution_count": 71,
     "metadata": {},
     "output_type": "execute_result"
    }
   ],
   "source": [
    "#Checking Summary statistics\n",
    "df.describe().T"
   ]
  },
  {
   "cell_type": "code",
   "execution_count": 72,
   "metadata": {},
   "outputs": [
    {
     "data": {
      "text/plain": [
       "array([ 1., nan,  2.,  0.,  3.,  4.,  8.])"
      ]
     },
     "execution_count": 72,
     "metadata": {},
     "output_type": "execute_result"
    }
   ],
   "source": [
    "df['Number.of.Engines'].unique()"
   ]
  },
  {
   "cell_type": "code",
   "execution_count": 73,
   "metadata": {},
   "outputs": [
    {
     "data": {
      "image/png": "[encoded data removed]",
      "text/plain": [
       "<Figure size 432x288 with 1 Axes>"
      ]
     },
     "metadata": {
      "needs_background": "light"
     },
     "output_type": "display_data"
    }
   ],
   "source": [
    "df['Number.of.Engines'].plot(kind='kde')\n",
    "plt.xlim(0, df['Number.of.Engines'].max() + 1)\n",
    "plt.show()"
   ]
  },
  {
   "cell_type": "code",
   "execution_count": 74,
   "metadata": {},
   "outputs": [
    {
     "data": {
      "text/plain": [
       "2.5126186274388815"
      ]
     },
     "execution_count": 74,
     "metadata": {},
     "output_type": "execute_result"
    }
   ],
   "source": [
    "df['Number.of.Engines'].isna().mean()*100"
   ]
  },
  {
   "cell_type": "markdown",
   "metadata": {},
   "source": [
    "**Since the plot of Number of Engines is positively skewed i.e. the long right tail, it is prudent we impute using the median\n",
    "instead of mean**"
   ]
  },
  {
   "cell_type": "code",
   "execution_count": 75,
   "metadata": {},
   "outputs": [],
   "source": [
    "median_no_of_engines = df['Number.of.Engines'].median()\n",
    "df['Number.of.Engines'].fillna(median_no_of_engines, inplace=True)"
   ]
  },
  {
   "cell_type": "code",
   "execution_count": 76,
   "metadata": {},
   "outputs": [
    {
     "data": {
      "image/png": "[encoded data removed]",
      "text/plain": [
       "<Figure size 432x288 with 1 Axes>"
      ]
     },
     "metadata": {
      "needs_background": "light"
     },
     "output_type": "display_data"
    }
   ],
   "source": [
    "df['Number.of.Engines'].plot(kind='kde')\n",
    "plt.xlim(0, df['Number.of.Engines'].max() + 1)\n",
    "plt.show()"
   ]
  },
  {
   "cell_type": "code",
   "execution_count": 77,
   "metadata": {},
   "outputs": [
    {
     "data": {
      "text/plain": [
       "array([  2.,   4.,   3.,   1.,  nan,   0.,   8.,  78.,   7.,   6.,   5.,\n",
       "       153.,  12.,  14.,  23.,  10.,  11.,   9.,  17.,  13.,  29.,  70.,\n",
       "       135.,  31., 256.,  25.,  82., 156.,  28.,  18.,  43.,  15., 270.,\n",
       "       144., 174., 111., 131.,  20.,  73.,  27.,  34.,  30.,  16.,  37.,\n",
       "       132.,  68.,  65., 160., 110., 230., 228., 217.,  88.,  19.,  44.,\n",
       "        64.,  92., 265.,  21.,  49., 154.,  50.,  33.])"
      ]
     },
     "execution_count": 77,
     "metadata": {},
     "output_type": "execute_result"
    }
   ],
   "source": [
    "df['Total.Fatal.Injuries'].unique()"
   ]
  },
  {
   "cell_type": "code",
   "execution_count": 78,
   "metadata": {},
   "outputs": [
    {
     "data": {
      "image/png": "[encoded data removed]",
      "text/plain": [
       "<Figure size 432x288 with 1 Axes>"
      ]
     },
     "metadata": {
      "needs_background": "light"
     },
     "output_type": "display_data"
    }
   ],
   "source": [
    "df['Total.Fatal.Injuries'].plot(kind='kde')\n",
    "plt.show()"
   ]
  },
  {
   "cell_type": "markdown",
   "metadata": {},
   "source": [
    "**Since the plot of Total.Fatal.Injuries is positively skewed i.e. the long right tail, it is prudent we impute using the median\n",
    "instead of mean**"
   ]
  },
  {
   "cell_type": "code",
   "execution_count": 79,
   "metadata": {},
   "outputs": [],
   "source": [
    "median_no_fatal = df['Total.Fatal.Injuries'].median()\n",
    "df['Total.Fatal.Injuries'].fillna(median_no_fatal, inplace=True)"
   ]
  },
  {
   "cell_type": "code",
   "execution_count": 80,
   "metadata": {},
   "outputs": [
    {
     "data": {
      "image/png": "[encoded data removed]",
      "text/plain": [
       "<Figure size 432x288 with 1 Axes>"
      ]
     },
     "metadata": {
      "needs_background": "light"
     },
     "output_type": "display_data"
    }
   ],
   "source": [
    "df['Total.Fatal.Injuries'].plot(kind='kde')\n",
    "plt.show()"
   ]
  },
  {
   "cell_type": "code",
   "execution_count": 81,
   "metadata": {},
   "outputs": [
    {
     "data": {
      "text/plain": [
       "array([  0.,  nan,   2.,   1.,   6.,   4.,   5.,  10.,   3.,   8.,   9.,\n",
       "         7.,  15.,  17.,  28.,  26.,  47.,  14.,  81.,  13.,  60.,  16.,\n",
       "        50.,  18.,  12.,  45.,  25.,  88.,  41.,  11.,  33., 137.,  19.,\n",
       "        21.,  27.,  20., 125.,  22.])"
      ]
     },
     "execution_count": 81,
     "metadata": {},
     "output_type": "execute_result"
    }
   ],
   "source": [
    "df['Total.Serious.Injuries'].unique()"
   ]
  },
  {
   "cell_type": "code",
   "execution_count": 82,
   "metadata": {},
   "outputs": [
    {
     "data": {
      "text/plain": [
       "14.315508879317793"
      ]
     },
     "execution_count": 82,
     "metadata": {},
     "output_type": "execute_result"
    }
   ],
   "source": [
    "df['Total.Serious.Injuries'].isnull().mean()*100"
   ]
  },
  {
   "cell_type": "code",
   "execution_count": 83,
   "metadata": {},
   "outputs": [
    {
     "data": {
      "image/png": "[encoded data removed]",
      "text/plain": [
       "<Figure size 432x288 with 1 Axes>"
      ]
     },
     "metadata": {
      "needs_background": "light"
     },
     "output_type": "display_data"
    }
   ],
   "source": [
    "df['Total.Serious.Injuries'].plot(kind='kde')\n",
    "plt.show()"
   ]
  },
  {
   "cell_type": "markdown",
   "metadata": {},
   "source": [
    "**Since the plot of Total.Serious.Injuries is positively skewed i.e. the long right tail, it is prudent we impute using the median\n",
    "instead of mean**"
   ]
  },
  {
   "cell_type": "code",
   "execution_count": 84,
   "metadata": {},
   "outputs": [],
   "source": [
    "median_no_serious = df['Total.Serious.Injuries'].median()\n",
    "df['Total.Serious.Injuries'].fillna(median_no_serious, inplace=True)"
   ]
  },
  {
   "cell_type": "code",
   "execution_count": 85,
   "metadata": {},
   "outputs": [
    {
     "data": {
      "image/png": "[encoded data removed]",
      "text/plain": [
       "<Figure size 432x288 with 1 Axes>"
      ]
     },
     "metadata": {
      "needs_background": "light"
     },
     "output_type": "display_data"
    }
   ],
   "source": [
    "df['Total.Serious.Injuries'].plot(kind='kde')\n",
    "plt.show()"
   ]
  },
  {
   "cell_type": "code",
   "execution_count": 86,
   "metadata": {},
   "outputs": [
    {
     "data": {
      "text/plain": [
       "array([  0.,  nan,   1.,   3.,   2.,   4.,  24.,   6.,   5.,  25.,  17.,\n",
       "        19.,  33.,  14.,   8.,  13.,  15.,   7.,   9.,  16.,  20.,  11.,\n",
       "        12.,  10.,  38.,  42.,  29.,  62.,  28.,  31.,  39.,  32.,  18.,\n",
       "        27.,  57.,  50.,  23., 125.,  45.,  26.,  36.,  21.,  96.,  30.,\n",
       "        22.,  58., 171.,  65.,  71.,  35.,  43.])"
      ]
     },
     "execution_count": 86,
     "metadata": {},
     "output_type": "execute_result"
    }
   ],
   "source": [
    "df['Total.Minor.Injuries'].unique()"
   ]
  },
  {
   "cell_type": "code",
   "execution_count": 87,
   "metadata": {},
   "outputs": [
    {
     "data": {
      "image/png": "[encoded data removed]",
      "text/plain": [
       "<Figure size 432x288 with 1 Axes>"
      ]
     },
     "metadata": {
      "needs_background": "light"
     },
     "output_type": "display_data"
    }
   ],
   "source": [
    "df['Total.Minor.Injuries'].plot(kind='kde')\n",
    "plt.show()"
   ]
  },
  {
   "cell_type": "code",
   "execution_count": 88,
   "metadata": {},
   "outputs": [],
   "source": [
    "median_no_minor = df['Total.Minor.Injuries'].median()\n",
    "df['Total.Minor.Injuries'].fillna(median_no_minor, inplace=True)"
   ]
  },
  {
   "cell_type": "code",
   "execution_count": 89,
   "metadata": {},
   "outputs": [
    {
     "data": {
      "image/png": "[encoded data removed]",
      "text/plain": [
       "<Figure size 432x288 with 1 Axes>"
      ]
     },
     "metadata": {
      "needs_background": "light"
     },
     "output_type": "display_data"
    }
   ],
   "source": [
    "df['Total.Minor.Injuries'].plot(kind='kde')\n",
    "plt.show()"
   ]
  },
  {
   "cell_type": "code",
   "execution_count": 90,
   "metadata": {},
   "outputs": [
    {
     "data": {
      "text/plain": [
       "array([  0.,  nan,  44.,   2.,   1.,   3.,   6.,   4., 149.,  12., 182.,\n",
       "       154.,   5.,  10.,   7., 119.,  36.,  51.,  16.,  83.,   9.,  68.,\n",
       "        30.,  20.,  18.,   8., 108.,  11., 152.,  21.,  48.,  56., 113.,\n",
       "       129., 109.,  29.,  13.,  84.,  74., 142., 102., 393., 128., 112.,\n",
       "        17.,  65.,  67., 136.,  23., 116.,  22.,  57.,  58.,  73., 203.,\n",
       "        31., 201., 412., 159.,  39., 186., 588.,  82.,  95., 146., 190.,\n",
       "       245., 172.,  52.,  25.,  59., 131., 151., 180., 150.,  86.,  19.,\n",
       "       133., 240.,  15., 145., 125., 440.,  77., 122., 205., 289., 110.,\n",
       "        79.,  66.,  87.,  78.,  49., 104., 250.,  33., 138., 100.,  53.,\n",
       "       158., 127., 160., 260.,  47.,  38., 165., 495.,  81.,  41.,  14.,\n",
       "        72.,  98., 188., 239.,  27., 105., 111., 212., 157.,  46., 121.,\n",
       "        75.,  71.,  45.,  91.,  99.,  85.,  96.,  50.,  93., 276., 365.,\n",
       "       371., 200., 103., 189.,  37., 107.,  61.,  26., 271., 130.,  89.,\n",
       "       439., 132., 219.,  43., 238., 195., 118., 175.,  32., 507., 421.,\n",
       "        90., 225., 269., 169., 236., 224., 134., 106., 331., 140.,  94.,\n",
       "       192., 161., 270.,  69., 436., 213., 233., 115.,  42., 167., 137.,\n",
       "       114., 148., 222.,  92., 375.,  76., 171., 173., 246., 234., 123.,\n",
       "       220., 202., 408., 279., 363., 135., 528., 334., 178., 147., 126.,\n",
       "        62.,  70.,  97., 228., 226.,  64., 290., 206., 297., 349., 208.,\n",
       "       144.,  54.,  24., 258., 304., 274., 286.,  55., 199., 221.,  80.,\n",
       "       272., 211., 262., 441., 194., 309., 185., 261., 241., 383., 177.,\n",
       "       259., 244., 254., 156.,  40.,  34., 247., 176.,  63.,  28., 218.,\n",
       "       282., 320., 204., 124., 215., 298., 120., 280., 179., 315., 461.,\n",
       "       153.,  60., 308.,  88., 361., 277., 235., 187., 191., 101., 162.,\n",
       "        35., 197., 193., 164., 370., 387., 163., 139., 267., 357., 339.,\n",
       "       288., 231., 300., 255., 306., 443., 385., 248., 459., 141., 414.,\n",
       "       229., 166., 209., 184., 168., 170., 198., 299., 573., 223., 265.,\n",
       "       322., 196., 117., 253., 399., 360., 155., 183., 227., 249., 340.,\n",
       "       699., 325., 287., 243., 230., 386., 252., 181., 257., 283., 404.,\n",
       "       319., 450., 356., 216., 214., 448., 324., 338., 273., 232., 401.,\n",
       "       143., 312., 368., 501., 237., 263., 291., 314., 285., 311., 352.,\n",
       "       210., 217., 268., 454., 576., 275., 380., 394., 362., 397., 278.,\n",
       "       264., 174., 333., 367., 326., 295., 301., 294., 378.])"
      ]
     },
     "execution_count": 90,
     "metadata": {},
     "output_type": "execute_result"
    }
   ],
   "source": [
    "df['Total.Uninjured'].unique()"
   ]
  },
  {
   "cell_type": "code",
   "execution_count": 91,
   "metadata": {},
   "outputs": [
    {
     "data": {
      "text/plain": [
       "6.344485443842481"
      ]
     },
     "execution_count": 91,
     "metadata": {},
     "output_type": "execute_result"
    }
   ],
   "source": [
    "df['Total.Uninjured'].isnull().mean()*100"
   ]
  },
  {
   "cell_type": "code",
   "execution_count": 92,
   "metadata": {},
   "outputs": [
    {
     "data": {
      "image/png": "[encoded data removed]",
      "text/plain": [
       "<Figure size 432x288 with 1 Axes>"
      ]
     },
     "metadata": {
      "needs_background": "light"
     },
     "output_type": "display_data"
    }
   ],
   "source": [
    "df['Total.Uninjured'].plot(kind='kde')\n",
    "plt.show()"
   ]
  },
  {
   "cell_type": "code",
   "execution_count": 93,
   "metadata": {},
   "outputs": [],
   "source": [
    "median_no_uninjured = df['Total.Uninjured'].median()\n",
    "df['Total.Uninjured'].fillna(median_no_uninjured, inplace=True)"
   ]
  },
  {
   "cell_type": "code",
   "execution_count": 94,
   "metadata": {},
   "outputs": [
    {
     "data": {
      "image/png": "[encoded data removed]",
      "text/plain": [
       "<Figure size 432x288 with 1 Axes>"
      ]
     },
     "metadata": {
      "needs_background": "light"
     },
     "output_type": "display_data"
    }
   ],
   "source": [
    "df['Total.Uninjured'].plot(kind='kde')\n",
    "plt.show()"
   ]
  },
  {
   "cell_type": "code",
   "execution_count": 95,
   "metadata": {},
   "outputs": [
    {
     "name": "stdout",
     "output_type": "stream",
     "text": [
      "<class 'pandas.core.frame.DataFrame'>\n",
      "Int64Index: 81031 entries, 0 to 88767\n",
      "Data columns (total 29 columns):\n",
      " #   Column                  Non-Null Count  Dtype         \n",
      "---  ------                  --------------  -----         \n",
      " 0   Event.Id                81031 non-null  object        \n",
      " 1   Investigation.Type      81031 non-null  object        \n",
      " 2   Accident.Number         81031 non-null  object        \n",
      " 3   Event.Date              81031 non-null  datetime64[ns]\n",
      " 4   Location                81031 non-null  object        \n",
      " 5   Country                 81031 non-null  object        \n",
      " 6   Latitude                29925 non-null  object        \n",
      " 7   Longitude               29915 non-null  object        \n",
      " 8   Airport.Code            81031 non-null  object        \n",
      " 9   Airport.Name            81031 non-null  object        \n",
      " 10  Injury.Severity         81031 non-null  object        \n",
      " 11  Aircraft.damage         81031 non-null  object        \n",
      " 12  Aircraft.Category       81031 non-null  object        \n",
      " 13  Registration.Number     81031 non-null  object        \n",
      " 14  Make                    81031 non-null  object        \n",
      " 15  Model                   81031 non-null  object        \n",
      " 16  Amateur.Built           81031 non-null  object        \n",
      " 17  Number.of.Engines       81031 non-null  float64       \n",
      " 18  Engine.Type             81031 non-null  object        \n",
      " 19  Purpose.of.flight       81031 non-null  object        \n",
      " 20  Total.Fatal.Injuries    81031 non-null  float64       \n",
      " 21  Total.Serious.Injuries  81031 non-null  float64       \n",
      " 22  Total.Minor.Injuries    81031 non-null  float64       \n",
      " 23  Total.Uninjured         81031 non-null  float64       \n",
      " 24  Weather.Condition       81031 non-null  object        \n",
      " 25  Broad.phase.of.flight   81031 non-null  object        \n",
      " 26  Report.Status           81031 non-null  object        \n",
      " 27  Publication.Date        81031 non-null  datetime64[ns]\n",
      " 28  Severity_class          81031 non-null  object        \n",
      "dtypes: datetime64[ns](2), float64(5), object(22)\n",
      "memory usage: 18.5+ MB\n"
     ]
    }
   ],
   "source": [
    "df.info()"
   ]
  },
  {
   "cell_type": "code",
   "execution_count": 96,
   "metadata": {},
   "outputs": [
    {
     "name": "stdout",
     "output_type": "stream",
     "text": [
      "Column: Number.of.Engines\n",
      "[1. 2. 0. 3. 4. 8.]\n",
      "----------------------------------------\n",
      "Column: Total.Fatal.Injuries\n",
      "[  2.   4.   3.   1.   0.   8.  78.   7.   6.   5. 153.  12.  14.  23.\n",
      "  10.  11.   9.  17.  13.  29.  70. 135.  31. 256.  25.  82. 156.  28.\n",
      "  18.  43.  15. 270. 144. 174. 111. 131.  20.  73.  27.  34.  30.  16.\n",
      "  37. 132.  68.  65. 160. 110. 230. 228. 217.  88.  19.  44.  64.  92.\n",
      " 265.  21.  49. 154.  50.  33.]\n",
      "----------------------------------------\n",
      "Column: Total.Serious.Injuries\n",
      "[  0.   2.   1.   6.   4.   5.  10.   3.   8.   9.   7.  15.  17.  28.\n",
      "  26.  47.  14.  81.  13.  60.  16.  50.  18.  12.  45.  25.  88.  41.\n",
      "  11.  33. 137.  19.  21.  27.  20. 125.  22.]\n",
      "----------------------------------------\n",
      "Column: Total.Minor.Injuries\n",
      "[  0.   1.   3.   2.   4.  24.   6.   5.  25.  17.  19.  33.  14.   8.\n",
      "  13.  15.   7.   9.  16.  20.  11.  12.  10.  38.  42.  29.  62.  28.\n",
      "  31.  39.  32.  18.  27.  57.  50.  23. 125.  45.  26.  36.  21.  96.\n",
      "  30.  22.  58. 171.  65.  71.  35.  43.]\n",
      "----------------------------------------\n",
      "Column: Total.Uninjured\n",
      "[  0.   1.  44.   2.   3.   6.   4. 149.  12. 182. 154.   5.  10.   7.\n",
      " 119.  36.  51.  16.  83.   9.  68.  30.  20.  18.   8. 108.  11. 152.\n",
      "  21.  48.  56. 113. 129. 109.  29.  13.  84.  74. 142. 102. 393. 128.\n",
      " 112.  17.  65.  67. 136.  23. 116.  22.  57.  58.  73. 203.  31. 201.\n",
      " 412. 159.  39. 186. 588.  82.  95. 146. 190. 245. 172.  52.  25.  59.\n",
      " 131. 151. 180. 150.  86.  19. 133. 240.  15. 145. 125. 440.  77. 122.\n",
      " 205. 289. 110.  79.  66.  87.  78.  49. 104. 250.  33. 138. 100.  53.\n",
      " 158. 127. 160. 260.  47.  38. 165. 495.  81.  41.  14.  72.  98. 188.\n",
      " 239.  27. 105. 111. 212. 157.  46. 121.  75.  71.  45.  91.  99.  85.\n",
      "  96.  50.  93. 276. 365. 371. 200. 103. 189.  37. 107.  61.  26. 271.\n",
      " 130.  89. 439. 132. 219.  43. 238. 195. 118. 175.  32. 507. 421.  90.\n",
      " 225. 269. 169. 236. 224. 134. 106. 331. 140.  94. 192. 161. 270.  69.\n",
      " 436. 213. 233. 115.  42. 167. 137. 114. 148. 222.  92. 375.  76. 171.\n",
      " 173. 246. 234. 123. 220. 202. 408. 279. 363. 135. 528. 334. 178. 147.\n",
      " 126.  62.  70.  97. 228. 226.  64. 290. 206. 297. 349. 208. 144.  54.\n",
      "  24. 258. 304. 274. 286.  55. 199. 221.  80. 272. 211. 262. 441. 194.\n",
      " 309. 185. 261. 241. 383. 177. 259. 244. 254. 156.  40.  34. 247. 176.\n",
      "  63.  28. 218. 282. 320. 204. 124. 215. 298. 120. 280. 179. 315. 461.\n",
      " 153.  60. 308.  88. 361. 277. 235. 187. 191. 101. 162.  35. 197. 193.\n",
      " 164. 370. 387. 163. 139. 267. 357. 339. 288. 231. 300. 255. 306. 443.\n",
      " 385. 248. 459. 141. 414. 229. 166. 209. 184. 168. 170. 198. 299. 573.\n",
      " 223. 265. 322. 196. 117. 253. 399. 360. 155. 183. 227. 249. 340. 699.\n",
      " 325. 287. 243. 230. 386. 252. 181. 257. 283. 404. 319. 450. 356. 216.\n",
      " 214. 448. 324. 338. 273. 232. 401. 143. 312. 368. 501. 237. 263. 291.\n",
      " 314. 285. 311. 352. 210. 217. 268. 454. 576. 275. 380. 394. 362. 397.\n",
      " 278. 264. 174. 333. 367. 326. 295. 301. 294. 378.]\n",
      "----------------------------------------\n"
     ]
    }
   ],
   "source": [
    "### checking for outliers and removing in numerical columns\n",
    "for col in df.select_dtypes(include='number').columns:\n",
    "    print(f\"Column: {col}\")\n",
    "    print(df[col].unique())\n",
    "    print(\"-\" * 40)\n"
   ]
  },
  {
   "cell_type": "code",
   "execution_count": 97,
   "metadata": {},
   "outputs": [
    {
     "data": {
      "image/png": "[encoded data removed]",
      "text/plain": [
       "<Figure size 720x288 with 1 Axes>"
      ]
     },
     "metadata": {
      "needs_background": "light"
     },
     "output_type": "display_data"
    },
    {
     "data": {
      "image/png": "[encoded data removed]",
      "text/plain": [
       "<Figure size 720x288 with 1 Axes>"
      ]
     },
     "metadata": {
      "needs_background": "light"
     },
     "output_type": "display_data"
    },
    {
     "data": {
      "image/png": "[encoded data removed]",
      "text/plain": [
       "<Figure size 720x288 with 1 Axes>"
      ]
     },
     "metadata": {
      "needs_background": "light"
     },
     "output_type": "display_data"
    },
    {
     "data": {
      "image/png": "[encoded data removed]",
      "text/plain": [
       "<Figure size 720x288 with 1 Axes>"
      ]
     },
     "metadata": {
      "needs_background": "light"
     },
     "output_type": "display_data"
    }
   ],
   "source": [
    "for col in ['Total.Fatal.Injuries', 'Total.Serious.Injuries', 'Total.Minor.Injuries', 'Total.Uninjured']:\n",
    "    plt.figure(figsize=(10,4))\n",
    "    sns.boxplot(x=df[col])\n",
    "    plt.title(f\"Boxplot for {col}\", fontweight='bold')\n",
    "    plt.xlabel(col)\n",
    "    plt.tight_layout()\n",
    "    plt.show();"
   ]
  },
  {
   "cell_type": "code",
   "execution_count": 98,
   "metadata": {},
   "outputs": [
    {
     "name": "stdout",
     "output_type": "stream",
     "text": [
      "(81031, 29)\n",
      "(80670, 29)\n"
     ]
    }
   ],
   "source": [
    "print(df.shape)\n",
    "def rmv_outliers_iqr(df, column):\n",
    "    Qlow = df[column].quantile(0.01)\n",
    "    Qhigh = df[column].quantile(0.99)\n",
    "    IQR = Qhigh - Qlow\n",
    "    lower_bound = Qlow - 1.5 * IQR\n",
    "    upper_bound = Qhigh + 1.5 * IQR\n",
    "    return df[(df[column] >= lower_bound) & (df[column] <= upper_bound)]\n",
    "for col in ['Total.Fatal.Injuries', 'Total.Serious.Injuries', 'Total.Minor.Injuries', 'Total.Uninjured']:\n",
    "    df = rmv_outliers_iqr(df, col)\n",
    "print(df.shape)"
   ]
  },
  {
   "cell_type": "markdown",
   "metadata": {},
   "source": [
    "**Outlier Treatment**\n",
    "\n",
    "Outliers were identified and removed for four injury-related columns using the 1st and 99th percentiles, combined with an IQR buffer. This removed only 361 records (0.45%) out of 81,060, ensuring the dataset remains representative while reducing extreme skew in analyses. This is better than the normal IQR method which removed 51% of the data.\n"
   ]
  },
  {
   "cell_type": "code",
   "execution_count": 99,
   "metadata": {},
   "outputs": [
    {
     "name": "stdout",
     "output_type": "stream",
     "text": [
      "<class 'pandas.core.frame.DataFrame'>\n",
      "Int64Index: 80670 entries, 0 to 88767\n",
      "Data columns (total 29 columns):\n",
      " #   Column                  Non-Null Count  Dtype         \n",
      "---  ------                  --------------  -----         \n",
      " 0   Event.Id                80670 non-null  object        \n",
      " 1   Investigation.Type      80670 non-null  object        \n",
      " 2   Accident.Number         80670 non-null  object        \n",
      " 3   Event.Date              80670 non-null  datetime64[ns]\n",
      " 4   Location                80670 non-null  object        \n",
      " 5   Country                 80670 non-null  object        \n",
      " 6   Latitude                29852 non-null  object        \n",
      " 7   Longitude               29842 non-null  object        \n",
      " 8   Airport.Code            80670 non-null  object        \n",
      " 9   Airport.Name            80670 non-null  object        \n",
      " 10  Injury.Severity         80670 non-null  object        \n",
      " 11  Aircraft.damage         80670 non-null  object        \n",
      " 12  Aircraft.Category       80670 non-null  object        \n",
      " 13  Registration.Number     80670 non-null  object        \n",
      " 14  Make                    80670 non-null  object        \n",
      " 15  Model                   80670 non-null  object        \n",
      " 16  Amateur.Built           80670 non-null  object        \n",
      " 17  Number.of.Engines       80670 non-null  float64       \n",
      " 18  Engine.Type             80670 non-null  object        \n",
      " 19  Purpose.of.flight       80670 non-null  object        \n",
      " 20  Total.Fatal.Injuries    80670 non-null  float64       \n",
      " 21  Total.Serious.Injuries  80670 non-null  float64       \n",
      " 22  Total.Minor.Injuries    80670 non-null  float64       \n",
      " 23  Total.Uninjured         80670 non-null  float64       \n",
      " 24  Weather.Condition       80670 non-null  object        \n",
      " 25  Broad.phase.of.flight   80670 non-null  object        \n",
      " 26  Report.Status           80670 non-null  object        \n",
      " 27  Publication.Date        80670 non-null  datetime64[ns]\n",
      " 28  Severity_class          80670 non-null  object        \n",
      "dtypes: datetime64[ns](2), float64(5), object(22)\n",
      "memory usage: 18.5+ MB\n"
     ]
    }
   ],
   "source": [
    "df.info()"
   ]
  },
  {
   "cell_type": "markdown",
   "metadata": {},
   "source": [
    "### Feature Engineering"
   ]
  },
  {
   "cell_type": "code",
   "execution_count": 102,
   "metadata": {},
   "outputs": [
    {
     "data": {
      "text/plain": [
       "array(['MOOSE CREEK, ID', 'BRIDGEPORT, CA', 'Saltville, VA', ...,\n",
       "       'Waldron, AR', 'Iola, TX', 'Dacula, GA'], dtype=object)"
      ]
     },
     "execution_count": 102,
     "metadata": {},
     "output_type": "execute_result"
    }
   ],
   "source": [
    "df['Location'].unique()"
   ]
  },
  {
   "cell_type": "code",
   "execution_count": 103,
   "metadata": {},
   "outputs": [
    {
     "data": {
      "text/plain": [
       "CA                 8529\n",
       "TX                 5666\n",
       "FL                 5575\n",
       "AK                 5539\n",
       "AZ                 2725\n",
       "                   ... \n",
       "HIGH ISLAND 582       1\n",
       "Pacific Ocean         1\n",
       "HIGH ISLAND 389       1\n",
       "SOUTH MARSH 113       1\n",
       "UGANDA                1\n",
       "Name: State, Length: 411, dtype: int64"
      ]
     },
     "execution_count": 103,
     "metadata": {},
     "output_type": "execute_result"
    }
   ],
   "source": [
    "df['State'] = df['Location'].str.split(',').str[-1].str.strip()\n",
    "df['State'].value_counts()"
   ]
  },
  {
   "cell_type": "code",
   "execution_count": 105,
   "metadata": {},
   "outputs": [],
   "source": [
    "us_states = {\n",
    "    'AL', 'AK', 'AZ', 'AR', 'CA', 'CO', 'CT', 'DE', 'FL', 'GA', 'HI', 'ID', 'IL',\n",
    "    'IN', 'IA', 'KS', 'KY', 'LA', 'ME', 'MD', 'MA', 'MI', 'MN', 'MS', 'MO', 'MT',\n",
    "    'NE', 'NV', 'NH', 'NJ', 'NM', 'NY', 'NC', 'ND', 'OH', 'OK', 'OR', 'PA', 'RI',\n",
    "    'SC', 'SD', 'TN', 'TX', 'UT', 'VT', 'VA', 'WA', 'WV', 'WI', 'WY', 'DC', 'PR',\n",
    "    'GU', 'VI', 'AS', 'MP'\n",
    "}\n",
    "def standardize_state(state):\n",
    "    if state in us_states:\n",
    "        return state\n",
    "    else:\n",
    "        return 'International State'\n",
    "df['State'] = df['State'].apply(standardize_state)"
   ]
  },
  {
   "cell_type": "code",
   "execution_count": 106,
   "metadata": {},
   "outputs": [
    {
     "name": "stdout",
     "output_type": "stream",
     "text": [
      "Event.Id\n",
      "['20001218X45444' '20001218X45447' '20061025X01555' ... '20221018106153'\n",
      " '20221031106231' '20221109106272']\n",
      "***********\n",
      "Investigation.Type\n",
      "['Accident' 'Incident']\n",
      "***********\n",
      "Accident.Number\n",
      "['SEA87LA080' 'LAX94LA336' 'NYC07LA005' ... 'CEN23LA015' 'CEN23LA023'\n",
      " 'CEN23LA033']\n",
      "***********\n",
      "Event.Date\n",
      "['1948-10-24T00:00:00.000000000' '1962-07-19T00:00:00.000000000'\n",
      " '1974-08-30T00:00:00.000000000' ... '2022-10-13T00:00:00.000000000'\n",
      " '2022-10-29T00:00:00.000000000' '2022-11-09T00:00:00.000000000']\n",
      "***********\n",
      "Location\n",
      "['MOOSE CREEK, ID' 'BRIDGEPORT, CA' 'Saltville, VA' ... 'Waldron, AR'\n",
      " 'Iola, TX' 'Dacula, GA']\n",
      "***********\n",
      "Country\n",
      "['United States' 'Unknown' 'Puerto Rico' 'Bahamas' 'MISSING' 'Angola'\n",
      " 'Germany' 'South Korea' 'Canada' 'Mexico' 'Dominica'\n",
      " 'Netherlands Antilles' 'Iceland' 'Guam' 'Australia' 'West Indies' 'Japan'\n",
      " 'Philippines' 'Venezuela' 'El Salvador' 'Colombia' 'United Kingdom'\n",
      " 'British Virgin Islands' 'Netherlands' 'Costa Rica' 'Mozambique' 'Panama'\n",
      " 'Malaysia' 'Turks and Caicos Islands' 'Northern Mariana Islands' 'Congo'\n",
      " 'Belize' 'France' 'Saint Vincent and the Grenadines' 'Dominican Republic'\n",
      " 'Haiti' 'Jamaica' 'American Samoa' 'Papua New Guinea' 'Barbados'\n",
      " 'Honduras' 'Mauritius' 'Argentina' 'Kenya' 'Guyana' 'Aruba'\n",
      " 'Saudi Arabia' 'Cuba' 'French Guiana' 'Denmark' 'Sudan'\n",
      " 'Federated States Of Micronesia' 'St Lucia' 'Spain'\n",
      " 'Central African Republic' 'Brazil' 'Nicaragua' 'Portugal'\n",
      " 'Marshall Islands' 'Guatemala' 'Ecuador' 'Switzerland'\n",
      " 'Trinidad And Tobago' 'Poland' 'Austria' 'Solomon Islands' 'Peru'\n",
      " 'Cayman Islands' 'Italy' 'Martinique' 'Greece' 'Bolivia' 'Ireland'\n",
      " 'Chile' 'Antigua and Barbuda' 'Uganda' 'Paraguay' 'Uruguay' 'Mali'\n",
      " 'India' 'Bahrain' 'Ethiopia' 'Russia' 'Greenland' 'Tanzania' 'Liberia'\n",
      " 'Taiwan' 'Finland' 'New Zealand' 'Fiji' 'French Polynesia'\n",
      " \"Côte d'Ivoire\" 'Belgium' 'China' 'Suriname' 'Antarctica'\n",
      " 'Czech Republic' 'St Kitts And Nevis' 'Corsica' 'Afghanistan' 'Romania'\n",
      " 'Ukraine' 'South Africa' 'Indonesia' 'Gambia' 'Hungary' 'Guadeloupe'\n",
      " 'Israel' 'Egypt' 'Senegal' 'Norway' 'Eswatini' 'Sint Maarten' 'Sweden'\n",
      " 'Turkey' 'Iraq' 'Latvia' 'Saint Barthelemy' 'Tokelau' 'Qatar'\n",
      " 'Bangladesh' 'Pacific Ocean']\n",
      "***********\n",
      "Latitude\n",
      "[nan '36.922223' '42.445277' ... '034055N' '293620N' '331026N']\n",
      "***********\n",
      "Longitude\n",
      "[nan '-81.878056' '-70.758333' ... '0835224W' '0097722W' '0095959W']\n",
      "***********\n",
      "Airport.Code\n",
      "['UNK' 'N58' 'JAX' ... 'AK0' 'RCV' 'XWA']\n",
      "***********\n",
      "Airport.Name\n",
      "['UNKNOWN' 'BLACKBURN AG STRIP' 'HANOVER' ... 'Shell Lake Municipal'\n",
      " 'Navasota' 'M27']\n",
      "***********\n",
      "Injury.Severity\n",
      "['Fatal(2)' 'Fatal(4)' 'Fatal(3)' 'Fatal(1)' 'Non-Fatal' 'Incident'\n",
      " 'Fatal(8)' 'Fatal(7)' 'Fatal(6)' 'Fatal(5)' 'Fatal(10)' 'Fatal(9)'\n",
      " 'Unavailable' 'Fatal' 'Minor' 'Serious']\n",
      "***********\n",
      "Aircraft.damage\n",
      "['Destroyed' 'Substantial' 'Minor' 'Unknown']\n",
      "***********\n",
      "Aircraft.Category\n",
      "['Unknown' 'Airplane' 'Helicopter' 'Glider' 'Balloon' 'Gyrocraft'\n",
      " 'Ultralight' 'Blimp' 'Powered-Lift' 'Weight-Shift' 'Powered Parachute'\n",
      " 'Rocket' 'WSFT']\n",
      "***********\n",
      "Registration.Number\n",
      "['NC6404' 'N5069P' 'N5142R' ... 'N2889W' 'N778MS' 'N1855K']\n",
      "***********\n",
      "Make\n",
      "['Stinson' 'Piper' 'Cessna' ... 'HIBBARD NORMAN E' 'WASZAK ARTHUR B'\n",
      " 'STEPHEN J HOFFMAN']\n",
      "***********\n",
      "Model\n",
      "['108-3' 'PA24-180' '172M' ... '305C (0-1E)' 'ZENAIR CH 601 HD' 'MS-500']\n",
      "***********\n",
      "Amateur.Built\n",
      "['No' 'Yes']\n",
      "***********\n",
      "Number.of.Engines\n",
      "[1. 2. 0. 3. 4. 8.]\n",
      "***********\n",
      "Engine.Type\n",
      "['Reciprocating' 'UNK' 'Turbo Fan' 'Turbo Shaft' 'Turbo Prop' 'Turbo Jet'\n",
      " 'NONE' 'Electric' 'Hybrid Rocket' 'Geared Turbofan']\n",
      "***********\n",
      "Purpose.of.flight\n",
      "['Personal' 'Unknown' 'Business' 'Instructional' 'Ferry'\n",
      " 'Executive/corporate' 'Aerial Observation' 'Aerial Application'\n",
      " 'Public Aircraft' 'Skydiving' 'Other Work Use' 'Positioning'\n",
      " 'Flight Test' 'ASHO' 'Air Drop' 'Glider Tow' 'External Load' 'Banner Tow'\n",
      " 'Firefighting']\n",
      "***********\n",
      "Total.Fatal.Injuries\n",
      "[ 2.  4.  3.  1.  0.  8.  7.  6.  5. 10.  9.]\n",
      "***********\n",
      "Total.Serious.Injuries\n",
      "[0. 2. 1. 5. 4. 3. 6. 7.]\n",
      "***********\n",
      "Total.Minor.Injuries\n",
      "[0. 1. 3. 2. 4. 6. 5. 7.]\n",
      "***********\n",
      "Total.Uninjured\n",
      "[  0.   1.  44.   2.   3.   6.   4. 149.  12. 154.   5.  10.   7. 119.\n",
      "  36.  51.  16.  83.   9.  68.  30.  20.  18.   8. 108.  11. 152.  21.\n",
      "  48.  56. 109.  29.  13.  84.  74. 129. 102. 128. 112.  17.  65.  67.\n",
      " 136.  23. 116.  22.  57.  58.  73.  31. 201. 159.  39. 186.  82.  95.\n",
      " 146. 190. 245. 172.  52.  25.  59. 131. 151. 180. 150.  86.  19. 133.\n",
      " 240.  15. 145.  77. 122. 205. 289. 110.  79.  66.  87.  49. 104. 250.\n",
      "  33. 138. 100.  53. 158. 127. 160. 260.  47.  38. 165.  81.  41.  14.\n",
      "  72.  98. 188. 239. 125.  27. 105. 111. 212. 157. 121.  75.  71.  45.\n",
      "  91.  99.  85.  96.  50.  93. 276. 200. 103. 189.  37. 107.  61.  26.\n",
      " 271. 130.  89. 132. 219.  43. 195.  78. 118. 175.  32.  90. 225. 269.\n",
      " 169. 236. 134. 106. 140.  94. 192. 161. 113. 270. 224.  69. 233. 115.\n",
      "  42. 167. 137. 114. 148.  92.  76. 171. 173. 246. 234. 123. 220. 202.\n",
      " 279. 135.  46. 178. 147. 126.  62.  70.  97. 228. 226.  64. 142. 290.\n",
      " 206. 297. 208. 144.  24. 258. 304. 274. 286.  55. 199.  80. 272. 211.\n",
      " 222. 194. 185. 261. 241. 177. 244. 254.  54. 156.  40.  34. 247. 176.\n",
      "  63.  28. 218. 282. 124. 298. 120. 280. 179. 153.  60. 308.  88. 277.\n",
      " 235. 187. 191. 101.  35. 197. 193. 164. 163. 139. 267. 288. 162. 300.\n",
      " 255. 306. 141. 229. 262. 209. 184. 259. 168. 170. 198. 299. 223. 265.\n",
      " 196. 117. 253. 155. 183. 227. 249. 243. 252. 181. 257. 213. 283. 216.\n",
      " 214. 309. 273. 232. 143. 312. 203. 237. 166. 263. 291. 285. 311. 210.\n",
      " 217. 231. 268. 275. 182. 215. 278. 264. 174. 295. 301. 294.]\n",
      "***********\n",
      "Weather.Condition\n",
      "['UNK' 'IMC' 'VMC']\n",
      "***********\n",
      "Broad.phase.of.flight\n",
      "['Cruise' 'Unknown' 'Approach' 'Climb' 'Takeoff' 'Landing' 'Taxi'\n",
      " 'Descent' 'Maneuvering' 'Standing' 'Go-around' 'Other']\n",
      "***********\n",
      "Report.Status\n",
      "['Probable Cause' 'Factual' 'Foreign' ...\n",
      " 'The pilot did not ensure adequate clearance from construction vehicles during taxi.'\n",
      " 'The pilot\\x92s failure to secure the magneto switch before attempting to hand rotate the engine which resulted in an inadvertent engine start, a runaway airplane, and subsequent impact with parked airplanes. Contributing to the accident was the failure to properly secure the airplane with chocks.'\n",
      " 'The pilot\\x92s loss of control due to a wind gust during landing.']\n",
      "***********\n",
      "Publication.Date\n",
      "['1901-01-01T00:00:00.000000000' '1996-09-19T00:00:00.000000000'\n",
      " '2007-02-26T00:00:00.000000000' ... '2022-12-20T00:00:00.000000000'\n",
      " '2022-05-08T00:00:00.000000000' '2022-08-12T00:00:00.000000000']\n",
      "***********\n",
      "Severity_class\n",
      "['Fatal' 'Incident' 'Unknown' 'Non-Fatal' 'Serious']\n",
      "***********\n",
      "State\n",
      "['ID' 'CA' 'VA' 'OH' 'MA' 'MN' 'WA' 'NJ' 'FL' 'NM' 'AL' 'LA' 'TX' 'OK'\n",
      " 'AR' 'UT' 'AK' 'PA' 'MI' 'GA' 'NC' 'NY' 'MT' 'OR' 'NV' 'IN'\n",
      " 'International State' 'AZ' 'MO' 'WY' 'IL' 'SC' 'MD' 'HI' 'CO' 'WV' 'MS'\n",
      " 'VT' 'KS' 'DC' 'NH' 'IA' 'WI' 'KY' 'CT' 'TN' 'ME' 'SD' 'NE' 'ND' 'RI'\n",
      " 'DE' 'PR' 'GU' 'VI']\n",
      "***********\n"
     ]
    }
   ],
   "source": [
    "for col in df.columns:\n",
    "    print(f\"{col}\")\n",
    "    print(df[col].unique())\n",
    "    print(\"***********\")"
   ]
  },
  {
   "cell_type": "code",
   "execution_count": 107,
   "metadata": {},
   "outputs": [
    {
     "name": "stdout",
     "output_type": "stream",
     "text": [
      "<class 'pandas.core.frame.DataFrame'>\n",
      "Int64Index: 80670 entries, 0 to 88767\n",
      "Data columns (total 30 columns):\n",
      " #   Column                  Non-Null Count  Dtype         \n",
      "---  ------                  --------------  -----         \n",
      " 0   Event.Id                80670 non-null  object        \n",
      " 1   Investigation.Type      80670 non-null  object        \n",
      " 2   Accident.Number         80670 non-null  object        \n",
      " 3   Event.Date              80670 non-null  datetime64[ns]\n",
      " 4   Location                80670 non-null  object        \n",
      " 5   Country                 80670 non-null  object        \n",
      " 6   Latitude                29852 non-null  object        \n",
      " 7   Longitude               29842 non-null  object        \n",
      " 8   Airport.Code            80670 non-null  object        \n",
      " 9   Airport.Name            80670 non-null  object        \n",
      " 10  Injury.Severity         80670 non-null  object        \n",
      " 11  Aircraft.damage         80670 non-null  object        \n",
      " 12  Aircraft.Category       80670 non-null  object        \n",
      " 13  Registration.Number     80670 non-null  object        \n",
      " 14  Make                    80670 non-null  object        \n",
      " 15  Model                   80670 non-null  object        \n",
      " 16  Amateur.Built           80670 non-null  object        \n",
      " 17  Number.of.Engines       80670 non-null  float64       \n",
      " 18  Engine.Type             80670 non-null  object        \n",
      " 19  Purpose.of.flight       80670 non-null  object        \n",
      " 20  Total.Fatal.Injuries    80670 non-null  float64       \n",
      " 21  Total.Serious.Injuries  80670 non-null  float64       \n",
      " 22  Total.Minor.Injuries    80670 non-null  float64       \n",
      " 23  Total.Uninjured         80670 non-null  float64       \n",
      " 24  Weather.Condition       80670 non-null  object        \n",
      " 25  Broad.phase.of.flight   80670 non-null  object        \n",
      " 26  Report.Status           80670 non-null  object        \n",
      " 27  Publication.Date        80670 non-null  datetime64[ns]\n",
      " 28  Severity_class          80670 non-null  object        \n",
      " 29  State                   80670 non-null  object        \n",
      "dtypes: datetime64[ns](2), float64(5), object(23)\n",
      "memory usage: 19.1+ MB\n"
     ]
    }
   ],
   "source": [
    "df.info()"
   ]
  },
  {
   "cell_type": "code",
   "execution_count": null,
   "metadata": {},
   "outputs": [],
   "source": []
  }
 ],
 "metadata": {
  "colab": {
   "provenance": []
  },
  "kernelspec": {
   "display_name": "Python 3",
   "language": "python",
   "name": "python3"
  },
  "language_info": {
   "codemirror_mode": {
    "name": "ipython",
    "version": 3
   },
   "file_extension": ".py",
   "mimetype": "text/x-python",
   "name": "python",
   "nbconvert_exporter": "python",
   "pygments_lexer": "ipython3",
   "version": "3.8.5"
  }
 },
 "nbformat": 4,
 "nbformat_minor": 1
}
