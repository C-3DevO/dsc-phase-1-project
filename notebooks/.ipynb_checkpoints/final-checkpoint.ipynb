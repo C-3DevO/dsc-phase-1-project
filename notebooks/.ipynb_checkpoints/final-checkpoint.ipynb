{
 "cells": [
  {
   "cell_type": "markdown",
   "metadata": {},
   "source": [
    "#  PHASE 1: PROJECT "
   ]
  },
  {
   "cell_type": "markdown",
   "metadata": {},
   "source": [
    "\n",
    "##  Project Title: Aircraft Safety Intelligence: A Data-Driven Risk Analysis for Strategic Fleet Investment"
   ]
  },
  {
   "cell_type": "markdown",
   "metadata": {},
   "source": [
    "##  Goals\n",
    "#### 1. Evaluate Aircraft Risk Profiles by Type, Make, and Model  \n",
    "Use historical accident and incident data (`Make`, `Model`, `Aircraft.Category`, `Engine.Type`) to identify which \n",
    "aircraft types have the lowest rates of:\n",
    "- `Fatal injuries`  \n",
    "- `Substantial damage`  \n",
    "- `Serious incidents`  \n",
    "\n",
    "#### 2. Analyze Factors Contributing to Aircraft Accidents  \n",
    "Explore key causes and conditions contributing to aircraft accidents by examining:\n",
    "\n",
    "- `Weather.Condition` (e.g., VMC vs IMC)  \n",
    "- `Broad.phase.of.flight` (e.g., Takeoff, Landing)  \n",
    "- `Injury.Severity`, `Total.Fatal.Injuries`, `Total.Serious.Injuries`  \n",
    "- `Purpose.of.flight`\n",
    "\n",
    "#### 3. Assess Geographical and Operational Risk  \n",
    "Identify high-risk locations using `Location` and `Country`, and compare safety across different flight purposes (`Purpose.of.flight`, `Airport.Name`) to highlight safer:\n",
    "\n",
    "- `Operational zones`  \n",
    "- `Use cases (e.g., commercial, personal, ferry, instructional)`\n",
    "\n",
    "#### 4. Provide Strategic Recommendations for Safer Aircraft Investment  \n",
    "Synthesize findings into **three actionable recommendations** to guide the aviation division’s initial investment strategy by prioritizing:\n",
    "- `Aircraft with lower incident frequency`  \n",
    "- `Models with minimal injury severity`  \n",
    "- `Safer categories based on empirical evidence`  \n"
   ]
  },
  {
   "cell_type": "markdown",
   "metadata": {},
   "source": [
    "## Data"
   ]
  },
  {
   "cell_type": "markdown",
   "metadata": {},
   "source": [
    "### 1.1: Data Overview\n",
    "\n",
    "The dataset used in this analysis is sourced from the **National Transportation Safety Board (NTSB) Aviation Accident Database**. It contains detailed records from **1962 onwards** involving:\n",
    "\n",
    "- Civil aviation **accidents** and selected **incidents**\n",
    "- Events that occurred within the **United States**, its **territories**, **international waters** and **other-countries**\n",
    "\n",
    "This dataset includes variables related to aircraft type, damage severity, injury outcomes, weather conditions, flight phases, geographic locations, and more enabling robust analysis of aviation safety trends over time.\n"
   ]
  },
  {
   "cell_type": "markdown",
   "metadata": {},
   "source": [
    "### 1.2: Data Description"
   ]
  },
  {
   "cell_type": "markdown",
   "metadata": {},
   "source": [
    "##### 1.2.1: Importing the dataset"
   ]
  },
  {
   "cell_type": "code",
   "execution_count": 1,
   "metadata": {},
   "outputs": [],
   "source": [
    "#Importing the required libraries\n",
    "import pandas as pd\n",
    "import numpy as np\n",
    "import matplotlib.pyplot as plt\n",
    "import seaborn as sns\n",
    "%matplotlib inline"
   ]
  },
  {
   "cell_type": "code",
   "execution_count": 2,
   "metadata": {
    "scrolled": true
   },
   "outputs": [
    {
     "data": {
      "text/html": [
       "<div>\n",
       "<style scoped>\n",
       "    .dataframe tbody tr th:only-of-type {\n",
       "        vertical-align: middle;\n",
       "    }\n",
       "\n",
       "    .dataframe tbody tr th {\n",
       "        vertical-align: top;\n",
       "    }\n",
       "\n",
       "    .dataframe thead th {\n",
       "        text-align: right;\n",
       "    }\n",
       "</style>\n",
       "<table border=\"1\" class=\"dataframe\">\n",
       "  <thead>\n",
       "    <tr style=\"text-align: right;\">\n",
       "      <th></th>\n",
       "      <th>Event.Id</th>\n",
       "      <th>Investigation.Type</th>\n",
       "      <th>Accident.Number</th>\n",
       "      <th>Event.Date</th>\n",
       "      <th>Location</th>\n",
       "      <th>Country</th>\n",
       "      <th>Latitude</th>\n",
       "      <th>Longitude</th>\n",
       "      <th>Airport.Code</th>\n",
       "      <th>Airport.Name</th>\n",
       "      <th>...</th>\n",
       "      <th>Purpose.of.flight</th>\n",
       "      <th>Air.carrier</th>\n",
       "      <th>Total.Fatal.Injuries</th>\n",
       "      <th>Total.Serious.Injuries</th>\n",
       "      <th>Total.Minor.Injuries</th>\n",
       "      <th>Total.Uninjured</th>\n",
       "      <th>Weather.Condition</th>\n",
       "      <th>Broad.phase.of.flight</th>\n",
       "      <th>Report.Status</th>\n",
       "      <th>Publication.Date</th>\n",
       "    </tr>\n",
       "  </thead>\n",
       "  <tbody>\n",
       "    <tr>\n",
       "      <th>0</th>\n",
       "      <td>20001218X45444</td>\n",
       "      <td>Accident</td>\n",
       "      <td>SEA87LA080</td>\n",
       "      <td>1948-10-24</td>\n",
       "      <td>MOOSE CREEK, ID</td>\n",
       "      <td>United States</td>\n",
       "      <td>NaN</td>\n",
       "      <td>NaN</td>\n",
       "      <td>NaN</td>\n",
       "      <td>NaN</td>\n",
       "      <td>...</td>\n",
       "      <td>Personal</td>\n",
       "      <td>NaN</td>\n",
       "      <td>2.0</td>\n",
       "      <td>0.0</td>\n",
       "      <td>0.0</td>\n",
       "      <td>0.0</td>\n",
       "      <td>UNK</td>\n",
       "      <td>Cruise</td>\n",
       "      <td>Probable Cause</td>\n",
       "      <td>NaN</td>\n",
       "    </tr>\n",
       "    <tr>\n",
       "      <th>1</th>\n",
       "      <td>20001218X45447</td>\n",
       "      <td>Accident</td>\n",
       "      <td>LAX94LA336</td>\n",
       "      <td>1962-07-19</td>\n",
       "      <td>BRIDGEPORT, CA</td>\n",
       "      <td>United States</td>\n",
       "      <td>NaN</td>\n",
       "      <td>NaN</td>\n",
       "      <td>NaN</td>\n",
       "      <td>NaN</td>\n",
       "      <td>...</td>\n",
       "      <td>Personal</td>\n",
       "      <td>NaN</td>\n",
       "      <td>4.0</td>\n",
       "      <td>0.0</td>\n",
       "      <td>0.0</td>\n",
       "      <td>0.0</td>\n",
       "      <td>UNK</td>\n",
       "      <td>Unknown</td>\n",
       "      <td>Probable Cause</td>\n",
       "      <td>19-09-1996</td>\n",
       "    </tr>\n",
       "    <tr>\n",
       "      <th>2</th>\n",
       "      <td>20061025X01555</td>\n",
       "      <td>Accident</td>\n",
       "      <td>NYC07LA005</td>\n",
       "      <td>1974-08-30</td>\n",
       "      <td>Saltville, VA</td>\n",
       "      <td>United States</td>\n",
       "      <td>36.922223</td>\n",
       "      <td>-81.878056</td>\n",
       "      <td>NaN</td>\n",
       "      <td>NaN</td>\n",
       "      <td>...</td>\n",
       "      <td>Personal</td>\n",
       "      <td>NaN</td>\n",
       "      <td>3.0</td>\n",
       "      <td>NaN</td>\n",
       "      <td>NaN</td>\n",
       "      <td>NaN</td>\n",
       "      <td>IMC</td>\n",
       "      <td>Cruise</td>\n",
       "      <td>Probable Cause</td>\n",
       "      <td>26-02-2007</td>\n",
       "    </tr>\n",
       "    <tr>\n",
       "      <th>3</th>\n",
       "      <td>20001218X45448</td>\n",
       "      <td>Accident</td>\n",
       "      <td>LAX96LA321</td>\n",
       "      <td>1977-06-19</td>\n",
       "      <td>EUREKA, CA</td>\n",
       "      <td>United States</td>\n",
       "      <td>NaN</td>\n",
       "      <td>NaN</td>\n",
       "      <td>NaN</td>\n",
       "      <td>NaN</td>\n",
       "      <td>...</td>\n",
       "      <td>Personal</td>\n",
       "      <td>NaN</td>\n",
       "      <td>2.0</td>\n",
       "      <td>0.0</td>\n",
       "      <td>0.0</td>\n",
       "      <td>0.0</td>\n",
       "      <td>IMC</td>\n",
       "      <td>Cruise</td>\n",
       "      <td>Probable Cause</td>\n",
       "      <td>12-09-2000</td>\n",
       "    </tr>\n",
       "    <tr>\n",
       "      <th>4</th>\n",
       "      <td>20041105X01764</td>\n",
       "      <td>Accident</td>\n",
       "      <td>CHI79FA064</td>\n",
       "      <td>1979-08-02</td>\n",
       "      <td>Canton, OH</td>\n",
       "      <td>United States</td>\n",
       "      <td>NaN</td>\n",
       "      <td>NaN</td>\n",
       "      <td>NaN</td>\n",
       "      <td>NaN</td>\n",
       "      <td>...</td>\n",
       "      <td>Personal</td>\n",
       "      <td>NaN</td>\n",
       "      <td>1.0</td>\n",
       "      <td>2.0</td>\n",
       "      <td>NaN</td>\n",
       "      <td>0.0</td>\n",
       "      <td>VMC</td>\n",
       "      <td>Approach</td>\n",
       "      <td>Probable Cause</td>\n",
       "      <td>16-04-1980</td>\n",
       "    </tr>\n",
       "  </tbody>\n",
       "</table>\n",
       "<p>5 rows × 31 columns</p>\n",
       "</div>"
      ],
      "text/plain": [
       "         Event.Id Investigation.Type Accident.Number  Event.Date  \\\n",
       "0  20001218X45444           Accident      SEA87LA080  1948-10-24   \n",
       "1  20001218X45447           Accident      LAX94LA336  1962-07-19   \n",
       "2  20061025X01555           Accident      NYC07LA005  1974-08-30   \n",
       "3  20001218X45448           Accident      LAX96LA321  1977-06-19   \n",
       "4  20041105X01764           Accident      CHI79FA064  1979-08-02   \n",
       "\n",
       "          Location        Country   Latitude   Longitude Airport.Code  \\\n",
       "0  MOOSE CREEK, ID  United States        NaN         NaN          NaN   \n",
       "1   BRIDGEPORT, CA  United States        NaN         NaN          NaN   \n",
       "2    Saltville, VA  United States  36.922223  -81.878056          NaN   \n",
       "3       EUREKA, CA  United States        NaN         NaN          NaN   \n",
       "4       Canton, OH  United States        NaN         NaN          NaN   \n",
       "\n",
       "  Airport.Name  ... Purpose.of.flight Air.carrier Total.Fatal.Injuries  \\\n",
       "0          NaN  ...          Personal         NaN                  2.0   \n",
       "1          NaN  ...          Personal         NaN                  4.0   \n",
       "2          NaN  ...          Personal         NaN                  3.0   \n",
       "3          NaN  ...          Personal         NaN                  2.0   \n",
       "4          NaN  ...          Personal         NaN                  1.0   \n",
       "\n",
       "  Total.Serious.Injuries Total.Minor.Injuries Total.Uninjured  \\\n",
       "0                    0.0                  0.0             0.0   \n",
       "1                    0.0                  0.0             0.0   \n",
       "2                    NaN                  NaN             NaN   \n",
       "3                    0.0                  0.0             0.0   \n",
       "4                    2.0                  NaN             0.0   \n",
       "\n",
       "  Weather.Condition  Broad.phase.of.flight   Report.Status Publication.Date  \n",
       "0               UNK                 Cruise  Probable Cause              NaN  \n",
       "1               UNK                Unknown  Probable Cause       19-09-1996  \n",
       "2               IMC                 Cruise  Probable Cause       26-02-2007  \n",
       "3               IMC                 Cruise  Probable Cause       12-09-2000  \n",
       "4               VMC               Approach  Probable Cause       16-04-1980  \n",
       "\n",
       "[5 rows x 31 columns]"
      ]
     },
     "execution_count": 2,
     "metadata": {},
     "output_type": "execute_result"
    }
   ],
   "source": [
    "#Reading the dataset and checking top five rows\n",
    "df = pd.read_csv('../data/AviationData.csv', encoding='latin1', low_memory=False)\n",
    "df.head()"
   ]
  },
  {
   "cell_type": "markdown",
   "metadata": {},
   "source": [
    "**The file isn't encoded in UTF-8, As a result, trying to load it normally causes an error. The use of encoding=\"latin1\" solved the problem.**"
   ]
  },
  {
   "cell_type": "markdown",
   "metadata": {},
   "source": [
    "##### 1.2.2: Basic structure"
   ]
  },
  {
   "cell_type": "code",
   "execution_count": 3,
   "metadata": {},
   "outputs": [
    {
     "data": {
      "text/plain": [
       "(88889, 31)"
      ]
     },
     "execution_count": 3,
     "metadata": {},
     "output_type": "execute_result"
    }
   ],
   "source": [
    "df.shape"
   ]
  },
  {
   "cell_type": "code",
   "execution_count": 4,
   "metadata": {},
   "outputs": [
    {
     "data": {
      "text/plain": [
       "Index(['Event.Id', 'Investigation.Type', 'Accident.Number', 'Event.Date',\n",
       "       'Location', 'Country', 'Latitude', 'Longitude', 'Airport.Code',\n",
       "       'Airport.Name', 'Injury.Severity', 'Aircraft.damage',\n",
       "       'Aircraft.Category', 'Registration.Number', 'Make', 'Model',\n",
       "       'Amateur.Built', 'Number.of.Engines', 'Engine.Type', 'FAR.Description',\n",
       "       'Schedule', 'Purpose.of.flight', 'Air.carrier', 'Total.Fatal.Injuries',\n",
       "       'Total.Serious.Injuries', 'Total.Minor.Injuries', 'Total.Uninjured',\n",
       "       'Weather.Condition', 'Broad.phase.of.flight', 'Report.Status',\n",
       "       'Publication.Date'],\n",
       "      dtype='object')"
      ]
     },
     "execution_count": 4,
     "metadata": {},
     "output_type": "execute_result"
    }
   ],
   "source": [
    "df.columns"
   ]
  },
  {
   "cell_type": "markdown",
   "metadata": {},
   "source": [
    "##### 1.2.3: Overview of column types and non-null values"
   ]
  },
  {
   "cell_type": "code",
   "execution_count": 5,
   "metadata": {
    "scrolled": true
   },
   "outputs": [
    {
     "name": "stdout",
     "output_type": "stream",
     "text": [
      "<class 'pandas.core.frame.DataFrame'>\n",
      "RangeIndex: 88889 entries, 0 to 88888\n",
      "Data columns (total 31 columns):\n",
      " #   Column                  Non-Null Count  Dtype  \n",
      "---  ------                  --------------  -----  \n",
      " 0   Event.Id                88889 non-null  object \n",
      " 1   Investigation.Type      88889 non-null  object \n",
      " 2   Accident.Number         88889 non-null  object \n",
      " 3   Event.Date              88889 non-null  object \n",
      " 4   Location                88837 non-null  object \n",
      " 5   Country                 88663 non-null  object \n",
      " 6   Latitude                34382 non-null  object \n",
      " 7   Longitude               34373 non-null  object \n",
      " 8   Airport.Code            50249 non-null  object \n",
      " 9   Airport.Name            52790 non-null  object \n",
      " 10  Injury.Severity         87889 non-null  object \n",
      " 11  Aircraft.damage         85695 non-null  object \n",
      " 12  Aircraft.Category       32287 non-null  object \n",
      " 13  Registration.Number     87572 non-null  object \n",
      " 14  Make                    88826 non-null  object \n",
      " 15  Model                   88797 non-null  object \n",
      " 16  Amateur.Built           88787 non-null  object \n",
      " 17  Number.of.Engines       82805 non-null  float64\n",
      " 18  Engine.Type             81812 non-null  object \n",
      " 19  FAR.Description         32023 non-null  object \n",
      " 20  Schedule                12582 non-null  object \n",
      " 21  Purpose.of.flight       82697 non-null  object \n",
      " 22  Air.carrier             16648 non-null  object \n",
      " 23  Total.Fatal.Injuries    77488 non-null  float64\n",
      " 24  Total.Serious.Injuries  76379 non-null  float64\n",
      " 25  Total.Minor.Injuries    76956 non-null  float64\n",
      " 26  Total.Uninjured         82977 non-null  float64\n",
      " 27  Weather.Condition       84397 non-null  object \n",
      " 28  Broad.phase.of.flight   61724 non-null  object \n",
      " 29  Report.Status           82508 non-null  object \n",
      " 30  Publication.Date        75118 non-null  object \n",
      "dtypes: float64(5), object(26)\n",
      "memory usage: 21.0+ MB\n"
     ]
    }
   ],
   "source": [
    "df.info()"
   ]
  },
  {
   "cell_type": "markdown",
   "metadata": {},
   "source": [
    "##### 1.2.4 Summary statistics numerical"
   ]
  },
  {
   "cell_type": "code",
   "execution_count": 6,
   "metadata": {},
   "outputs": [
    {
     "data": {
      "text/html": [
       "<div>\n",
       "<style scoped>\n",
       "    .dataframe tbody tr th:only-of-type {\n",
       "        vertical-align: middle;\n",
       "    }\n",
       "\n",
       "    .dataframe tbody tr th {\n",
       "        vertical-align: top;\n",
       "    }\n",
       "\n",
       "    .dataframe thead th {\n",
       "        text-align: right;\n",
       "    }\n",
       "</style>\n",
       "<table border=\"1\" class=\"dataframe\">\n",
       "  <thead>\n",
       "    <tr style=\"text-align: right;\">\n",
       "      <th></th>\n",
       "      <th>count</th>\n",
       "      <th>mean</th>\n",
       "      <th>std</th>\n",
       "      <th>min</th>\n",
       "      <th>25%</th>\n",
       "      <th>50%</th>\n",
       "      <th>75%</th>\n",
       "      <th>max</th>\n",
       "    </tr>\n",
       "  </thead>\n",
       "  <tbody>\n",
       "    <tr>\n",
       "      <th>Number.of.Engines</th>\n",
       "      <td>82805.0</td>\n",
       "      <td>1.146585</td>\n",
       "      <td>0.446510</td>\n",
       "      <td>0.0</td>\n",
       "      <td>1.0</td>\n",
       "      <td>1.0</td>\n",
       "      <td>1.0</td>\n",
       "      <td>8.0</td>\n",
       "    </tr>\n",
       "    <tr>\n",
       "      <th>Total.Fatal.Injuries</th>\n",
       "      <td>77488.0</td>\n",
       "      <td>0.647855</td>\n",
       "      <td>5.485960</td>\n",
       "      <td>0.0</td>\n",
       "      <td>0.0</td>\n",
       "      <td>0.0</td>\n",
       "      <td>0.0</td>\n",
       "      <td>349.0</td>\n",
       "    </tr>\n",
       "    <tr>\n",
       "      <th>Total.Serious.Injuries</th>\n",
       "      <td>76379.0</td>\n",
       "      <td>0.279881</td>\n",
       "      <td>1.544084</td>\n",
       "      <td>0.0</td>\n",
       "      <td>0.0</td>\n",
       "      <td>0.0</td>\n",
       "      <td>0.0</td>\n",
       "      <td>161.0</td>\n",
       "    </tr>\n",
       "    <tr>\n",
       "      <th>Total.Minor.Injuries</th>\n",
       "      <td>76956.0</td>\n",
       "      <td>0.357061</td>\n",
       "      <td>2.235625</td>\n",
       "      <td>0.0</td>\n",
       "      <td>0.0</td>\n",
       "      <td>0.0</td>\n",
       "      <td>0.0</td>\n",
       "      <td>380.0</td>\n",
       "    </tr>\n",
       "    <tr>\n",
       "      <th>Total.Uninjured</th>\n",
       "      <td>82977.0</td>\n",
       "      <td>5.325440</td>\n",
       "      <td>27.913634</td>\n",
       "      <td>0.0</td>\n",
       "      <td>0.0</td>\n",
       "      <td>1.0</td>\n",
       "      <td>2.0</td>\n",
       "      <td>699.0</td>\n",
       "    </tr>\n",
       "  </tbody>\n",
       "</table>\n",
       "</div>"
      ],
      "text/plain": [
       "                          count      mean        std  min  25%  50%  75%  \\\n",
       "Number.of.Engines       82805.0  1.146585   0.446510  0.0  1.0  1.0  1.0   \n",
       "Total.Fatal.Injuries    77488.0  0.647855   5.485960  0.0  0.0  0.0  0.0   \n",
       "Total.Serious.Injuries  76379.0  0.279881   1.544084  0.0  0.0  0.0  0.0   \n",
       "Total.Minor.Injuries    76956.0  0.357061   2.235625  0.0  0.0  0.0  0.0   \n",
       "Total.Uninjured         82977.0  5.325440  27.913634  0.0  0.0  1.0  2.0   \n",
       "\n",
       "                          max  \n",
       "Number.of.Engines         8.0  \n",
       "Total.Fatal.Injuries    349.0  \n",
       "Total.Serious.Injuries  161.0  \n",
       "Total.Minor.Injuries    380.0  \n",
       "Total.Uninjured         699.0  "
      ]
     },
     "execution_count": 6,
     "metadata": {},
     "output_type": "execute_result"
    }
   ],
   "source": [
    "df.describe(include='number').T"
   ]
  },
  {
   "cell_type": "markdown",
   "metadata": {},
   "source": [
    "##### 1.2.5 Summary statistics categorical"
   ]
  },
  {
   "cell_type": "code",
   "execution_count": 7,
   "metadata": {
    "scrolled": true
   },
   "outputs": [
    {
     "data": {
      "text/html": [
       "<div>\n",
       "<style scoped>\n",
       "    .dataframe tbody tr th:only-of-type {\n",
       "        vertical-align: middle;\n",
       "    }\n",
       "\n",
       "    .dataframe tbody tr th {\n",
       "        vertical-align: top;\n",
       "    }\n",
       "\n",
       "    .dataframe thead th {\n",
       "        text-align: right;\n",
       "    }\n",
       "</style>\n",
       "<table border=\"1\" class=\"dataframe\">\n",
       "  <thead>\n",
       "    <tr style=\"text-align: right;\">\n",
       "      <th></th>\n",
       "      <th>Event.Id</th>\n",
       "      <th>Investigation.Type</th>\n",
       "      <th>Accident.Number</th>\n",
       "      <th>Event.Date</th>\n",
       "      <th>Location</th>\n",
       "      <th>Country</th>\n",
       "      <th>Latitude</th>\n",
       "      <th>Longitude</th>\n",
       "      <th>Airport.Code</th>\n",
       "      <th>Airport.Name</th>\n",
       "      <th>...</th>\n",
       "      <th>Amateur.Built</th>\n",
       "      <th>Engine.Type</th>\n",
       "      <th>FAR.Description</th>\n",
       "      <th>Schedule</th>\n",
       "      <th>Purpose.of.flight</th>\n",
       "      <th>Air.carrier</th>\n",
       "      <th>Weather.Condition</th>\n",
       "      <th>Broad.phase.of.flight</th>\n",
       "      <th>Report.Status</th>\n",
       "      <th>Publication.Date</th>\n",
       "    </tr>\n",
       "  </thead>\n",
       "  <tbody>\n",
       "    <tr>\n",
       "      <th>count</th>\n",
       "      <td>88889</td>\n",
       "      <td>88889</td>\n",
       "      <td>88889</td>\n",
       "      <td>88889</td>\n",
       "      <td>88837</td>\n",
       "      <td>88663</td>\n",
       "      <td>34382</td>\n",
       "      <td>34373</td>\n",
       "      <td>50249</td>\n",
       "      <td>52790</td>\n",
       "      <td>...</td>\n",
       "      <td>88787</td>\n",
       "      <td>81812</td>\n",
       "      <td>32023</td>\n",
       "      <td>12582</td>\n",
       "      <td>82697</td>\n",
       "      <td>16648</td>\n",
       "      <td>84397</td>\n",
       "      <td>61724</td>\n",
       "      <td>82508</td>\n",
       "      <td>75118</td>\n",
       "    </tr>\n",
       "    <tr>\n",
       "      <th>unique</th>\n",
       "      <td>87951</td>\n",
       "      <td>2</td>\n",
       "      <td>88863</td>\n",
       "      <td>14782</td>\n",
       "      <td>27758</td>\n",
       "      <td>219</td>\n",
       "      <td>25589</td>\n",
       "      <td>27154</td>\n",
       "      <td>10375</td>\n",
       "      <td>24871</td>\n",
       "      <td>...</td>\n",
       "      <td>2</td>\n",
       "      <td>13</td>\n",
       "      <td>31</td>\n",
       "      <td>3</td>\n",
       "      <td>26</td>\n",
       "      <td>13590</td>\n",
       "      <td>4</td>\n",
       "      <td>12</td>\n",
       "      <td>17075</td>\n",
       "      <td>2924</td>\n",
       "    </tr>\n",
       "    <tr>\n",
       "      <th>top</th>\n",
       "      <td>20001212X19172</td>\n",
       "      <td>Accident</td>\n",
       "      <td>WPR23LA041</td>\n",
       "      <td>1982-05-16</td>\n",
       "      <td>ANCHORAGE, AK</td>\n",
       "      <td>United States</td>\n",
       "      <td>332739N</td>\n",
       "      <td>0112457W</td>\n",
       "      <td>NONE</td>\n",
       "      <td>Private</td>\n",
       "      <td>...</td>\n",
       "      <td>No</td>\n",
       "      <td>Reciprocating</td>\n",
       "      <td>091</td>\n",
       "      <td>NSCH</td>\n",
       "      <td>Personal</td>\n",
       "      <td>Pilot</td>\n",
       "      <td>VMC</td>\n",
       "      <td>Landing</td>\n",
       "      <td>Probable Cause</td>\n",
       "      <td>25-09-2020</td>\n",
       "    </tr>\n",
       "    <tr>\n",
       "      <th>freq</th>\n",
       "      <td>3</td>\n",
       "      <td>85015</td>\n",
       "      <td>2</td>\n",
       "      <td>25</td>\n",
       "      <td>434</td>\n",
       "      <td>82248</td>\n",
       "      <td>19</td>\n",
       "      <td>24</td>\n",
       "      <td>1488</td>\n",
       "      <td>240</td>\n",
       "      <td>...</td>\n",
       "      <td>80312</td>\n",
       "      <td>69530</td>\n",
       "      <td>18221</td>\n",
       "      <td>4474</td>\n",
       "      <td>49448</td>\n",
       "      <td>258</td>\n",
       "      <td>77303</td>\n",
       "      <td>15428</td>\n",
       "      <td>61754</td>\n",
       "      <td>17019</td>\n",
       "    </tr>\n",
       "  </tbody>\n",
       "</table>\n",
       "<p>4 rows × 26 columns</p>\n",
       "</div>"
      ],
      "text/plain": [
       "              Event.Id Investigation.Type Accident.Number  Event.Date  \\\n",
       "count            88889              88889           88889       88889   \n",
       "unique           87951                  2           88863       14782   \n",
       "top     20001212X19172           Accident      WPR23LA041  1982-05-16   \n",
       "freq                 3              85015               2          25   \n",
       "\n",
       "             Location        Country Latitude Longitude Airport.Code  \\\n",
       "count           88837          88663    34382     34373        50249   \n",
       "unique          27758            219    25589     27154        10375   \n",
       "top     ANCHORAGE, AK  United States  332739N  0112457W         NONE   \n",
       "freq              434          82248       19        24         1488   \n",
       "\n",
       "       Airport.Name  ... Amateur.Built    Engine.Type FAR.Description  \\\n",
       "count         52790  ...         88787          81812           32023   \n",
       "unique        24871  ...             2             13              31   \n",
       "top         Private  ...            No  Reciprocating             091   \n",
       "freq            240  ...         80312          69530           18221   \n",
       "\n",
       "       Schedule Purpose.of.flight Air.carrier Weather.Condition  \\\n",
       "count     12582             82697       16648             84397   \n",
       "unique        3                26       13590                 4   \n",
       "top        NSCH          Personal       Pilot               VMC   \n",
       "freq       4474             49448         258             77303   \n",
       "\n",
       "       Broad.phase.of.flight   Report.Status Publication.Date  \n",
       "count                  61724           82508            75118  \n",
       "unique                    12           17075             2924  \n",
       "top                  Landing  Probable Cause       25-09-2020  \n",
       "freq                   15428           61754            17019  \n",
       "\n",
       "[4 rows x 26 columns]"
      ]
     },
     "execution_count": 7,
     "metadata": {},
     "output_type": "execute_result"
    }
   ],
   "source": [
    "df.describe(include='O')"
   ]
  },
  {
   "cell_type": "markdown",
   "metadata": {},
   "source": [
    "##### 1.2.6 Missing values"
   ]
  },
  {
   "cell_type": "code",
   "execution_count": 8,
   "metadata": {},
   "outputs": [
    {
     "data": {
      "text/plain": [
       "Event.Id                      0\n",
       "Investigation.Type            0\n",
       "Accident.Number               0\n",
       "Event.Date                    0\n",
       "Location                     52\n",
       "Country                     226\n",
       "Latitude                  54507\n",
       "Longitude                 54516\n",
       "Airport.Code              38640\n",
       "Airport.Name              36099\n",
       "Injury.Severity            1000\n",
       "Aircraft.damage            3194\n",
       "Aircraft.Category         56602\n",
       "Registration.Number        1317\n",
       "Make                         63\n",
       "Model                        92\n",
       "Amateur.Built               102\n",
       "Number.of.Engines          6084\n",
       "Engine.Type                7077\n",
       "FAR.Description           56866\n",
       "Schedule                  76307\n",
       "Purpose.of.flight          6192\n",
       "Air.carrier               72241\n",
       "Total.Fatal.Injuries      11401\n",
       "Total.Serious.Injuries    12510\n",
       "Total.Minor.Injuries      11933\n",
       "Total.Uninjured            5912\n",
       "Weather.Condition          4492\n",
       "Broad.phase.of.flight     27165\n",
       "Report.Status              6381\n",
       "Publication.Date          13771\n",
       "dtype: int64"
      ]
     },
     "execution_count": 8,
     "metadata": {},
     "output_type": "execute_result"
    }
   ],
   "source": [
    "#missing values as sum\n",
    "df.isnull().sum()"
   ]
  },
  {
   "cell_type": "code",
   "execution_count": 9,
   "metadata": {},
   "outputs": [
    {
     "data": {
      "text/plain": [
       "Event.Id                   0.000000\n",
       "Investigation.Type         0.000000\n",
       "Accident.Number            0.000000\n",
       "Event.Date                 0.000000\n",
       "Location                   0.058500\n",
       "Country                    0.254250\n",
       "Latitude                  61.320298\n",
       "Longitude                 61.330423\n",
       "Airport.Code              43.469946\n",
       "Airport.Name              40.611324\n",
       "Injury.Severity            1.124999\n",
       "Aircraft.damage            3.593246\n",
       "Aircraft.Category         63.677170\n",
       "Registration.Number        1.481623\n",
       "Make                       0.070875\n",
       "Model                      0.103500\n",
       "Amateur.Built              0.114750\n",
       "Number.of.Engines          6.844491\n",
       "Engine.Type                7.961615\n",
       "FAR.Description           63.974170\n",
       "Schedule                  85.845268\n",
       "Purpose.of.flight          6.965991\n",
       "Air.carrier               81.271023\n",
       "Total.Fatal.Injuries      12.826109\n",
       "Total.Serious.Injuries    14.073732\n",
       "Total.Minor.Injuries      13.424608\n",
       "Total.Uninjured            6.650992\n",
       "Weather.Condition          5.053494\n",
       "Broad.phase.of.flight     30.560587\n",
       "Report.Status              7.178616\n",
       "Publication.Date          15.492356\n",
       "dtype: float64"
      ]
     },
     "execution_count": 9,
     "metadata": {},
     "output_type": "execute_result"
    }
   ],
   "source": [
    "#missing values as mean\n",
    "df.isnull().mean()*100"
   ]
  },
  {
   "cell_type": "markdown",
   "metadata": {},
   "source": [
    "### 1.3: Data Summary\n",
    "- The dataset consists of 88,889 records and 31 columns, capturing civil aviation accidents and incidents from 1962 to 2022. The dataset includes attributes such as event date, location, aircraft specifications [`make`, `model`, `engine type`], flight purpose, injury counts, and weather conditions.\n",
    "- Numerical summaries indicate that while most flights involved one engine, the average number of fatal injuries per event is relatively low (mean = 0.65), though some incidents resulted in high casualty counts (up to 349 fatalities). However, the dataset contains significant missing values in key fields like `Latitude`, `Longitude`, `Aircraft.Category`, `Engine.Type`, `FAR.Description`, and `Schedule`, with some missing rates exceeding 60%. These gaps will be considered during data cleaning and  data analysis to ensure accurate and meaningful insights are drawn from the data without distorting meaning.\n"
   ]
  },
  {
   "cell_type": "markdown",
   "metadata": {},
   "source": [
    "### 1.4: Data Cleaning"
   ]
  },
  {
   "cell_type": "markdown",
   "metadata": {},
   "source": [
    "##### 1.4.1 Removing columns which are not useful to our analysis and objectives\n",
    "To streamline the dataset and align with project goals, several columns can be dropped due to high missing values, low relevance, or redundancy. `Event.Id`, `Accident.Numbe`r, and `Registration.Number` are unique identifiers that don't support aggregation. `Latitude` and `Longitude` have over **61%** missing data and inconsistent formats, with **Location** and **Country** providing better geographic context. `Airport.Code`, `FAR.Description`, `Schedule`, and `Air.carrier` can be removed due to low impact on the analysis and objectives. On the other hand `Report.Status` and `Publication.Date` will be excluded as they are administrative and not essential for evaluating aircraft risk, accident causes, or strategic recommendations. This refinement ensures the dataset is cleaner and more focused on the objectives."
   ]
  },
  {
   "cell_type": "code",
   "execution_count": 10,
   "metadata": {},
   "outputs": [
    {
     "name": "stdout",
     "output_type": "stream",
     "text": [
      "Shape Before: (88889, 31)\n",
      "Shape After: (88889, 20)\n"
     ]
    }
   ],
   "source": [
    "#creating a list and dropping the columns\n",
    "print(f\"Shape Before: {df.shape}\")\n",
    "columns_to_drop = [ 'Event.Id',\n",
    "                   'Accident.Number', \n",
    "                   'Latitude', \n",
    "                   'Longitude',\n",
    "                   'Airport.Code', \n",
    "                   'Registration.Number',\n",
    "                   'FAR.Description', \n",
    "                   'Schedule', \n",
    "                   'Air.carrier', \n",
    "                   'Report.Status', \n",
    "                   'Publication.Date'\n",
    "]\n",
    "df.drop(columns=columns_to_drop, inplace=True)\n",
    "print(f\"Shape After: {df.shape}\")"
   ]
  },
  {
   "cell_type": "markdown",
   "metadata": {},
   "source": [
    "**We have removed 11 columns from the dataset, reducing the total number of columns from 31 to 20, while retaining all 88,889 rows**"
   ]
  },
  {
   "cell_type": "code",
   "execution_count": 11,
   "metadata": {},
   "outputs": [
    {
     "name": "stdout",
     "output_type": "stream",
     "text": [
      "Unique values in column 'Investigation.Type':\n",
      "['Accident' 'Incident']\n",
      "\n",
      "********\n",
      "Unique values in column 'Event.Date':\n",
      "['1948-10-24' '1962-07-19' '1974-08-30' ... '2022-12-22' '2022-12-26'\n",
      " '2022-12-29']\n",
      "\n",
      "********\n",
      "Unique values in column 'Location':\n",
      "['MOOSE CREEK, ID' 'BRIDGEPORT, CA' 'Saltville, VA' ... 'San Manual, AZ'\n",
      " 'Auburn Hills, MI' 'Brasnorte, ']\n",
      "\n",
      "********\n",
      "Unique values in column 'Country':\n",
      "['United States' nan 'GULF OF MEXICO' 'Puerto Rico' 'ATLANTIC OCEAN'\n",
      " 'HIGH ISLAND' 'Bahamas' 'MISSING' 'Pakistan' 'Angola' 'Germany'\n",
      " 'Korea, Republic Of' 'Martinique' 'American Samoa' 'PACIFIC OCEAN'\n",
      " 'Canada' 'Bolivia' 'Mexico' 'Dominica' 'Netherlands Antilles' 'Iceland'\n",
      " 'Greece' 'Guam' 'Australia' 'CARIBBEAN SEA' 'West Indies' 'Japan'\n",
      " 'Philippines' 'Venezuela' 'Bermuda' 'San Juan Islands' 'Colombia'\n",
      " 'El Salvador' 'United Kingdom' 'British Virgin Islands' 'Netherlands'\n",
      " 'Costa Rica' 'Mozambique' 'Jamaica' 'Panama' 'Guyana' 'Norway'\n",
      " 'Hong Kong' 'Portugal' 'Malaysia' 'Turks And Caicos Islands'\n",
      " 'Northern Mariana Islands' 'Dominican Republic' 'Suriname' 'Honduras'\n",
      " 'Congo' 'Belize' 'Guatemala' 'Anguilla' 'France'\n",
      " 'St Vincent And The Grenadines' 'Haiti' 'Montserrat' 'Papua New Guinea'\n",
      " 'Cayman Islands' 'Sweden' 'Taiwan' 'Senegal' 'Barbados' 'BLOCK 651A'\n",
      " 'Brazil' 'Mauritius' 'Argentina' 'Kenya' 'Ecuador' 'Aruba' 'Saudi Arabia'\n",
      " 'Cuba' 'Italy' 'French Guiana' 'Denmark' 'Sudan' 'Spain'\n",
      " 'Federated States Of Micronesia' 'St Lucia' 'Switzerland'\n",
      " 'Central African Republic' 'Algeria' 'Turkey' 'Nicaragua'\n",
      " 'Marshall Islands' 'Trinidad And Tobago' 'Poland' 'Belarus' 'Austria'\n",
      " 'Malta' 'Cameroon' 'Solomon Islands' 'Zambia' 'Peru' 'Croatia' 'Fiji'\n",
      " 'South Africa' 'India' 'Ethiopia' 'Ireland' 'Chile' 'Antigua And Barbuda'\n",
      " 'Uganda' 'China' 'Cambodia' 'Paraguay' 'Thailand' 'Belgium' 'Gambia'\n",
      " 'Uruguay' 'Tanzania' 'Mali' 'Indonesia' 'Bahrain' 'Kazakhstan' 'Egypt'\n",
      " 'Russia' 'Cyprus' \"Cote D'ivoire\" 'Nigeria' 'Greenland' 'Vietnam'\n",
      " 'New Zealand' 'Singapore' 'Ghana' 'Gabon' 'Nepal' 'Slovakia' 'Finland'\n",
      " 'Liberia' 'Romania' 'Maldives' 'Antarctica' 'Zimbabwe' 'Botswana'\n",
      " 'Isle of Man' 'Latvia' 'Niger' 'French Polynesia' 'Guadeloupe'\n",
      " 'Ivory Coast' 'Tunisia' 'Eritrea' 'Gibraltar' 'Namibia' 'Czech Republic'\n",
      " 'Benin' 'Bosnia And Herzegovina' 'Israel' 'Estonia' 'St Kitts And Nevis'\n",
      " 'Sierra Leone' 'Corsica' 'Scotland' 'Reunion' 'United Arab Emirates'\n",
      " 'Afghanistan' 'Ukraine' 'Hungary' 'Bangladesh' 'Morocco' 'Iraq' 'Jordan'\n",
      " 'Qatar' 'Madagascar' 'Malawi' 'Unknown' 'Central Africa' 'South Sudan'\n",
      " 'Saint Barthelemy' 'Micronesia' 'South Korea' 'Kyrgyzstan'\n",
      " 'Turks And Caicos' 'Eswatini' 'Tokelau' 'Sint Maarten' 'Macao'\n",
      " 'Seychelles' 'Rwanda' 'Palau' 'Luxembourg' 'Lebanon'\n",
      " 'Bosnia and Herzegovina' 'Libya' 'Guinea'\n",
      " 'Saint Vincent and the Grenadines' 'UN' 'Iran' 'Lithuania' 'Malampa'\n",
      " 'Antigua and Barbuda' 'AY' 'Chad' 'Cayenne' 'New Caledonia' 'Yemen'\n",
      " 'Slovenia' 'Nauru' 'Niue' 'Bulgaria' 'Republic of North Macedonia'\n",
      " 'Virgin Islands' 'Somalia' 'Pacific Ocean' 'Obyan' 'Mauritania' 'Albania'\n",
      " 'Wolseley' 'Wallis and Futuna' 'Saint Pierre and Miquelon' 'Georgia'\n",
      " \"Côte d'Ivoire\" 'South Korean' 'Serbia' 'MU' 'Guernsey' 'Great Britain'\n",
      " 'Turks and Caicos Islands']\n",
      "\n",
      "********\n",
      "Unique values in column 'Airport.Name':\n",
      "[nan 'BLACKBURN AG STRIP' 'HANOVER' ... 'HAWKINSVILLE-PULASKI COUNTY'\n",
      " 'Lewiston Municipal Airport' 'WICHITA DWIGHT D EISENHOWER NT']\n",
      "\n",
      "********\n",
      "Unique values in column 'Injury.Severity':\n",
      "['Fatal(2)' 'Fatal(4)' 'Fatal(3)' 'Fatal(1)' 'Non-Fatal' 'Incident'\n",
      " 'Fatal(8)' 'Fatal(78)' 'Fatal(7)' 'Fatal(6)' 'Fatal(5)' 'Fatal(153)'\n",
      " 'Fatal(12)' 'Fatal(14)' 'Fatal(23)' 'Fatal(10)' 'Fatal(11)' 'Fatal(9)'\n",
      " 'Fatal(17)' 'Fatal(13)' 'Fatal(29)' 'Fatal(70)' 'Unavailable'\n",
      " 'Fatal(135)' 'Fatal(31)' 'Fatal(256)' 'Fatal(25)' 'Fatal(82)'\n",
      " 'Fatal(156)' 'Fatal(28)' 'Fatal(18)' 'Fatal(43)' 'Fatal(15)' 'Fatal(270)'\n",
      " 'Fatal(144)' 'Fatal(174)' 'Fatal(111)' 'Fatal(131)' 'Fatal(20)'\n",
      " 'Fatal(73)' 'Fatal(27)' 'Fatal(34)' 'Fatal(87)' 'Fatal(30)' 'Fatal(16)'\n",
      " 'Fatal(47)' 'Fatal(56)' 'Fatal(37)' 'Fatal(132)' 'Fatal(68)' 'Fatal(54)'\n",
      " 'Fatal(52)' 'Fatal(65)' 'Fatal(72)' 'Fatal(160)' 'Fatal(189)'\n",
      " 'Fatal(123)' 'Fatal(33)' 'Fatal(110)' 'Fatal(230)' 'Fatal(97)'\n",
      " 'Fatal(349)' 'Fatal(125)' 'Fatal(35)' 'Fatal(228)' 'Fatal(75)'\n",
      " 'Fatal(104)' 'Fatal(229)' 'Fatal(80)' 'Fatal(217)' 'Fatal(169)'\n",
      " 'Fatal(88)' 'Fatal(19)' 'Fatal(60)' 'Fatal(113)' 'Fatal(143)' 'Fatal(83)'\n",
      " 'Fatal(24)' 'Fatal(44)' 'Fatal(64)' 'Fatal(92)' 'Fatal(118)' 'Fatal(265)'\n",
      " 'Fatal(26)' 'Fatal(138)' 'Fatal(206)' 'Fatal(71)' 'Fatal(21)' 'Fatal(46)'\n",
      " 'Fatal(102)' 'Fatal(115)' 'Fatal(141)' 'Fatal(55)' 'Fatal(121)'\n",
      " 'Fatal(45)' 'Fatal(145)' 'Fatal(117)' 'Fatal(107)' 'Fatal(124)'\n",
      " 'Fatal(49)' 'Fatal(154)' 'Fatal(96)' 'Fatal(114)' 'Fatal(199)'\n",
      " 'Fatal(89)' 'Fatal(57)' 'Fatal' nan 'Minor' 'Serious']\n",
      "\n",
      "********\n",
      "Unique values in column 'Aircraft.damage':\n",
      "['Destroyed' 'Substantial' 'Minor' nan 'Unknown']\n",
      "\n",
      "********\n",
      "Unique values in column 'Aircraft.Category':\n",
      "[nan 'Airplane' 'Helicopter' 'Glider' 'Balloon' 'Gyrocraft' 'Ultralight'\n",
      " 'Unknown' 'Blimp' 'Powered-Lift' 'Weight-Shift' 'Powered Parachute'\n",
      " 'Rocket' 'WSFT' 'UNK' 'ULTR']\n",
      "\n",
      "********\n",
      "Unique values in column 'Make':\n",
      "['Stinson' 'Piper' 'Cessna' ... 'JAMES R DERNOVSEK' 'ORLICAN S R O'\n",
      " 'ROYSE RALPH L']\n",
      "\n",
      "********\n",
      "Unique values in column 'Model':\n",
      "['108-3' 'PA24-180' '172M' ... 'ROTORWAY EXEC 162-F' 'KITFOX S5'\n",
      " 'M-8 EAGLE']\n",
      "\n",
      "********\n",
      "Unique values in column 'Amateur.Built':\n",
      "['No' 'Yes' nan]\n",
      "\n",
      "********\n",
      "Unique values in column 'Number.of.Engines':\n",
      "[ 1. nan  2.  0.  3.  4.  8.  6.]\n",
      "\n",
      "********\n",
      "Unique values in column 'Engine.Type':\n",
      "['Reciprocating' nan 'Turbo Fan' 'Turbo Shaft' 'Unknown' 'Turbo Prop'\n",
      " 'Turbo Jet' 'None' 'Electric' 'Hybrid Rocket' 'Geared Turbofan' 'LR'\n",
      " 'NONE' 'UNK']\n",
      "\n",
      "********\n",
      "Unique values in column 'Purpose.of.flight':\n",
      "['Personal' nan 'Business' 'Instructional' 'Unknown' 'Ferry'\n",
      " 'Executive/corporate' 'Aerial Observation' 'Aerial Application'\n",
      " 'Public Aircraft' 'Skydiving' 'Other Work Use' 'Positioning'\n",
      " 'Flight Test' 'Air Race/show' 'Air Drop' 'Public Aircraft - Federal'\n",
      " 'Glider Tow' 'Public Aircraft - Local' 'External Load'\n",
      " 'Public Aircraft - State' 'Banner Tow' 'Firefighting' 'Air Race show'\n",
      " 'PUBS' 'ASHO' 'PUBL']\n",
      "\n",
      "********\n",
      "Unique values in column 'Total.Fatal.Injuries':\n",
      "[  2.   4.   3.   1.  nan   0.   8.  78.   7.   6.   5. 153.  12.  14.\n",
      "  23.  10.  11.   9.  17.  13.  29.  70. 135.  31. 256.  25.  82. 156.\n",
      "  28.  18.  43.  15. 270. 144. 174. 111. 131.  20.  73.  27.  34.  87.\n",
      "  30.  16.  47.  56.  37. 132.  68.  54.  52.  65.  72. 160. 189. 123.\n",
      "  33. 110. 230.  97. 349. 125.  35. 228.  75. 104. 229.  80. 217. 169.\n",
      "  88.  19.  60. 113. 143.  83.  24.  44.  64.  92. 118. 265.  26. 138.\n",
      " 206.  71.  21.  46. 102. 115. 141.  55. 121.  45. 145. 117. 107. 124.\n",
      "  49. 154.  96. 114. 199.  89.  57. 152.  90. 103. 158. 157.  42.  77.\n",
      " 127.  50. 239. 295.  58. 162. 150. 224.  62.  66. 112. 188.  41. 176.]\n",
      "\n",
      "********\n",
      "Unique values in column 'Total.Serious.Injuries':\n",
      "[  0.  nan   2.   1.   6.   4.   5.  10.   3.   8.   9.   7.  15.  17.\n",
      "  28.  26.  47.  14.  81.  13. 106.  60.  16.  21.  50.  44.  18.  12.\n",
      "  45.  39.  43.  11.  25.  59.  23.  55.  63.  88.  41.  34.  53.  33.\n",
      "  67.  35.  20. 137.  19.  27. 125. 161.  22.]\n",
      "\n",
      "********\n",
      "Unique values in column 'Total.Minor.Injuries':\n",
      "[  0.  nan   1.   3.   2.   4.  24.   6.   5.  25.  17.  19.  33.  14.\n",
      "   8.  13.  15.   7.   9.  16.  20.  11.  12.  10.  38.  42.  29.  62.\n",
      "  28.  31.  39.  32.  18.  27.  57.  50.  23. 125.  45.  26.  36.  69.\n",
      "  21.  96.  30.  22.  58. 171.  65.  71. 200.  68.  47. 380.  35.  43.\n",
      "  84.  40.]\n",
      "\n",
      "********\n",
      "Unique values in column 'Total.Uninjured':\n",
      "[  0.  nan  44.   2.   1.   3.   6.   4. 149.  12. 182. 154.   5.  10.\n",
      "   7. 119.  36.  51.  16.  83.   9.  68.  30.  20.  18.   8. 108.  11.\n",
      " 152.  21.  48.  56. 113. 129. 109.  29.  13.  84.  74. 142. 102. 393.\n",
      " 128. 112.  17.  65.  67. 136.  23. 116.  22.  57.  58.  73. 203.  31.\n",
      " 201. 412. 159.  39. 186. 588.  82.  95. 146. 190. 245. 172.  52.  25.\n",
      "  59. 131. 151. 180. 150.  86.  19. 133. 240.  15. 145. 125. 440.  77.\n",
      " 122. 205. 289. 110.  79.  66.  87.  78.  49. 104. 250.  33. 138. 100.\n",
      "  53. 158. 127. 160. 260.  47.  38. 165. 495.  81.  41.  14.  72.  98.\n",
      " 263. 188. 239.  27. 105. 111. 212. 157.  46. 121.  75.  71.  45.  91.\n",
      "  99.  85.  96.  50.  93. 276. 365. 371. 200. 103. 189.  37. 107.  61.\n",
      "  26. 271. 130.  89. 439. 132. 219.  43. 238. 195. 118. 175.  32. 507.\n",
      " 421.  90. 225. 269. 169. 236. 224. 134. 106. 331. 140.  94. 192. 161.\n",
      " 270.  69. 436. 213. 233. 115.  42. 167. 137. 114. 148. 222.  92. 375.\n",
      "  76. 171. 173. 246. 234. 123. 220. 202. 408. 279. 363. 135. 528. 334.\n",
      " 178. 147. 126.  62.  70.  97. 228. 226.  64. 290. 206. 297. 349. 208.\n",
      " 144.  54.  24. 258. 304. 274. 286.  55. 199. 221.  80. 272. 211. 262.\n",
      " 441. 194. 309. 185. 261. 241. 383. 177. 259. 244. 254. 156.  40.  34.\n",
      " 247. 176.  63.  28. 218. 282. 320. 204. 124. 215. 298. 120. 280. 179.\n",
      " 315. 461. 153.  60. 308.  88. 361. 277. 191. 235. 187. 101. 162.  35.\n",
      " 197. 193. 164. 370. 387. 163. 139. 267. 357. 339. 288. 231. 300. 255.\n",
      " 306. 443. 385. 248. 459. 141. 414. 229. 166. 209. 184. 168. 170. 198.\n",
      " 299. 573. 223. 265. 322. 196. 117. 253. 399. 360. 252. 217. 155. 183.\n",
      " 227. 249. 329. 340. 699. 325. 287. 143. 243. 230. 386. 181. 257. 283.\n",
      " 404. 319. 450. 356. 216. 174. 558. 214. 448. 324. 338. 273. 232. 401.\n",
      " 312. 368. 501. 237. 307. 296. 291. 403. 314. 285. 311. 293. 352. 332.\n",
      " 384. 275. 210. 268. 326. 454. 278. 576. 380. 394. 362. 397. 359. 264.\n",
      " 333. 367. 302. 348. 351. 358. 295. 321. 521. 301. 294. 378. 207. 406.\n",
      " 251. 455.]\n",
      "\n",
      "********\n",
      "Unique values in column 'Weather.Condition':\n",
      "['UNK' 'IMC' 'VMC' nan 'Unk']\n",
      "\n",
      "********\n",
      "Unique values in column 'Broad.phase.of.flight':\n",
      "['Cruise' 'Unknown' 'Approach' 'Climb' 'Takeoff' 'Landing' 'Taxi'\n",
      " 'Descent' 'Maneuvering' 'Standing' 'Go-around' 'Other' nan]\n",
      "\n",
      "********\n"
     ]
    }
   ],
   "source": [
    "for col in df.columns:\n",
    "  print(f\"Unique values in column '{col}':\")\n",
    "  print(df[col].unique())\n",
    "  print(\"\\n********\")"
   ]
  },
  {
   "cell_type": "markdown",
   "metadata": {},
   "source": [
    "##### 1.4.2 Convert date column to datetime type "
   ]
  },
  {
   "cell_type": "code",
   "execution_count": 12,
   "metadata": {},
   "outputs": [
    {
     "data": {
      "text/plain": [
       "dtype('O')"
      ]
     },
     "execution_count": 12,
     "metadata": {},
     "output_type": "execute_result"
    }
   ],
   "source": [
    "#checking the current type\n",
    "df['Event.Date'].dtype"
   ]
  },
  {
   "cell_type": "code",
   "execution_count": 13,
   "metadata": {},
   "outputs": [
    {
     "data": {
      "text/plain": [
       "dtype('<M8[ns]')"
      ]
     },
     "execution_count": 13,
     "metadata": {},
     "output_type": "execute_result"
    }
   ],
   "source": [
    "#Coverting the event.date into a datetime type\n",
    "df['Event.Date'] = pd.to_datetime(df['Event.Date'], errors='coerce')\n",
    "df['Event.Date'].dtype"
   ]
  },
  {
   "cell_type": "code",
   "execution_count": 14,
   "metadata": {},
   "outputs": [
    {
     "data": {
      "text/plain": [
       "0"
      ]
     },
     "execution_count": 14,
     "metadata": {},
     "output_type": "execute_result"
    }
   ],
   "source": [
    "#checking for null\n",
    "df['Event.Date'].isna().sum()"
   ]
  },
  {
   "cell_type": "markdown",
   "metadata": {},
   "source": [
    "##### 1.4.3 Cleaning Categorical Columns \n",
    " **Here we will impute/drop null values/rows and standardize unique values.**"
   ]
  },
  {
   "cell_type": "markdown",
   "metadata": {},
   "source": [
    "###### 1.4.3.1: Column-->Location"
   ]
  },
  {
   "cell_type": "code",
   "execution_count": 15,
   "metadata": {},
   "outputs": [
    {
     "data": {
      "text/plain": [
       "0.05849992687509141"
      ]
     },
     "execution_count": 15,
     "metadata": {},
     "output_type": "execute_result"
    }
   ],
   "source": [
    "#checking proportion of null values\n",
    "df['Location'].isna().mean()*100"
   ]
  },
  {
   "cell_type": "code",
   "execution_count": 16,
   "metadata": {},
   "outputs": [],
   "source": [
    "df.dropna(subset=['Location'], inplace=True)"
   ]
  },
  {
   "cell_type": "markdown",
   "metadata": {},
   "source": [
    "**The `Location` column had 52 missing values, representing just 0.06% of the dataset.\n",
    "Given the minimal proportion, dropping these rows is unlikely to affect the analysis significantly.**\n",
    "\n",
    "\n",
    "\n"
   ]
  },
  {
   "cell_type": "markdown",
   "metadata": {},
   "source": [
    "###### 1.4.3.2: Column-->Country"
   ]
  },
  {
   "cell_type": "code",
   "execution_count": 17,
   "metadata": {},
   "outputs": [
    {
     "data": {
      "text/plain": [
       "0.25327284802503464"
      ]
     },
     "execution_count": 17,
     "metadata": {},
     "output_type": "execute_result"
    }
   ],
   "source": [
    "#checking proportion of null values\n",
    "df['Country'].isna().mean()*100"
   ]
  },
  {
   "cell_type": "code",
   "execution_count": 18,
   "metadata": {},
   "outputs": [
    {
     "data": {
      "text/plain": [
       "array(['United States', nan, 'GULF OF MEXICO', 'Puerto Rico',\n",
       "       'ATLANTIC OCEAN', 'HIGH ISLAND', 'Bahamas', 'MISSING', 'Angola',\n",
       "       'Germany', 'Korea, Republic Of', 'American Samoa', 'PACIFIC OCEAN',\n",
       "       'Canada', 'Bolivia', 'Mexico', 'Dominica', 'Netherlands Antilles',\n",
       "       'Iceland', 'Greece', 'Guam', 'Australia', 'CARIBBEAN SEA',\n",
       "       'West Indies', 'Japan', 'Philippines', 'Venezuela', 'Bermuda',\n",
       "       'San Juan Islands', 'Colombia', 'El Salvador', 'United Kingdom',\n",
       "       'British Virgin Islands', 'Netherlands', 'Costa Rica',\n",
       "       'Mozambique', 'Jamaica', 'Panama', 'Guyana', 'Norway', 'Portugal',\n",
       "       'Malaysia', 'Turks And Caicos Islands', 'Northern Mariana Islands',\n",
       "       'Dominican Republic', 'Suriname', 'Honduras', 'Congo', 'Belize',\n",
       "       'Guatemala', 'France', 'St Vincent And The Grenadines', 'Haiti',\n",
       "       'Papua New Guinea', 'Cayman Islands', 'Sweden', 'Taiwan',\n",
       "       'Senegal', 'Barbados', 'BLOCK 651A', 'Brazil', 'Mauritius',\n",
       "       'Argentina', 'Kenya', 'Ecuador', 'Aruba', 'Saudi Arabia', 'Cuba',\n",
       "       'Italy', 'French Guiana', 'Denmark', 'Sudan', 'Spain',\n",
       "       'Federated States Of Micronesia', 'St Lucia',\n",
       "       'Central African Republic', 'Algeria', 'Turkey', 'Nicaragua',\n",
       "       'Marshall Islands', 'Switzerland', 'Trinidad And Tobago', 'Poland',\n",
       "       'Belarus', 'Austria', 'Malta', 'Cameroon', 'Solomon Islands',\n",
       "       'Peru', 'Croatia', 'Martinique', 'South Africa', 'India',\n",
       "       'Ethiopia', 'Ireland', 'Chile', 'Antigua And Barbuda', 'Uganda',\n",
       "       'China', 'Paraguay', 'Thailand', 'Belgium', 'Gambia', 'Uruguay',\n",
       "       'Tanzania', 'Mali', 'Bahrain', 'Kazakhstan', 'Egypt', 'Russia',\n",
       "       'Cyprus', 'Greenland', 'New Zealand', 'Indonesia', 'Ghana',\n",
       "       'Gabon', 'Nepal', 'Slovakia', 'Liberia', 'Finland', 'Romania',\n",
       "       'Maldives', 'Antarctica', \"Cote D'ivoire\", 'Zimbabwe',\n",
       "       'Isle of Man', 'Latvia', 'Niger', 'Fiji', 'French Polynesia',\n",
       "       'Guadeloupe', 'Ivory Coast', 'Vietnam', 'Tunisia', 'Eritrea',\n",
       "       'Nigeria', 'Botswana', 'Gibraltar', 'Namibia', 'Czech Republic',\n",
       "       'Singapore', 'Benin', 'Bosnia And Herzegovina', 'Israel',\n",
       "       'Estonia', 'St Kitts And Nevis', 'Sierra Leone', 'Corsica',\n",
       "       'Zambia', 'Scotland', 'Reunion', 'United Arab Emirates',\n",
       "       'Afghanistan', 'Ukraine', 'Hungary', 'Bangladesh', 'Morocco',\n",
       "       'Iraq', 'Jordan', 'Pakistan', 'Qatar', 'Madagascar', 'Malawi',\n",
       "       'Unknown', 'Central Africa', 'South Sudan', 'Saint Barthelemy',\n",
       "       'Micronesia', 'South Korea', 'Kyrgyzstan', 'Turks And Caicos',\n",
       "       'Eswatini', 'Tokelau', 'Sint Maarten', 'Macao', 'Seychelles',\n",
       "       'Rwanda', 'Palau', 'Luxembourg', 'Lebanon',\n",
       "       'Bosnia and Herzegovina', 'Libya', 'Hong Kong', 'Guinea',\n",
       "       'Saint Vincent and the Grenadines', 'UN', 'Iran', 'Lithuania',\n",
       "       'Malampa', 'Antigua and Barbuda', 'AY', 'Chad', 'Cayenne',\n",
       "       'New Caledonia', 'Yemen', 'Slovenia', 'Nauru', 'Niue', 'Bulgaria',\n",
       "       'Republic of North Macedonia', 'Virgin Islands', 'Somalia',\n",
       "       'Pacific Ocean', 'Obyan', 'Mauritania', 'Albania', 'Wolseley',\n",
       "       'Wallis and Futuna', 'Saint Pierre and Miquelon', 'Georgia',\n",
       "       \"Côte d'Ivoire\", 'South Korean', 'Serbia', 'MU', 'Guernsey',\n",
       "       'Great Britain', 'Turks and Caicos Islands'], dtype=object)"
      ]
     },
     "execution_count": 18,
     "metadata": {},
     "output_type": "execute_result"
    }
   ],
   "source": [
    "#checking unique values\n",
    "df['Country'].unique()"
   ]
  },
  {
   "cell_type": "code",
   "execution_count": 19,
   "metadata": {},
   "outputs": [],
   "source": [
    "#going through the list above, the names below are not indicative of any country in particular\n",
    "invalid_names = [ 'GULF OF MEXICO', 'ATLANTIC OCEAN', 'HIGH ISLAND', 'PACIFIC OCEAN',\n",
    "    'CARIBBEAN SEA', 'San Juan Islands', 'BLOCK 651A',\n",
    "    'Wolseley', 'Obyan', 'AY', 'Cayenne', 'UN']\n",
    "\n",
    "df['Country'] = df['Country'].replace(invalid_names, 'Unknown')\n",
    "\n",
    "country_name_var = {\n",
    "    'Ivory Coast': \"Côte d'Ivoire\",\n",
    "    \"Cote D'ivoire\": \"Côte d'Ivoire\",\n",
    "    'South Korean': 'South Korea',\n",
    "    'Korea, Republic Of': 'South Korea',\n",
    "    'Central Africa': 'Central Africa Republic',\n",
    "    'Bosnia And Herzegovina': 'Bosnia and Herzegovina',\n",
    "    'St Vincent And The Grenadines': 'Saint Vincent and the Grenadines',\n",
    "    'Antigua And Barbuda': 'Antigua and Barbuda',\n",
    "    'Turks And Caicos': 'Turks and Caicos Islands',\n",
    "    'Turks And Caicos Islands': 'Turks and Caicos Islands',\n",
    "    'Great Britain': 'United Kingdom',\n",
    "    'Scotland': 'United Kingdom',\n",
    "}\n",
    "\n",
    "df['Country'] = df['Country'].replace(country_name_var)\n",
    "df['Country'] = df['Country'].fillna('Unknown')"
   ]
  },
  {
   "cell_type": "markdown",
   "metadata": {},
   "source": [
    "**For the column `Country`, I started by replacing 12 invalid geographic entries with 'Unknown', \n",
    "and unified inconsistent country names like 'Ivory Coast' → 'Côte d'Ivoire' and finally filled the missing values with 'Unknown'. Since 'Unknown' is already a valid category in the column,dropping the null values was not necessary and could have led to data loss.**"
   ]
  },
  {
   "cell_type": "markdown",
   "metadata": {},
   "source": [
    "###### 1.4.3.3: Column-->Airport.Name"
   ]
  },
  {
   "cell_type": "code",
   "execution_count": 20,
   "metadata": {},
   "outputs": [
    {
     "data": {
      "text/plain": [
       "40.578812882019875"
      ]
     },
     "execution_count": 20,
     "metadata": {},
     "output_type": "execute_result"
    }
   ],
   "source": [
    "#checking proportion of null values\n",
    "df['Airport.Name'].isna().mean()*100"
   ]
  },
  {
   "cell_type": "code",
   "execution_count": 21,
   "metadata": {},
   "outputs": [
    {
     "data": {
      "text/plain": [
       "array([nan, 'BLACKBURN AG STRIP', 'HANOVER', ...,\n",
       "       'HAWKINSVILLE-PULASKI COUNTY', 'Lewiston Municipal Airport',\n",
       "       'WICHITA DWIGHT D EISENHOWER NT'], dtype=object)"
      ]
     },
     "execution_count": 21,
     "metadata": {},
     "output_type": "execute_result"
    }
   ],
   "source": [
    "#checking unique values\n",
    "df['Airport.Name'].unique()"
   ]
  },
  {
   "cell_type": "code",
   "execution_count": 22,
   "metadata": {},
   "outputs": [
    {
     "data": {
      "text/plain": [
       "0.0"
      ]
     },
     "execution_count": 22,
     "metadata": {},
     "output_type": "execute_result"
    }
   ],
   "source": [
    "#Imputing the nan values with UNKNOWN\n",
    "df['Airport.Name'].fillna('UNKNOWN', inplace=True)\n",
    "df['Airport.Name'].isna().mean()*100"
   ]
  },
  {
   "cell_type": "markdown",
   "metadata": {},
   "source": [
    "###### 1.4.3.4: Column-->Injury.Severity"
   ]
  },
  {
   "cell_type": "code",
   "execution_count": 23,
   "metadata": {},
   "outputs": [
    {
     "data": {
      "text/plain": [
       "1.1256571023334871"
      ]
     },
     "execution_count": 23,
     "metadata": {},
     "output_type": "execute_result"
    }
   ],
   "source": [
    "#checking proportion of null values\n",
    "df['Injury.Severity'].isna().mean()*100"
   ]
  },
  {
   "cell_type": "code",
   "execution_count": 24,
   "metadata": {},
   "outputs": [
    {
     "data": {
      "text/plain": [
       "array(['Fatal(2)', 'Fatal(4)', 'Fatal(3)', 'Fatal(1)', 'Non-Fatal',\n",
       "       'Incident', 'Fatal(8)', 'Fatal(78)', 'Fatal(7)', 'Fatal(6)',\n",
       "       'Fatal(5)', 'Fatal(153)', 'Fatal(12)', 'Fatal(14)', 'Fatal(23)',\n",
       "       'Fatal(10)', 'Fatal(11)', 'Fatal(9)', 'Fatal(17)', 'Fatal(13)',\n",
       "       'Fatal(29)', 'Fatal(70)', 'Unavailable', 'Fatal(135)', 'Fatal(31)',\n",
       "       'Fatal(256)', 'Fatal(25)', 'Fatal(82)', 'Fatal(156)', 'Fatal(28)',\n",
       "       'Fatal(18)', 'Fatal(43)', 'Fatal(15)', 'Fatal(270)', 'Fatal(144)',\n",
       "       'Fatal(174)', 'Fatal(111)', 'Fatal(131)', 'Fatal(20)', 'Fatal(73)',\n",
       "       'Fatal(27)', 'Fatal(34)', 'Fatal(87)', 'Fatal(30)', 'Fatal(16)',\n",
       "       'Fatal(47)', 'Fatal(56)', 'Fatal(37)', 'Fatal(132)', 'Fatal(68)',\n",
       "       'Fatal(54)', 'Fatal(52)', 'Fatal(65)', 'Fatal(72)', 'Fatal(160)',\n",
       "       'Fatal(189)', 'Fatal(123)', 'Fatal(33)', 'Fatal(110)',\n",
       "       'Fatal(230)', 'Fatal(97)', 'Fatal(349)', 'Fatal(125)', 'Fatal(35)',\n",
       "       'Fatal(228)', 'Fatal(75)', 'Fatal(104)', 'Fatal(229)', 'Fatal(80)',\n",
       "       'Fatal(217)', 'Fatal(169)', 'Fatal(88)', 'Fatal(19)', 'Fatal(60)',\n",
       "       'Fatal(113)', 'Fatal(143)', 'Fatal(83)', 'Fatal(24)', 'Fatal(44)',\n",
       "       'Fatal(64)', 'Fatal(92)', 'Fatal(118)', 'Fatal(265)', 'Fatal(26)',\n",
       "       'Fatal(138)', 'Fatal(206)', 'Fatal(71)', 'Fatal(21)', 'Fatal(46)',\n",
       "       'Fatal(102)', 'Fatal(115)', 'Fatal(141)', 'Fatal(55)',\n",
       "       'Fatal(121)', 'Fatal(45)', 'Fatal(145)', 'Fatal(117)',\n",
       "       'Fatal(107)', 'Fatal(124)', 'Fatal(49)', 'Fatal(154)', 'Fatal(96)',\n",
       "       'Fatal(114)', 'Fatal(199)', 'Fatal(89)', 'Fatal(57)', 'Fatal', nan,\n",
       "       'Minor', 'Serious'], dtype=object)"
      ]
     },
     "execution_count": 24,
     "metadata": {},
     "output_type": "execute_result"
    }
   ],
   "source": [
    "#checking unique values\n",
    "df['Injury.Severity'].unique()"
   ]
  },
  {
   "cell_type": "code",
   "execution_count": 25,
   "metadata": {},
   "outputs": [],
   "source": [
    "df.dropna(subset=['Injury.Severity'], inplace=True)"
   ]
  },
  {
   "cell_type": "markdown",
   "metadata": {},
   "source": [
    "**The `Injury.Severity` column had null rows representing 1.1% of the dataset.\n",
    "Given the minimal proportion, dropping these rows is unlikely to affect the analysis significantly.**"
   ]
  },
  {
   "cell_type": "markdown",
   "metadata": {},
   "source": [
    "###### 1.4.3.5: Column-->Aircraft.damage"
   ]
  },
  {
   "cell_type": "code",
   "execution_count": 26,
   "metadata": {},
   "outputs": [
    {
     "data": {
      "text/plain": [
       "3.0533829707298747"
      ]
     },
     "execution_count": 26,
     "metadata": {},
     "output_type": "execute_result"
    }
   ],
   "source": [
    "#checking proportion of null values\n",
    "df['Aircraft.damage'].isna().mean()*100"
   ]
  },
  {
   "cell_type": "code",
   "execution_count": 27,
   "metadata": {},
   "outputs": [
    {
     "data": {
      "text/plain": [
       "array(['Destroyed', 'Substantial', 'Minor', nan, 'Unknown'], dtype=object)"
      ]
     },
     "execution_count": 27,
     "metadata": {},
     "output_type": "execute_result"
    }
   ],
   "source": [
    "#checking unique values\n",
    "df['Aircraft.damage'].unique()"
   ]
  },
  {
   "cell_type": "code",
   "execution_count": 28,
   "metadata": {},
   "outputs": [
    {
     "data": {
      "text/plain": [
       "Substantial    63951\n",
       "Destroyed      18537\n",
       "Minor           2575\n",
       "Unknown           92\n",
       "Name: Aircraft.damage, dtype: int64"
      ]
     },
     "execution_count": 28,
     "metadata": {},
     "output_type": "execute_result"
    }
   ],
   "source": [
    "df['Aircraft.damage'].value_counts()"
   ]
  },
  {
   "cell_type": "code",
   "execution_count": 29,
   "metadata": {},
   "outputs": [],
   "source": [
    "#Imputing using the string Unknown\n",
    "df['Aircraft.damage'] = df['Aircraft.damage'].fillna('Unknown')"
   ]
  },
  {
   "cell_type": "markdown",
   "metadata": {},
   "source": [
    "**I decided to impute with the string \"Unknown\" as opposed to \"Substantial\" which is the mode since it will help preserve the integrity of actual damage distribution and avoid biasing results.**\n"
   ]
  },
  {
   "cell_type": "markdown",
   "metadata": {},
   "source": [
    "###### 1.4.3.6: Column-->Aircraft.Category"
   ]
  },
  {
   "cell_type": "code",
   "execution_count": 30,
   "metadata": {},
   "outputs": [
    {
     "data": {
      "text/plain": [
       "64.2587975454535"
      ]
     },
     "execution_count": 30,
     "metadata": {},
     "output_type": "execute_result"
    }
   ],
   "source": [
    "#checking proportion of null values\n",
    "df['Aircraft.Category'].isna().mean()*100"
   ]
  },
  {
   "cell_type": "code",
   "execution_count": 31,
   "metadata": {},
   "outputs": [
    {
     "data": {
      "text/plain": [
       "array([nan, 'Airplane', 'Helicopter', 'Glider', 'Balloon', 'Gyrocraft',\n",
       "       'Ultralight', 'Unknown', 'Blimp', 'Powered-Lift', 'Weight-Shift',\n",
       "       'Powered Parachute', 'Rocket', 'WSFT', 'ULTR'], dtype=object)"
      ]
     },
     "execution_count": 31,
     "metadata": {},
     "output_type": "execute_result"
    }
   ],
   "source": [
    "#checking unique values\n",
    "df['Aircraft.Category'].unique()"
   ]
  },
  {
   "cell_type": "code",
   "execution_count": 32,
   "metadata": {},
   "outputs": [
    {
     "data": {
      "text/plain": [
       "Airplane             26796\n",
       "Helicopter            3373\n",
       "Glider                 508\n",
       "Balloon                231\n",
       "Gyrocraft              173\n",
       "Weight-Shift           161\n",
       "Powered Parachute       91\n",
       "Ultralight              30\n",
       "Unknown                 11\n",
       "WSFT                     9\n",
       "Powered-Lift             5\n",
       "Blimp                    4\n",
       "Rocket                   1\n",
       "ULTR                     1\n",
       "Name: Aircraft.Category, dtype: int64"
      ]
     },
     "execution_count": 32,
     "metadata": {},
     "output_type": "execute_result"
    }
   ],
   "source": [
    "df['Aircraft.Category'].value_counts()"
   ]
  },
  {
   "cell_type": "code",
   "execution_count": 33,
   "metadata": {},
   "outputs": [],
   "source": [
    "#Imputing null with Unknown string\n",
    "df['Aircraft.Category'].fillna(\"Unknown\", inplace=True)"
   ]
  },
  {
   "cell_type": "markdown",
   "metadata": {},
   "source": [
    "**I decided to impute with the string \"Unknown\" as opposed to mode of the column:\n",
    "This will help preserve the integrity of the distribution and avoid biasing results.**"
   ]
  },
  {
   "cell_type": "markdown",
   "metadata": {},
   "source": [
    "###### 1.4.3.7: Column-->Make, Model, Amateur.Built"
   ]
  },
  {
   "cell_type": "code",
   "execution_count": 34,
   "metadata": {},
   "outputs": [
    {
     "name": "stdout",
     "output_type": "stream",
     "text": [
      "Column Name: Make\n",
      "0.05236973029588898\n",
      "*****\n",
      "Column Name: Model\n",
      "0.08197001263704362\n",
      "*****\n",
      "Column Name: Amateur.Built\n",
      "0.11157029497819826\n",
      "*****\n"
     ]
    }
   ],
   "source": [
    "#Creating a list of columns describing aircraft Build Characteristics \n",
    "build_columns = ['Make', 'Model', 'Amateur.Built']\n",
    "\n",
    "#checking null proportion\n",
    "for col in build_columns:\n",
    "        print(f\"Column Name: {col}\")\n",
    "        print(df[col].isna().mean()*100)\n",
    "        print(\"*****\")"
   ]
  },
  {
   "cell_type": "code",
   "execution_count": 36,
   "metadata": {},
   "outputs": [],
   "source": [
    "#dropping the null rows\n",
    "df.dropna(subset=['Make', 'Model', 'Amateur.Built'], inplace=True)"
   ]
  },
  {
   "cell_type": "code",
   "execution_count": 37,
   "metadata": {},
   "outputs": [
    {
     "name": "stdout",
     "output_type": "stream",
     "text": [
      "Column Name: Make\n",
      "Cessna                      22193\n",
      "Piper                       12012\n",
      "CESSNA                       4838\n",
      "Beech                        4321\n",
      "PIPER                        2813\n",
      "                            ...  \n",
      "Worcester Everett               1\n",
      "CIRRUS DESIGN                   1\n",
      "TWENTY SECOND STREET LLC        1\n",
      "Scheicher                       1\n",
      "Aero Tek, Inc.                  1\n",
      "Name: Make, Length: 8197, dtype: int64\n",
      "*****\n",
      "Column Name: Model\n",
      "152                  2360\n",
      "172                  1741\n",
      "172N                 1161\n",
      "PA-28-140             930\n",
      "150                   825\n",
      "                     ... \n",
      "RS15                    1\n",
      "HU16A                   1\n",
      "SUPER PETREL LS         1\n",
      "551 (Citation II)       1\n",
      "LAKE MODEL 250          1\n",
      "Name: Model, Length: 12165, dtype: int64\n",
      "*****\n",
      "Column Name: Amateur.Built\n",
      "No     79215\n",
      "Yes     8436\n",
      "Name: Amateur.Built, dtype: int64\n",
      "*****\n"
     ]
    }
   ],
   "source": [
    "#checking unique items value counts\n",
    "for col in build_columns:\n",
    "        print(f\"Column Name: {col}\")\n",
    "        print(df[col].value_counts())\n",
    "        print(\"*****\")"
   ]
  },
  {
   "cell_type": "code",
   "execution_count": 45,
   "metadata": {},
   "outputs": [],
   "source": [
    "# Stripping whitespace and converting to lower case for Make, upper case for Model if needed\n",
    "df['Make'] = df['Make'].str.strip().str.lower()\n",
    "df['Model'] = df['Model'].str.strip().str.upper()\n",
    "\n",
    "#standardizing names for make\n",
    "make_map = {\n",
    "    'cessna aircraft co': 'cessna',\n",
    "    'cessna aircraft company': 'cessna',\n",
    "    'piper aircraft inc': 'piper',\n",
    "    'piper aircraft corporation': 'piper',\n",
    "    'robinson helicopter company': 'robinson',\n",
    "    'robinson helicopter co': 'robinson',\n",
    "    'md helicopters inc': 'md helicopter',\n",
    "}\n",
    "df['Make'] = df['Make'].replace(make_map)\n",
    "\n"
   ]
  },
  {
   "cell_type": "code",
   "execution_count": 39,
   "metadata": {},
   "outputs": [
    {
     "name": "stdout",
     "output_type": "stream",
     "text": [
      "Column Name: Make\n",
      "cessna                 27066\n",
      "piper                  14862\n",
      "beech                   5345\n",
      "bell                    2696\n",
      "boeing                  2239\n",
      "                       ...  \n",
      "young robert herman        1\n",
      "elan glaser dirks          1\n",
      "john a brewer              1\n",
      "meadows                    1\n",
      "turnbloom                  1\n",
      "Name: Make, Length: 7544, dtype: int64\n",
      "*****\n",
      "Column Name: Model\n",
      "152               2360\n",
      "172               1741\n",
      "172N              1161\n",
      "PA-28-140          930\n",
      "150                825\n",
      "                  ... \n",
      "172-B                1\n",
      "CC-18-180            1\n",
      "MD369                1\n",
      "MU-2B-35J            1\n",
      "LAKE MODEL 250       1\n",
      "Name: Model, Length: 11497, dtype: int64\n",
      "*****\n",
      "Column Name: Amateur.Built\n",
      "No     79215\n",
      "Yes     8436\n",
      "Name: Amateur.Built, dtype: int64\n",
      "*****\n"
     ]
    }
   ],
   "source": [
    "#checking unique items value counts\n",
    "for col in build_columns:\n",
    "        print(f\"Column Name: {col}\")\n",
    "        print(df[col].value_counts())\n",
    "        print(\"*****\")"
   ]
  },
  {
   "cell_type": "markdown",
   "metadata": {},
   "source": [
    "**To clean and standardize the aircraft build attributes, I first focused on the key columns: `Make`, `Model`, and `Amateur.Built`. Assessing the proportion of missing values in each column, I realized they are below 0.12%, and determined it was reasonable to drop these rows without significantly impacting the dataset. After dropping the nulls, I examined the distribution of unique values using `value_counts()` for each column. To ensure consistency, I standardized the text formatting by stripping whitespace and converting all entries in the `Make` column to lowercase and those in the `Model` column to uppercase. Finally, I normalized manufacturer names by replacing known variations with standardized names for example, mapping `'cessna aircraft company'` and `'cessna aircraft co'` to `'cessna'`, and similar adjustments for Piper, Robinson, and MD Helicopters thus improving consistency for future grouping and analysis.**\n"
   ]
  },
  {
   "cell_type": "markdown",
   "metadata": {},
   "source": [
    "###### 1.4.3.8: Column-->Engine.Type"
   ]
  },
  {
   "cell_type": "code",
   "execution_count": 47,
   "metadata": {},
   "outputs": [
    {
     "data": {
      "text/plain": [
       "7.006195023445254"
      ]
     },
     "execution_count": 47,
     "metadata": {},
     "output_type": "execute_result"
    }
   ],
   "source": [
    "#checking proportion of null values\n",
    "df['Engine.Type'].isna().mean()*100"
   ]
  },
  {
   "cell_type": "code",
   "execution_count": 48,
   "metadata": {},
   "outputs": [
    {
     "data": {
      "text/plain": [
       "array(['Reciprocating', nan, 'Turbo Fan', 'Turbo Shaft', 'Unknown',\n",
       "       'Turbo Prop', 'Turbo Jet', 'None', 'Electric', 'Hybrid Rocket',\n",
       "       'Geared Turbofan', 'LR', 'NONE', 'UNK'], dtype=object)"
      ]
     },
     "execution_count": 48,
     "metadata": {},
     "output_type": "execute_result"
    }
   ],
   "source": [
    "#checking unique values\n",
    "df['Engine.Type'].unique()"
   ]
  },
  {
   "cell_type": "code",
   "execution_count": 49,
   "metadata": {},
   "outputs": [
    {
     "data": {
      "text/plain": [
       "Reciprocating      69446\n",
       "Turbo Shaft         3597\n",
       "Turbo Prop          3370\n",
       "Turbo Fan           2348\n",
       "Unknown             2017\n",
       "Turbo Jet            698\n",
       "None                  19\n",
       "Electric               8\n",
       "NONE                   2\n",
       "LR                     2\n",
       "UNK                    1\n",
       "Geared Turbofan        1\n",
       "Hybrid Rocket          1\n",
       "Name: Engine.Type, dtype: int64"
      ]
     },
     "execution_count": 49,
     "metadata": {},
     "output_type": "execute_result"
    }
   ],
   "source": [
    "df['Engine.Type'].value_counts()"
   ]
  },
  {
   "cell_type": "code",
   "execution_count": 50,
   "metadata": {},
   "outputs": [],
   "source": [
    "#Imputing Null with UNK and standardizing None to NONE and also Unknown to UNK\n",
    "df['Engine.Type'].fillna('UNK', inplace=True)\n",
    "df['Engine.Type'] = df['Engine.Type'].replace({'Unknown': 'UNK', 'None': 'NONE'})"
   ]
  },
  {
   "cell_type": "markdown",
   "metadata": {},
   "source": [
    "**The `Engine.Type` column contains inconsistent representations of missing or unknown values, such as `'nan'`, `'Unknown'`, and `'UNK'`, which all indicate a lack of engine type. Additionally, for aircraft with no engine, the values `'NONE'` and `'None'` are used interchangeably. To ensure consistency, we standardize these entries by replacing `'nan'` with `'UNK'`, and unifying all missing or unknown types under the `'UNK'` label. Similarly, we consolidate the `'NONE'` and `'None'` values into a single representation.**"
   ]
  },
  {
   "cell_type": "markdown",
   "metadata": {},
   "source": [
    "###### 1.4.3.9: Column-->Purpose.of.flight"
   ]
  },
  {
   "cell_type": "code",
   "execution_count": 51,
   "metadata": {},
   "outputs": [
    {
     "data": {
      "text/plain": [
       "5.861884062931398"
      ]
     },
     "execution_count": 51,
     "metadata": {},
     "output_type": "execute_result"
    }
   ],
   "source": [
    "#checking proportion of null values\n",
    "df['Purpose.of.flight'].isna().mean()*100"
   ]
  },
  {
   "cell_type": "code",
   "execution_count": 52,
   "metadata": {},
   "outputs": [
    {
     "data": {
      "text/plain": [
       "array(['Personal', nan, 'Business', 'Instructional', 'Unknown', 'Ferry',\n",
       "       'Executive/corporate', 'Aerial Observation', 'Aerial Application',\n",
       "       'Public Aircraft', 'Skydiving', 'Other Work Use', 'Positioning',\n",
       "       'Flight Test', 'Air Race/show', 'Air Drop',\n",
       "       'Public Aircraft - Federal', 'Glider Tow',\n",
       "       'Public Aircraft - Local', 'External Load',\n",
       "       'Public Aircraft - State', 'Banner Tow', 'Firefighting',\n",
       "       'Air Race show', 'PUBS', 'ASHO', 'PUBL'], dtype=object)"
      ]
     },
     "execution_count": 52,
     "metadata": {},
     "output_type": "execute_result"
    }
   ],
   "source": [
    "#checking unique values\n",
    "df['Purpose.of.flight'].unique()"
   ]
  },
  {
   "cell_type": "code",
   "execution_count": 53,
   "metadata": {},
   "outputs": [
    {
     "data": {
      "text/plain": [
       "Personal                     49372\n",
       "Instructional                10586\n",
       "Unknown                       6744\n",
       "Aerial Application            4709\n",
       "Business                      4009\n",
       "Positioning                   1643\n",
       "Other Work Use                1264\n",
       "Ferry                          808\n",
       "Aerial Observation             791\n",
       "Public Aircraft                719\n",
       "Executive/corporate            550\n",
       "Flight Test                    398\n",
       "Skydiving                      182\n",
       "External Load                  123\n",
       "Public Aircraft - Federal      104\n",
       "Banner Tow                     101\n",
       "Air Race show                   99\n",
       "Public Aircraft - Local         74\n",
       "Public Aircraft - State         63\n",
       "Air Race/show                   59\n",
       "Glider Tow                      53\n",
       "Firefighting                    40\n",
       "Air Drop                        11\n",
       "ASHO                             6\n",
       "PUBS                             4\n",
       "PUBL                             1\n",
       "Name: Purpose.of.flight, dtype: int64"
      ]
     },
     "execution_count": 53,
     "metadata": {},
     "output_type": "execute_result"
    }
   ],
   "source": [
    "df['Purpose.of.flight'].value_counts()"
   ]
  },
  {
   "cell_type": "code",
   "execution_count": 54,
   "metadata": {},
   "outputs": [
    {
     "data": {
      "text/plain": [
       "array(['Personal', 'Unknown', 'Business', 'Instructional', 'Ferry',\n",
       "       'Executive/corporate', 'Aerial Observation', 'Aerial Application',\n",
       "       'Public Aircraft', 'Skydiving', 'Other Work Use', 'Positioning',\n",
       "       'Flight Test', 'ASHO', 'Air Drop', 'Glider Tow', 'External Load',\n",
       "       'Banner Tow', 'Firefighting'], dtype=object)"
      ]
     },
     "execution_count": 54,
     "metadata": {},
     "output_type": "execute_result"
    }
   ],
   "source": [
    "#The null values are not many, can proceed to impute the string Unknown since it already exists\n",
    "df['Purpose.of.flight'].fillna('Unknown', inplace=True)\n",
    "df['Purpose.of.flight'] = df['Purpose.of.flight'].replace({\n",
    "    'Air Race show': 'ASHO',\n",
    "    'Air Race/show': 'ASHO',\n",
    "    'Public Aircraft - Federal': 'Public Aircraft',\n",
    "    'Public Aircraft - Local': 'Public Aircraft',\n",
    "    'Public Aircraft - State': 'Public Aircraft',\n",
    "    'PUBS': 'Public Aircraft',\n",
    "    'PUBL': 'Public Aircraft'\n",
    "})\n",
    "df['Purpose.of.flight'].unique()"
   ]
  },
  {
   "cell_type": "markdown",
   "metadata": {},
   "source": [
    "**The `Purpose.of.flight` column contained a small proportion of missing values, which made it reasonable to impute them using the string `'Unknown'` — a label already present in the dataset. After imputation, further cleaning was performed to standardize similar or redundant category labels. For example, different variants of air show-related purposes such as `'Air Race show'` and `'Air Race/show'` were combined under `'ASHO'`. Additionally, all forms of public aircraft — including `'Public Aircraft - Federal'`, `'Public Aircraft - Local'`, and `'Public Aircraft - State'`, as well as codes like `'PUBS'` and `'PUBL'` — were standardized to `'Public Aircraft'`. This will help reduced fragmented data and provide more clarity in visualization**"
   ]
  },
  {
   "cell_type": "markdown",
   "metadata": {},
   "source": [
    "###### 1.4.3.10: Column-->Broad.phase.of.flight"
   ]
  },
  {
   "cell_type": "code",
   "execution_count": 55,
   "metadata": {},
   "outputs": [
    {
     "data": {
      "text/plain": [
       "29.663095686301354"
      ]
     },
     "execution_count": 55,
     "metadata": {},
     "output_type": "execute_result"
    }
   ],
   "source": [
    "#checking proportion of null values\n",
    "df['Broad.phase.of.flight'].isna().mean()*100"
   ]
  },
  {
   "cell_type": "code",
   "execution_count": 56,
   "metadata": {},
   "outputs": [
    {
     "data": {
      "text/plain": [
       "array(['Cruise', 'Unknown', 'Approach', 'Climb', 'Takeoff', 'Landing',\n",
       "       'Taxi', 'Descent', 'Maneuvering', 'Standing', 'Go-around', 'Other',\n",
       "       nan], dtype=object)"
      ]
     },
     "execution_count": 56,
     "metadata": {},
     "output_type": "execute_result"
    }
   ],
   "source": [
    "#checking unique values\n",
    "df['Broad.phase.of.flight'].unique()"
   ]
  },
  {
   "cell_type": "code",
   "execution_count": 57,
   "metadata": {},
   "outputs": [
    {
     "data": {
      "text/plain": [
       "Landing        15417\n",
       "Takeoff        12476\n",
       "Cruise         10255\n",
       "Maneuvering     8134\n",
       "Approach        6537\n",
       "Climb           2028\n",
       "Taxi            1958\n",
       "Descent         1886\n",
       "Go-around       1353\n",
       "Standing         945\n",
       "Unknown          543\n",
       "Other            119\n",
       "Name: Broad.phase.of.flight, dtype: int64"
      ]
     },
     "execution_count": 57,
     "metadata": {},
     "output_type": "execute_result"
    }
   ],
   "source": [
    "df['Broad.phase.of.flight'].value_counts()"
   ]
  },
  {
   "cell_type": "code",
   "execution_count": 58,
   "metadata": {},
   "outputs": [],
   "source": [
    "#Imputing using Unknown\n",
    "df['Broad.phase.of.flight'].fillna('Unknown', inplace=True)"
   ]
  },
  {
   "cell_type": "markdown",
   "metadata": {},
   "source": [
    "The `Broad.phase.of.flight` column had approximately **29.66%** missing values. Since the value `'Unknown'` already exists in the dataset, missing entries were imputed with `'Unknown'` to maintain consistency and minimize information loss. The column contains well-defined flight phases such as `'Landing'`, `'Takeoff'`, and `'Cruise'`, so no further standardization is necessary.\n"
   ]
  },
  {
   "cell_type": "markdown",
   "metadata": {},
   "source": [
    "###### 1.4.3.11: Column-->Weather.Condition"
   ]
  },
  {
   "cell_type": "code",
   "execution_count": 59,
   "metadata": {},
   "outputs": [
    {
     "data": {
      "text/plain": [
       "3.974854821964381"
      ]
     },
     "execution_count": 59,
     "metadata": {},
     "output_type": "execute_result"
    }
   ],
   "source": [
    "#checking proportion of null values\n",
    "df['Weather.Condition'].isna().mean()*100"
   ]
  },
  {
   "cell_type": "code",
   "execution_count": 60,
   "metadata": {},
   "outputs": [
    {
     "data": {
      "text/plain": [
       "array(['UNK', 'IMC', 'VMC', nan, 'Unk'], dtype=object)"
      ]
     },
     "execution_count": 60,
     "metadata": {},
     "output_type": "execute_result"
    }
   ],
   "source": [
    "#checking unique values\n",
    "df['Weather.Condition'].unique()"
   ]
  },
  {
   "cell_type": "code",
   "execution_count": 61,
   "metadata": {},
   "outputs": [
    {
     "data": {
      "text/plain": [
       "VMC    77149\n",
       "IMC     5952\n",
       "UNK      829\n",
       "Unk      237\n",
       "Name: Weather.Condition, dtype: int64"
      ]
     },
     "execution_count": 61,
     "metadata": {},
     "output_type": "execute_result"
    }
   ],
   "source": [
    "df['Weather.Condition'].value_counts()"
   ]
  },
  {
   "cell_type": "code",
   "execution_count": 63,
   "metadata": {},
   "outputs": [],
   "source": [
    "#Imputing and standardizing the Unk to UNK\n",
    "df['Weather.Condition'] = df['Weather.Condition'].replace({'Unk': 'UNK'})\n",
    "df['Weather.Condition'].fillna('UNK', inplace=True)"
   ]
  },
  {
   "cell_type": "markdown",
   "metadata": {},
   "source": [
    "The `Weather.Condition` column has approximately **3.97%** missing values. Additionally, the column includes inconsistent representations of unknown values such as `'Unk'` and `'UNK'`.\n",
    "To address this:\n",
    "- All instances of `'Unk'` are standardized to `'UNK'`.\n",
    "- Missing values are imputed with `'UNK'`, which already exists in the dataset."
   ]
  },
  {
   "cell_type": "markdown",
   "metadata": {},
   "source": [
    "## Methods"
   ]
  },
  {
   "cell_type": "code",
   "execution_count": 66,
   "metadata": {},
   "outputs": [
    {
     "name": "stdout",
     "output_type": "stream",
     "text": [
      "<class 'pandas.core.frame.DataFrame'>\n",
      "Int64Index: 87651 entries, 0 to 88888\n",
      "Data columns (total 20 columns):\n",
      " #   Column                  Non-Null Count  Dtype         \n",
      "---  ------                  --------------  -----         \n",
      " 0   Investigation.Type      87651 non-null  object        \n",
      " 1   Event.Date              87651 non-null  datetime64[ns]\n",
      " 2   Location                87651 non-null  object        \n",
      " 3   Country                 87651 non-null  object        \n",
      " 4   Airport.Name            87651 non-null  object        \n",
      " 5   Injury.Severity         87651 non-null  object        \n",
      " 6   Aircraft.damage         87651 non-null  object        \n",
      " 7   Aircraft.Category       87651 non-null  object        \n",
      " 8   Make                    87651 non-null  object        \n",
      " 9   Model                   87651 non-null  object        \n",
      " 10  Amateur.Built           87651 non-null  object        \n",
      " 11  Number.of.Engines       82433 non-null  float64       \n",
      " 12  Engine.Type             87651 non-null  object        \n",
      " 13  Purpose.of.flight       87651 non-null  object        \n",
      " 14  Total.Fatal.Injuries    76342 non-null  float64       \n",
      " 15  Total.Serious.Injuries  75264 non-null  float64       \n",
      " 16  Total.Minor.Injuries    75845 non-null  float64       \n",
      " 17  Total.Uninjured         81830 non-null  float64       \n",
      " 18  Weather.Condition       87651 non-null  object        \n",
      " 19  Broad.phase.of.flight   87651 non-null  object        \n",
      "dtypes: datetime64[ns](1), float64(5), object(14)\n",
      "memory usage: 14.0+ MB\n"
     ]
    }
   ],
   "source": [
    "df.info()"
   ]
  },
  {
   "cell_type": "code",
   "execution_count": 46,
   "metadata": {},
   "outputs": [
    {
     "data": {
      "text/plain": [
       "Index(['Investigation.Type', 'Event.Date', 'Location', 'Country',\n",
       "       'Airport.Name', 'Injury.Severity', 'Aircraft.damage',\n",
       "       'Aircraft.Category', 'Make', 'Model', 'Amateur.Built',\n",
       "       'Number.of.Engines', 'Engine.Type', 'Purpose.of.flight',\n",
       "       'Total.Fatal.Injuries', 'Total.Serious.Injuries',\n",
       "       'Total.Minor.Injuries', 'Total.Uninjured', 'Weather.Condition',\n",
       "       'Broad.phase.of.flight'],\n",
       "      dtype='object')"
      ]
     },
     "execution_count": 46,
     "metadata": {},
     "output_type": "execute_result"
    }
   ],
   "source": [
    "df.columns"
   ]
  },
  {
   "cell_type": "markdown",
   "metadata": {},
   "source": [
    "## Results"
   ]
  },
  {
   "cell_type": "markdown",
   "metadata": {},
   "source": [
    "### Business Recommendation 1"
   ]
  },
  {
   "cell_type": "code",
   "execution_count": null,
   "metadata": {},
   "outputs": [],
   "source": []
  },
  {
   "cell_type": "markdown",
   "metadata": {},
   "source": [
    "### Business Recommendation 2"
   ]
  },
  {
   "cell_type": "code",
   "execution_count": null,
   "metadata": {},
   "outputs": [],
   "source": []
  },
  {
   "cell_type": "markdown",
   "metadata": {},
   "source": [
    "### Business Recommendation 3"
   ]
  },
  {
   "cell_type": "code",
   "execution_count": null,
   "metadata": {},
   "outputs": [],
   "source": []
  }
 ],
 "metadata": {
  "kernelspec": {
   "display_name": "Python 3",
   "language": "python",
   "name": "python3"
  },
  "language_info": {
   "codemirror_mode": {
    "name": "ipython",
    "version": 3
   },
   "file_extension": ".py",
   "mimetype": "text/x-python",
   "name": "python",
   "nbconvert_exporter": "python",
   "pygments_lexer": "ipython3",
   "version": "3.8.5"
  }
 },
 "nbformat": 4,
 "nbformat_minor": 4
}
